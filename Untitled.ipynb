{
 "cells": [
  {
   "cell_type": "code",
   "execution_count": 1,
   "metadata": {
    "collapsed": true
   },
   "outputs": [],
   "source": [
    "import pandas as pd\n",
    "import numpy as np\n",
    "import matplotlib.pyplot as plt\n",
    "%matplotlib inline\n",
    "import seaborn as sns\n",
    "sns.set_style('whitegrid')\n",
    "\n",
    "import sys\n",
    "import tempfile\n",
    "import itertools\n",
    "\n",
    "import tensorflow as tf\n",
    "\n",
    "from categorical_embedding_tf_train import loaddata, streaming_mape, input_fn\n",
    "from categorical_embedding_tf_model import build_estimator"
   ]
  },
  {
   "cell_type": "code",
   "execution_count": 2,
   "metadata": {
    "collapsed": true
   },
   "outputs": [],
   "source": [
    "sales = pd.read_csv('sales.txt',\n",
    "                    delimiter=';',\n",
    "                    nrows=None,\n",
    "                    parse_dates=['retailweek'],\n",
    "                    date_parser=(lambda dt: pd.to_datetime(dt, format='%Y-%m-%d')))\n",
    "\n",
    "attributes = pd.read_csv('article_attributes.txt', delimiter=';')\n",
    "\n",
    "\n",
    "sales['saleslog'] = np.log1p(sales['sales'])\n",
    "sales['saleslog'] = sales['saleslog'].astype(np.float32)\n",
    "\n",
    "features_x = ['regular_price', 'current_price', 'ratio', 'promo1', 'promo2']\n",
    "\n",
    "var_name = 'retailweek'\n",
    "\n",
    "sales['day'] = pd.Index(sales[var_name]).day\n",
    "sales['week'] = pd.Index(sales[var_name]).week\n",
    "sales['month'] = pd.Index(sales[var_name]).month\n",
    "sales['year'] = pd.Index(sales[var_name]).year\n",
    "sales['dayofyear'] = pd.Index(sales[var_name]).dayofyear\n",
    "\n",
    "sales['day'] = sales['day'].fillna(0)\n",
    "sales['week'] = sales['week'].fillna(0)\n",
    "sales['month'] = sales['month'].fillna(0)\n",
    "sales['year'] = sales['year'].fillna(0)\n",
    "sales['dayofyear'] = sales['dayofyear'].fillna(0)\n",
    "\n",
    "features_x.append('day')\n",
    "features_x.append('week')\n",
    "features_x.append('month')\n",
    "features_x.append('year')\n",
    "features_x.append('dayofyear')\n",
    "\n",
    "# join the two dataframes\n",
    "data_merged = pd.merge(sales, attributes, on='article')\n",
    "\n",
    "for col in list(data_merged.select_dtypes(include=['object']).columns):\n",
    "    #     data_merged[col+'_numeric'] = pd.Categorical(data_merged[col])\n",
    "    #     data_merged[col+'_numeric'] = data_merged[col+'_numeric'].cat.codes\n",
    "    #     features_x.append(col+'_numeric')\n",
    "    features_x.append(col)\n",
    "\n",
    "for col in ['cost',\n",
    "            'rgb_r_main_col', 'rgb_g_main_col', 'rgb_b_main_col',\n",
    "            'rgb_r_sec_col', 'rgb_g_sec_col', 'rgb_b_sec_col']:\n",
    "    features_x.append(col)\n",
    "\n",
    "data_merged.promo1 = data_merged.promo1.astype(str)\n",
    "data_merged.promo2 = data_merged.promo2.astype(str)\n",
    "\n",
    "df_train = data_merged[data_merged['retailweek'] < '2017-03-31']\n",
    "df_test = data_merged[data_merged['retailweek'] > '2017-03-31']"
   ]
  },
  {
   "cell_type": "code",
   "execution_count": 3,
   "metadata": {
    "collapsed": false,
    "scrolled": true
   },
   "outputs": [
    {
     "name": "stdout",
     "output_type": "stream",
     "text": [
      "country: 3: 2.0\n",
      "article: 476: 9.0\n",
      "sales: 785: 10.0\n",
      "regular_price: 123: 7.0\n",
      "current_price: 174: 8.0\n",
      "ratio: 5154: 13.0\n",
      "retailweek: 123: 7.0\n",
      "promo1: 2: 1.0\n",
      "promo2: 2: 1.0\n",
      "saleslog: 785: 10.0\n",
      "day: 31: 5.0\n",
      "week: 53: 6.0\n",
      "month: 12: 4.0\n",
      "year: 4: 2.0\n",
      "dayofyear: 123: 7.0\n",
      "productgroup: 6: 3.0\n",
      "category: 21: 5.0\n",
      "cost: 118: 7.0\n",
      "style: 3: 2.0\n",
      "sizes: 8: 3.0\n",
      "gender: 4: 2.0\n",
      "rgb_r_main_col: 49: 6.0\n",
      "rgb_g_main_col: 75: 7.0\n",
      "rgb_b_main_col: 65: 7.0\n",
      "rgb_r_sec_col: 49: 6.0\n",
      "rgb_g_sec_col: 75: 7.0\n",
      "rgb_b_sec_col: 65: 7.0\n"
     ]
    }
   ],
   "source": [
    "import math\n",
    "\n",
    "for col in data_merged.columns:\n",
    "    print col+': '+str(len(data_merged[col].unique()))+': '+str(math.ceil(math.log(len(data_merged[col].unique()), 2)))"
   ]
  },
  {
   "cell_type": "code",
   "execution_count": 10,
   "metadata": {
    "collapsed": false
   },
   "outputs": [],
   "source": [
    "list_articles = list(data_merged['article'].unique())\n",
    "list_productgroup = list(data_merged['productgroup'].unique())\n",
    "list_category = list(data_merged['category'].unique())\n",
    "list_sizes = list(data_merged['sizes'].unique())"
   ]
  },
  {
   "cell_type": "code",
   "execution_count": 11,
   "metadata": {
    "collapsed": false
   },
   "outputs": [],
   "source": [
    "import pickle\n",
    "with open('list_articles.txt', 'wb') as f:\n",
    "    pickle.dump(list_articles, f)\n",
    "    \n",
    "with open('list_productgroup.txt', 'wb') as f:\n",
    "    pickle.dump(list_productgroup, f)\n",
    "    \n",
    "with open('list_category.txt', 'wb') as f:\n",
    "    pickle.dump(list_category, f)\n",
    "    \n",
    "with open('list_sizes.txt', 'wb') as f:\n",
    "    pickle.dump(list_sizes, f)"
   ]
  },
  {
   "cell_type": "code",
   "execution_count": 13,
   "metadata": {
    "collapsed": false
   },
   "outputs": [
    {
     "data": {
      "text/plain": [
       "array(['RUNNING', 'TRAINING', 'TENNIS', 'FOOTBALL GENERIC', 'OUTDOOR',\n",
       "       'INDOOR', 'STELLA', 'FOOTBALL LICENSED', 'SWIM', 'GOLF',\n",
       "       'ACTION SPORTS', 'RELAX CASUAL', 'CLASSICS', 'DRESS CASUAL',\n",
       "       'ORIGINALS', 'PORSCHE', 'BASKETBALL GENERIC', 'SLVR',\n",
       "       'ACTIVE CASUAL', 'OLYMPICS', 'NEO'], dtype=object)"
      ]
     },
     "execution_count": 13,
     "metadata": {},
     "output_type": "execute_result"
    }
   ],
   "source": [
    "data_merged['category'].unique()"
   ]
  },
  {
   "cell_type": "code",
   "execution_count": null,
   "metadata": {
    "collapsed": true
   },
   "outputs": [],
   "source": []
  }
 ],
 "metadata": {
  "kernelspec": {
   "display_name": "Python 2",
   "language": "python",
   "name": "python2"
  },
  "language_info": {
   "codemirror_mode": {
    "name": "ipython",
    "version": 2
   },
   "file_extension": ".py",
   "mimetype": "text/x-python",
   "name": "python",
   "nbconvert_exporter": "python",
   "pygments_lexer": "ipython2",
   "version": "2.7.12"
  }
 },
 "nbformat": 4,
 "nbformat_minor": 2
}
