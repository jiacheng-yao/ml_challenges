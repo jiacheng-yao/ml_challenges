{
 "cells": [
  {
   "cell_type": "code",
   "execution_count": 1,
   "metadata": {},
   "outputs": [],
   "source": [
    "from netCDF4 import Dataset, num2date, date2num\n",
    "import numpy as np\n",
    "import json\n",
    "from operator import and_\n",
    "\n",
    "import pandas as pd\n",
    "import os\n",
    "import itertools\n",
    "\n",
    "import logging\n",
    "\n",
    "import glob\n",
    "\n",
    "import math\n",
    "from functools import reduce\n",
    "\n",
    "import mysql.connector as mariadb\n",
    "\n",
    "from sqlalchemy import create_engine\n",
    "\n",
    "from pprint import pprint\n",
    "\n",
    "from datetime import date\n",
    "import datetime\n",
    "\n",
    "import shutil\n",
    "\n",
    "import matplotlib.pyplot as plt\n",
    "%matplotlib inline\n",
    "import seaborn as sns\n",
    "sns.set_style('whitegrid')\n",
    "\n",
    "\n",
    "logger = logging.getLogger()\n",
    "logger.setLevel(logging.INFO)\n",
    "# logging.info(\"Commence\")\n"
   ]
  },
  {
   "cell_type": "code",
   "execution_count": 2,
   "metadata": {},
   "outputs": [],
   "source": [
    "def multiply(a, b, bound):\n",
    "    # write your code here\n",
    "    tmp_result = a*b\n",
    "    if tmp_result <= bound:\n",
    "        return tmp_result\n",
    "    else:\n",
    "        raise ValueError(\"multiplication of {} and {} with bound {} not possible\".format(a, b, bound)) "
   ]
  },
  {
   "cell_type": "code",
   "execution_count": 3,
   "metadata": {},
   "outputs": [
    {
     "data": {
      "text/plain": [
       "15"
      ]
     },
     "execution_count": 3,
     "metadata": {},
     "output_type": "execute_result"
    }
   ],
   "source": [
    "multiply(3, 5, 17)"
   ]
  },
  {
   "cell_type": "code",
   "execution_count": 4,
   "metadata": {},
   "outputs": [],
   "source": [
    "class IncreasingList:\n",
    "    def __init__(self, data=None):\n",
    "        \"\"\"Initialize the class\"\"\"\n",
    "        if (data is not None):\n",
    "            self._list = list(data)\n",
    "        else:\n",
    "            self._list = list()\n",
    "    \n",
    "    def append(self, val):\n",
    "        \"\"\"\n",
    "        first, it removes all elements from the list that have greater values than val, starting from the last one, and once there are no greater element in the list, it appends val to the end of the list\n",
    "        \"\"\"\n",
    "        if len(self._list) == 0:\n",
    "            self._list.append(val)\n",
    "        else:\n",
    "            for ii in reversed(range(len(self._list))):\n",
    "                if self._list[ii] > val:\n",
    "                    del self._list[ii]\n",
    "            self._list.append(val)\n",
    "\n",
    "    def pop(self):\n",
    "        \"\"\"\n",
    "        removes the last element from the list if the list is not empty, otherwise, if the list is empty, it does nothing\n",
    "        \"\"\"\n",
    "        if len(self._list) > 0:\n",
    "            del self._list[-1]\n",
    "        else:\n",
    "            pass\n",
    "\n",
    "    def __len__(self):\n",
    "        \"\"\"\n",
    "        returns the number of elements in the list\n",
    "        \"\"\"\n",
    "        return len(self._list)\n",
    "    \n",
    "    def __getitem__(self, ii):\n",
    "        \"\"\"Get a list item\"\"\"\n",
    "        return self._list[ii]\n",
    "\n",
    "    def __delitem__(self, ii):\n",
    "        \"\"\"Delete an item\"\"\"\n",
    "        del self._list[ii]\n",
    "\n",
    "    def __setitem__(self, ii, val):\n",
    "        # optional: self._acl_check(val)\n",
    "        self._list[ii] = val\n"
   ]
  },
  {
   "cell_type": "code",
   "execution_count": 5,
   "metadata": {},
   "outputs": [],
   "source": [
    "t = IncreasingList()"
   ]
  },
  {
   "cell_type": "code",
   "execution_count": 6,
   "metadata": {},
   "outputs": [
    {
     "data": {
      "text/plain": [
       "0"
      ]
     },
     "execution_count": 6,
     "metadata": {},
     "output_type": "execute_result"
    }
   ],
   "source": [
    "len(t)"
   ]
  },
  {
   "cell_type": "code",
   "execution_count": 7,
   "metadata": {},
   "outputs": [],
   "source": [
    "t.append(2)"
   ]
  },
  {
   "cell_type": "code",
   "execution_count": 8,
   "metadata": {},
   "outputs": [],
   "source": [
    "t.append(4)"
   ]
  },
  {
   "cell_type": "code",
   "execution_count": 9,
   "metadata": {},
   "outputs": [],
   "source": [
    "t.append(5)"
   ]
  },
  {
   "cell_type": "code",
   "execution_count": 10,
   "metadata": {},
   "outputs": [
    {
     "data": {
      "text/plain": [
       "3"
      ]
     },
     "execution_count": 10,
     "metadata": {},
     "output_type": "execute_result"
    }
   ],
   "source": [
    "len(t)"
   ]
  },
  {
   "cell_type": "code",
   "execution_count": 11,
   "metadata": {},
   "outputs": [],
   "source": [
    "t.append(2)"
   ]
  },
  {
   "cell_type": "code",
   "execution_count": 12,
   "metadata": {},
   "outputs": [
    {
     "data": {
      "text/plain": [
       "2"
      ]
     },
     "execution_count": 12,
     "metadata": {},
     "output_type": "execute_result"
    }
   ],
   "source": [
    "len(t)"
   ]
  },
  {
   "cell_type": "code",
   "execution_count": 13,
   "metadata": {},
   "outputs": [],
   "source": [
    "t.pop()"
   ]
  },
  {
   "cell_type": "code",
   "execution_count": 14,
   "metadata": {},
   "outputs": [
    {
     "data": {
      "text/plain": [
       "1"
      ]
     },
     "execution_count": 14,
     "metadata": {},
     "output_type": "execute_result"
    }
   ],
   "source": [
    "len(t)"
   ]
  },
  {
   "cell_type": "code",
   "execution_count": 2,
   "metadata": {},
   "outputs": [],
   "source": [
    "your_timestamp = 1331856000000\n",
    "date = datetime.datetime.fromtimestamp(your_timestamp / 1e3)"
   ]
  },
  {
   "cell_type": "code",
   "execution_count": 3,
   "metadata": {},
   "outputs": [
    {
     "data": {
      "text/plain": [
       "datetime.datetime(2012, 3, 16, 1, 0)"
      ]
     },
     "execution_count": 3,
     "metadata": {},
     "output_type": "execute_result"
    }
   ],
   "source": [
    "date"
   ]
  },
  {
   "cell_type": "code",
   "execution_count": 5,
   "metadata": {},
   "outputs": [
    {
     "name": "stdout",
     "output_type": "stream",
     "text": [
      "1331856000000\n"
     ]
    }
   ],
   "source": [
    "\n",
    "millisec = int(date.timestamp() * 1000)\n",
    "\n",
    "print(millisec)"
   ]
  },
  {
   "cell_type": "code",
   "execution_count": 7,
   "metadata": {},
   "outputs": [],
   "source": [
    "dt_obj = datetime.datetime.strptime('Sat, 14 Jul 2018 00:58:21 GMT',\n",
    "                           '%a, %d %b %Y %H:%M:%S %Z')"
   ]
  },
  {
   "cell_type": "code",
   "execution_count": 8,
   "metadata": {},
   "outputs": [
    {
     "name": "stdout",
     "output_type": "stream",
     "text": [
      "1531522701000\n"
     ]
    }
   ],
   "source": [
    "\n",
    "millisec_2 = int(dt_obj.timestamp() * 1000)\n",
    "\n",
    "print(millisec_2)"
   ]
  },
  {
   "cell_type": "code",
   "execution_count": null,
   "metadata": {},
   "outputs": [],
   "source": []
  }
 ],
 "metadata": {
  "kernelspec": {
   "display_name": "Python 3",
   "language": "python",
   "name": "python3"
  },
  "language_info": {
   "codemirror_mode": {
    "name": "ipython",
    "version": 3
   },
   "file_extension": ".py",
   "mimetype": "text/x-python",
   "name": "python",
   "nbconvert_exporter": "python",
   "pygments_lexer": "ipython3",
   "version": "3.7.6"
  }
 },
 "nbformat": 4,
 "nbformat_minor": 4
}
