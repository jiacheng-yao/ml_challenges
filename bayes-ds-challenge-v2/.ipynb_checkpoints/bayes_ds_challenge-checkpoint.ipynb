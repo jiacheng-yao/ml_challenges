{
 "cells": [
  {
   "cell_type": "markdown",
   "metadata": {
    "colab_type": "text",
    "id": "tNtORVaGbgml"
   },
   "source": [
    "# Bayes Esports Solutions GmbH - Data Science Challenge\n",
    "\n",
    "The dataset you are given contains matches of a MOBA game. The matches are uniquely identified by a `match_id`. Per match, there are several rows. Each row describes a unique gamestate in the match. We have removed the names of the other columns.\n",
    "\n",
    "Your task is to produce a model that predicts the `winner` of the match given a particular gamestate. The winner may be the \"home\" team (`0`) or the away team (`1`). Please, bear in mind that the trained model would be used to produce live-odds while a game is being played, i.e. it would have to continuosly update the probability of each team winning, based on the game played so far.\n",
    "\n",
    "The data is attached in the e-mail as challenge_data.csv.\n",
    "\n",
    "We are interested in seeing how you prepare the data, generate features, select models, and lastly, how you evaluate your predictions. Please guide us through your workflow with markdown comments and explanations where necessary. There is no need to explain how the methods work, but we want to know why you make your choices.\n",
    "\n",
    "*Note that we are mainly interested in your approach, not the actual performance of the model.*\n",
    "\n",
    "When you are finished, rerun your notebook completely to make sure everything runs smoothly, save it, and send us the notebook file via e-mail. Please state how long you took to complete the challenge. Please do not take more than 2 hours. We don't expect to see a polished production-ready model."
   ]
  },
  {
   "cell_type": "markdown",
   "metadata": {},
   "source": [
    "### Notebook created by: Jiacheng Yao, 11/05/2020"
   ]
  },
  {
   "cell_type": "markdown",
   "metadata": {},
   "source": [
    "## 1. Explorative Analysis"
   ]
  },
  {
   "cell_type": "code",
   "execution_count": 1,
   "metadata": {
    "colab": {},
    "colab_type": "code",
    "id": "sQQbyXmRueiu"
   },
   "outputs": [
    {
     "name": "stderr",
     "output_type": "stream",
     "text": [
      "INFO:root:Start 1. Explorative Analysis\n"
     ]
    }
   ],
   "source": [
    "import logging\n",
    "\n",
    "import pandas as pd\n",
    "import numpy as np\n",
    "import matplotlib.pyplot as plt\n",
    "%matplotlib inline\n",
    "import seaborn as sns\n",
    "sns.set_style('whitegrid')\n",
    "\n",
    "logger = logging.getLogger()\n",
    "logger.setLevel(logging.INFO)\n",
    "logging.info(\"Start 1. Explorative Analysis\")"
   ]
  },
  {
   "cell_type": "markdown",
   "metadata": {},
   "source": [
    "### 1. Read the data from .csv file"
   ]
  },
  {
   "cell_type": "code",
   "execution_count": 2,
   "metadata": {},
   "outputs": [],
   "source": [
    "df_input = pd.read_csv(\"challenge_data.csv\")"
   ]
  },
  {
   "cell_type": "markdown",
   "metadata": {},
   "source": [
    "### 2. Take a first look at the data:"
   ]
  },
  {
   "cell_type": "code",
   "execution_count": 3,
   "metadata": {
    "scrolled": true
   },
   "outputs": [
    {
     "data": {
      "text/html": [
       "<div>\n",
       "<style scoped>\n",
       "    .dataframe tbody tr th:only-of-type {\n",
       "        vertical-align: middle;\n",
       "    }\n",
       "\n",
       "    .dataframe tbody tr th {\n",
       "        vertical-align: top;\n",
       "    }\n",
       "\n",
       "    .dataframe thead th {\n",
       "        text-align: right;\n",
       "    }\n",
       "</style>\n",
       "<table border=\"1\" class=\"dataframe\">\n",
       "  <thead>\n",
       "    <tr style=\"text-align: right;\">\n",
       "      <th></th>\n",
       "      <th>Unnamed: 0</th>\n",
       "      <th>match_id</th>\n",
       "      <th>game_time</th>\n",
       "      <th>winner</th>\n",
       "      <th>feature_1</th>\n",
       "      <th>feature_2</th>\n",
       "      <th>feature_3</th>\n",
       "      <th>feature_4</th>\n",
       "    </tr>\n",
       "  </thead>\n",
       "  <tbody>\n",
       "    <tr>\n",
       "      <th>0</th>\n",
       "      <td>0</td>\n",
       "      <td>3.712283e+09</td>\n",
       "      <td>20.68360</td>\n",
       "      <td>-1.0</td>\n",
       "      <td>31.697367</td>\n",
       "      <td>0.0</td>\n",
       "      <td>0.0</td>\n",
       "      <td>5500.0</td>\n",
       "    </tr>\n",
       "    <tr>\n",
       "      <th>1</th>\n",
       "      <td>1</td>\n",
       "      <td>3.712283e+09</td>\n",
       "      <td>41.34522</td>\n",
       "      <td>-1.0</td>\n",
       "      <td>63.180084</td>\n",
       "      <td>0.0</td>\n",
       "      <td>0.0</td>\n",
       "      <td>5500.0</td>\n",
       "    </tr>\n",
       "    <tr>\n",
       "      <th>2</th>\n",
       "      <td>2</td>\n",
       "      <td>3.712283e+09</td>\n",
       "      <td>62.00685</td>\n",
       "      <td>1.0</td>\n",
       "      <td>78.337902</td>\n",
       "      <td>0.0</td>\n",
       "      <td>0.0</td>\n",
       "      <td>5500.0</td>\n",
       "    </tr>\n",
       "    <tr>\n",
       "      <th>3</th>\n",
       "      <td>3</td>\n",
       "      <td>3.712283e+09</td>\n",
       "      <td>82.66845</td>\n",
       "      <td>1.0</td>\n",
       "      <td>79.835755</td>\n",
       "      <td>0.0</td>\n",
       "      <td>0.0</td>\n",
       "      <td>5500.0</td>\n",
       "    </tr>\n",
       "    <tr>\n",
       "      <th>4</th>\n",
       "      <td>4</td>\n",
       "      <td>3.712283e+09</td>\n",
       "      <td>103.33008</td>\n",
       "      <td>1.0</td>\n",
       "      <td>110.136749</td>\n",
       "      <td>0.0</td>\n",
       "      <td>0.0</td>\n",
       "      <td>5500.0</td>\n",
       "    </tr>\n",
       "  </tbody>\n",
       "</table>\n",
       "</div>"
      ],
      "text/plain": [
       "   Unnamed: 0      match_id  game_time  winner   feature_1  feature_2  \\\n",
       "0           0  3.712283e+09   20.68360    -1.0   31.697367        0.0   \n",
       "1           1  3.712283e+09   41.34522    -1.0   63.180084        0.0   \n",
       "2           2  3.712283e+09   62.00685     1.0   78.337902        0.0   \n",
       "3           3  3.712283e+09   82.66845     1.0   79.835755        0.0   \n",
       "4           4  3.712283e+09  103.33008     1.0  110.136749        0.0   \n",
       "\n",
       "   feature_3 feature_4  \n",
       "0        0.0    5500.0  \n",
       "1        0.0    5500.0  \n",
       "2        0.0    5500.0  \n",
       "3        0.0    5500.0  \n",
       "4        0.0    5500.0  "
      ]
     },
     "execution_count": 3,
     "metadata": {},
     "output_type": "execute_result"
    }
   ],
   "source": [
    "df_input.head()"
   ]
  },
  {
   "cell_type": "code",
   "execution_count": 4,
   "metadata": {},
   "outputs": [
    {
     "data": {
      "text/plain": [
       "(13408, 8)"
      ]
     },
     "execution_count": 4,
     "metadata": {},
     "output_type": "execute_result"
    }
   ],
   "source": [
    "df_input.shape"
   ]
  },
  {
   "cell_type": "code",
   "execution_count": 5,
   "metadata": {},
   "outputs": [],
   "source": [
    "# rename the first column\n",
    "df_input.rename(columns={'Unnamed: 0':'id'}, inplace=True)"
   ]
  },
  {
   "cell_type": "markdown",
   "metadata": {},
   "source": [
    "### 3. Check if there are missing values in the columns:"
   ]
  },
  {
   "cell_type": "code",
   "execution_count": 6,
   "metadata": {},
   "outputs": [],
   "source": [
    "# Check if there are missing values in the columns:\n",
    "def missing_value_checker(df):\n",
    "    for col in df.columns:\n",
    "        logging.info(col+': '+str(df[col].isnull().sum()/float(df.shape[0])))"
   ]
  },
  {
   "cell_type": "code",
   "execution_count": 7,
   "metadata": {
    "scrolled": true
   },
   "outputs": [
    {
     "name": "stderr",
     "output_type": "stream",
     "text": [
      "INFO:root:id: 0.0\n",
      "INFO:root:match_id: 0.0\n",
      "INFO:root:game_time: 0.0\n",
      "INFO:root:winner: 0.0\n",
      "INFO:root:feature_1: 0.0\n",
      "INFO:root:feature_2: 0.0\n",
      "INFO:root:feature_3: 0.0\n",
      "INFO:root:feature_4: 0.0\n"
     ]
    }
   ],
   "source": [
    "missing_value_checker(df_input)"
   ]
  },
  {
   "cell_type": "markdown",
   "metadata": {},
   "source": [
    "**Comment**: _No Missing Data in any columns found._"
   ]
  },
  {
   "cell_type": "markdown",
   "metadata": {},
   "source": [
    "### 4. See how many unique values there are for each column:"
   ]
  },
  {
   "cell_type": "code",
   "execution_count": 8,
   "metadata": {},
   "outputs": [],
   "source": [
    "# See how many unique values there are for each columns, and if there is only one unique value, we drop the column\n",
    "def unique_value_printer(df):\n",
    "    cols_to_drop = []\n",
    "    for col in df.columns:\n",
    "        tmp_num_unique = len(df[col].unique())\n",
    "        logging.info(col+': '+str(tmp_num_unique))\n",
    "        if (tmp_num_unique==1):\n",
    "            cols_to_drop.append(col)\n",
    "    df.drop(cols_to_drop, 1, inplace=True)"
   ]
  },
  {
   "cell_type": "code",
   "execution_count": 9,
   "metadata": {},
   "outputs": [
    {
     "name": "stderr",
     "output_type": "stream",
     "text": [
      "INFO:root:id: 11460\n",
      "INFO:root:match_id: 400\n",
      "INFO:root:game_time: 7760\n",
      "INFO:root:winner: 3\n",
      "INFO:root:feature_1: 13126\n",
      "INFO:root:feature_2: 11319\n",
      "INFO:root:feature_3: 9\n",
      "INFO:root:feature_4: 22\n"
     ]
    }
   ],
   "source": [
    "unique_value_printer(df_input)"
   ]
  },
  {
   "cell_type": "markdown",
   "metadata": {},
   "source": [
    "### 5. Summarize the dataframe"
   ]
  },
  {
   "cell_type": "code",
   "execution_count": 10,
   "metadata": {},
   "outputs": [
    {
     "data": {
      "text/html": [
       "<div>\n",
       "<style scoped>\n",
       "    .dataframe tbody tr th:only-of-type {\n",
       "        vertical-align: middle;\n",
       "    }\n",
       "\n",
       "    .dataframe tbody tr th {\n",
       "        vertical-align: top;\n",
       "    }\n",
       "\n",
       "    .dataframe thead th {\n",
       "        text-align: right;\n",
       "    }\n",
       "</style>\n",
       "<table border=\"1\" class=\"dataframe\">\n",
       "  <thead>\n",
       "    <tr style=\"text-align: right;\">\n",
       "      <th></th>\n",
       "      <th>id</th>\n",
       "      <th>match_id</th>\n",
       "      <th>game_time</th>\n",
       "      <th>winner</th>\n",
       "      <th>feature_1</th>\n",
       "      <th>feature_2</th>\n",
       "      <th>feature_3</th>\n",
       "    </tr>\n",
       "  </thead>\n",
       "  <tbody>\n",
       "    <tr>\n",
       "      <th>count</th>\n",
       "      <td>13408.000000</td>\n",
       "      <td>1.340800e+04</td>\n",
       "      <td>13408.000000</td>\n",
       "      <td>13408.000000</td>\n",
       "      <td>13408.000000</td>\n",
       "      <td>13408.000000</td>\n",
       "      <td>13408.000000</td>\n",
       "    </tr>\n",
       "    <tr>\n",
       "      <th>mean</th>\n",
       "      <td>11203.662962</td>\n",
       "      <td>3.724944e+09</td>\n",
       "      <td>358.755358</td>\n",
       "      <td>0.353446</td>\n",
       "      <td>-108.277343</td>\n",
       "      <td>-129.155474</td>\n",
       "      <td>-0.007533</td>\n",
       "    </tr>\n",
       "    <tr>\n",
       "      <th>std</th>\n",
       "      <td>6384.324388</td>\n",
       "      <td>5.167472e+06</td>\n",
       "      <td>218.940367</td>\n",
       "      <td>0.611299</td>\n",
       "      <td>1207.319226</td>\n",
       "      <td>1052.881521</td>\n",
       "      <td>0.453905</td>\n",
       "    </tr>\n",
       "    <tr>\n",
       "      <th>min</th>\n",
       "      <td>0.000000</td>\n",
       "      <td>3.712283e+09</td>\n",
       "      <td>2.088100</td>\n",
       "      <td>-1.000000</td>\n",
       "      <td>-8888.296455</td>\n",
       "      <td>-7376.928644</td>\n",
       "      <td>-4.000000</td>\n",
       "    </tr>\n",
       "    <tr>\n",
       "      <th>10%</th>\n",
       "      <td>2270.700000</td>\n",
       "      <td>3.718316e+09</td>\n",
       "      <td>70.271500</td>\n",
       "      <td>0.000000</td>\n",
       "      <td>-1478.496944</td>\n",
       "      <td>-1302.006244</td>\n",
       "      <td>0.000000</td>\n",
       "    </tr>\n",
       "    <tr>\n",
       "      <th>20%</th>\n",
       "      <td>4716.000000</td>\n",
       "      <td>3.720455e+09</td>\n",
       "      <td>138.488164</td>\n",
       "      <td>0.000000</td>\n",
       "      <td>-748.276808</td>\n",
       "      <td>-681.859927</td>\n",
       "      <td>0.000000</td>\n",
       "    </tr>\n",
       "    <tr>\n",
       "      <th>30%</th>\n",
       "      <td>6883.000000</td>\n",
       "      <td>3.721393e+09</td>\n",
       "      <td>208.704351</td>\n",
       "      <td>0.000000</td>\n",
       "      <td>-379.559347</td>\n",
       "      <td>-347.070673</td>\n",
       "      <td>0.000000</td>\n",
       "    </tr>\n",
       "    <tr>\n",
       "      <th>50%</th>\n",
       "      <td>11173.500000</td>\n",
       "      <td>3.724333e+09</td>\n",
       "      <td>347.137240</td>\n",
       "      <td>0.000000</td>\n",
       "      <td>-32.965965</td>\n",
       "      <td>0.000000</td>\n",
       "      <td>0.000000</td>\n",
       "    </tr>\n",
       "    <tr>\n",
       "      <th>60%</th>\n",
       "      <td>13469.200000</td>\n",
       "      <td>3.727032e+09</td>\n",
       "      <td>417.353368</td>\n",
       "      <td>1.000000</td>\n",
       "      <td>75.839654</td>\n",
       "      <td>0.000000</td>\n",
       "      <td>0.000000</td>\n",
       "    </tr>\n",
       "    <tr>\n",
       "      <th>70%</th>\n",
       "      <td>15632.900000</td>\n",
       "      <td>3.728634e+09</td>\n",
       "      <td>487.636200</td>\n",
       "      <td>1.000000</td>\n",
       "      <td>228.092839</td>\n",
       "      <td>97.944175</td>\n",
       "      <td>0.000000</td>\n",
       "    </tr>\n",
       "    <tr>\n",
       "      <th>80%</th>\n",
       "      <td>17763.600000</td>\n",
       "      <td>3.730929e+09</td>\n",
       "      <td>566.183700</td>\n",
       "      <td>1.000000</td>\n",
       "      <td>513.310702</td>\n",
       "      <td>357.480359</td>\n",
       "      <td>0.000000</td>\n",
       "    </tr>\n",
       "    <tr>\n",
       "      <th>90%</th>\n",
       "      <td>20092.300000</td>\n",
       "      <td>3.731492e+09</td>\n",
       "      <td>661.227200</td>\n",
       "      <td>1.000000</td>\n",
       "      <td>1126.769569</td>\n",
       "      <td>885.285704</td>\n",
       "      <td>0.000000</td>\n",
       "    </tr>\n",
       "    <tr>\n",
       "      <th>95%</th>\n",
       "      <td>21212.650000</td>\n",
       "      <td>3.732653e+09</td>\n",
       "      <td>727.311033</td>\n",
       "      <td>1.000000</td>\n",
       "      <td>1764.040559</td>\n",
       "      <td>1512.708176</td>\n",
       "      <td>1.000000</td>\n",
       "    </tr>\n",
       "    <tr>\n",
       "      <th>98%</th>\n",
       "      <td>21890.860000</td>\n",
       "      <td>3.732844e+09</td>\n",
       "      <td>797.218636</td>\n",
       "      <td>1.000000</td>\n",
       "      <td>2634.613101</td>\n",
       "      <td>2374.879180</td>\n",
       "      <td>1.000000</td>\n",
       "    </tr>\n",
       "    <tr>\n",
       "      <th>99%</th>\n",
       "      <td>22088.930000</td>\n",
       "      <td>3.732919e+09</td>\n",
       "      <td>849.214600</td>\n",
       "      <td>1.000000</td>\n",
       "      <td>3434.563498</td>\n",
       "      <td>2931.123070</td>\n",
       "      <td>1.000000</td>\n",
       "    </tr>\n",
       "    <tr>\n",
       "      <th>99.9%</th>\n",
       "      <td>22296.593000</td>\n",
       "      <td>3.732999e+09</td>\n",
       "      <td>957.833356</td>\n",
       "      <td>1.000000</td>\n",
       "      <td>5609.912822</td>\n",
       "      <td>4996.338408</td>\n",
       "      <td>2.000000</td>\n",
       "    </tr>\n",
       "    <tr>\n",
       "      <th>max</th>\n",
       "      <td>22310.000000</td>\n",
       "      <td>3.732999e+09</td>\n",
       "      <td>1014.507560</td>\n",
       "      <td>1.000000</td>\n",
       "      <td>8547.648577</td>\n",
       "      <td>7696.761997</td>\n",
       "      <td>4.000000</td>\n",
       "    </tr>\n",
       "  </tbody>\n",
       "</table>\n",
       "</div>"
      ],
      "text/plain": [
       "                 id      match_id     game_time        winner     feature_1  \\\n",
       "count  13408.000000  1.340800e+04  13408.000000  13408.000000  13408.000000   \n",
       "mean   11203.662962  3.724944e+09    358.755358      0.353446   -108.277343   \n",
       "std     6384.324388  5.167472e+06    218.940367      0.611299   1207.319226   \n",
       "min        0.000000  3.712283e+09      2.088100     -1.000000  -8888.296455   \n",
       "10%     2270.700000  3.718316e+09     70.271500      0.000000  -1478.496944   \n",
       "20%     4716.000000  3.720455e+09    138.488164      0.000000   -748.276808   \n",
       "30%     6883.000000  3.721393e+09    208.704351      0.000000   -379.559347   \n",
       "50%    11173.500000  3.724333e+09    347.137240      0.000000    -32.965965   \n",
       "60%    13469.200000  3.727032e+09    417.353368      1.000000     75.839654   \n",
       "70%    15632.900000  3.728634e+09    487.636200      1.000000    228.092839   \n",
       "80%    17763.600000  3.730929e+09    566.183700      1.000000    513.310702   \n",
       "90%    20092.300000  3.731492e+09    661.227200      1.000000   1126.769569   \n",
       "95%    21212.650000  3.732653e+09    727.311033      1.000000   1764.040559   \n",
       "98%    21890.860000  3.732844e+09    797.218636      1.000000   2634.613101   \n",
       "99%    22088.930000  3.732919e+09    849.214600      1.000000   3434.563498   \n",
       "99.9%  22296.593000  3.732999e+09    957.833356      1.000000   5609.912822   \n",
       "max    22310.000000  3.732999e+09   1014.507560      1.000000   8547.648577   \n",
       "\n",
       "          feature_2     feature_3  \n",
       "count  13408.000000  13408.000000  \n",
       "mean    -129.155474     -0.007533  \n",
       "std     1052.881521      0.453905  \n",
       "min    -7376.928644     -4.000000  \n",
       "10%    -1302.006244      0.000000  \n",
       "20%     -681.859927      0.000000  \n",
       "30%     -347.070673      0.000000  \n",
       "50%        0.000000      0.000000  \n",
       "60%        0.000000      0.000000  \n",
       "70%       97.944175      0.000000  \n",
       "80%      357.480359      0.000000  \n",
       "90%      885.285704      0.000000  \n",
       "95%     1512.708176      1.000000  \n",
       "98%     2374.879180      1.000000  \n",
       "99%     2931.123070      1.000000  \n",
       "99.9%   4996.338408      2.000000  \n",
       "max     7696.761997      4.000000  "
      ]
     },
     "execution_count": 10,
     "metadata": {},
     "output_type": "execute_result"
    }
   ],
   "source": [
    "df_input.describe([.1,.2,.3,.6,.7,.8,.9,.95,.98,.99,.999])"
   ]
  },
  {
   "cell_type": "markdown",
   "metadata": {},
   "source": [
    "**Comment**: _Here feature_4 isn't shown, which means it is actually stored as string (categorical), not numerical_"
   ]
  },
  {
   "cell_type": "markdown",
   "metadata": {},
   "source": [
    "### 6. Let us take a closer look at some important features:"
   ]
  },
  {
   "cell_type": "code",
   "execution_count": 11,
   "metadata": {},
   "outputs": [],
   "source": [
    "def plot_general_dist(df, col, title=None, outfile=None):\n",
    "    # plot general histogram\n",
    "    fig = plt.figure(figsize=(15,10))\n",
    "    ax = fig.add_subplot(111)\n",
    "    if title is not None:\n",
    "        sns.distplot(df[col]).set_title(title)\n",
    "    if outfile is not None:\n",
    "        plt.savefig(outfile)\n",
    "        \n",
    "def plot_comparison_dist(l_dfs, col, l_labels, title=None, outfile=None):\n",
    "    # plot comparison histogram\n",
    "    # len(l_dfs) and len(l_labels) need to be the same\n",
    "    fig = plt.figure(figsize=(15,10))\n",
    "    ax = fig.add_subplot(111)\n",
    "\n",
    "    for i in range(len(l_dfs)):\n",
    "        sns.distplot(l_dfs[i][col], hist=False, rug=False, label=l_labels[i]).set_title(title)\n",
    "    \n",
    "    if outfile is not None:\n",
    "        plt.savefig(outfile)\n",
    "        \n",
    "def plot_general_bar(df, group_col, agg_col, title=None, outfile=None):\n",
    "    # plot general barplot\n",
    "    df_grouped = df.groupby([group_col]).agg({agg_col:'count'}).reset_index()\n",
    "\n",
    "    fig, axis = plt.subplots(1,1,figsize=(15, 7))\n",
    "\n",
    "    sns.barplot(x=group_col, y=agg_col, data=df_grouped, order=df_grouped[group_col].unique(), ax=axis)\n",
    "    axis.set_xticks(range(len(df_grouped[group_col].unique())))\n",
    "    axis.set_xticklabels(df_grouped[group_col].unique(), rotation=0)\n",
    "    \n",
    "    if title is not None:\n",
    "        axis.set_title(title)\n",
    "    if outfile is not None:\n",
    "        plt.savefig(outfile)\n",
    "        \n",
    "def plot_comparison_bar(df, group_col, agg_col, hue_col, title=None, outfile=None):\n",
    "    df_grouped_by_col = df.groupby([group_col, hue_col]).agg({agg_col:'count'}).reset_index()\n",
    "\n",
    "    g = sns.catplot(x=group_col, y=agg_col, hue=hue_col, data=df_grouped_by_col,\n",
    "                    kind=\"bar\", palette=\"muted\", height=6, aspect=2)\n",
    "    g.despine(left=True)\n",
    "    g.set_ylabels(\"Count\")\n",
    "    \n",
    "    if title is not None:\n",
    "        g.fig.suptitle(title)\n",
    "    if outfile is not None:\n",
    "        g.fig.savefig(outfile)"
   ]
  },
  {
   "cell_type": "code",
   "execution_count": 12,
   "metadata": {},
   "outputs": [],
   "source": [
    "# create three sub dataframes for all three winner possibilities\n",
    "df_input_m1 = df_input[df_input['winner']==-1]\n",
    "df_input_0 = df_input[df_input['winner']==0]\n",
    "df_input_1 = df_input[df_input['winner']==1]"
   ]
  },
  {
   "cell_type": "markdown",
   "metadata": {},
   "source": [
    "#### a) Game Time by Result"
   ]
  },
  {
   "cell_type": "code",
   "execution_count": 13,
   "metadata": {},
   "outputs": [
    {
     "data": {
      "image/png": "[encoded data removed]",
      "text/plain": [
       "<Figure size 1080x720 with 1 Axes>"
      ]
     },
     "metadata": {
      "needs_background": "light"
     },
     "output_type": "display_data"
    }
   ],
   "source": [
    "# plot the game_time distribution by winner\n",
    "plot_comparison_dist([df_input_m1, df_input_0, df_input_1], 'game_time', \n",
    "                     [\"Result - -1\", \"Result - 0\", \"Result - 1\"], \n",
    "                     title='Game Time Distribution', \n",
    "                     outfile='game_time_comparison_dist.png')"
   ]
  },
  {
   "cell_type": "markdown",
   "metadata": {},
   "source": [
    "#### b) Winner"
   ]
  },
  {
   "cell_type": "code",
   "execution_count": 14,
   "metadata": {},
   "outputs": [
    {
     "data": {
      "image/png": "[encoded data removed]",
      "text/plain": [
       "<Figure size 1080x504 with 1 Axes>"
      ]
     },
     "metadata": {
      "needs_background": "light"
     },
     "output_type": "display_data"
    }
   ],
   "source": [
    "# plot the distribution of winner\n",
    "plot_general_bar(df_input, 'winner', 'id', title='Winner Distribution', outfile='winner_bar.png')"
   ]
  },
  {
   "cell_type": "markdown",
   "metadata": {},
   "source": [
    "#### c) feature_1"
   ]
  },
  {
   "cell_type": "code",
   "execution_count": 15,
   "metadata": {},
   "outputs": [
    {
     "data": {
      "image/png": "[encoded data removed]",
      "text/plain": [
       "<Figure size 1080x720 with 1 Axes>"
      ]
     },
     "metadata": {
      "needs_background": "light"
     },
     "output_type": "display_data"
    }
   ],
   "source": [
    "# plot the feature_1 distribution by winner\n",
    "plot_comparison_dist([df_input_m1, df_input_0, df_input_1], 'feature_1', \n",
    "                     [\"Result - -1\", \"Result - 0\", \"Result - 1\"], \n",
    "                     title='Feature 1 Distribution', \n",
    "                     outfile='feature_1_comparison_dist.png')"
   ]
  },
  {
   "cell_type": "markdown",
   "metadata": {},
   "source": [
    "#### d) feature_2"
   ]
  },
  {
   "cell_type": "code",
   "execution_count": 16,
   "metadata": {},
   "outputs": [
    {
     "data": {
      "image/png": "[encoded data removed]",
      "text/plain": [
       "<Figure size 1080x720 with 1 Axes>"
      ]
     },
     "metadata": {
      "needs_background": "light"
     },
     "output_type": "display_data"
    }
   ],
   "source": [
    "# plot the histogram for feature_2\n",
    "plot_general_dist(df_input, 'feature_2', 'Feature 2 Distribution', 'feature_2_dist.png')"
   ]
  },
  {
   "cell_type": "code",
   "execution_count": 17,
   "metadata": {},
   "outputs": [
    {
     "data": {
      "image/png": "[encoded data removed]",
      "text/plain": [
       "<Figure size 1080x720 with 1 Axes>"
      ]
     },
     "metadata": {
      "needs_background": "light"
     },
     "output_type": "display_data"
    }
   ],
   "source": [
    "# plot the feature_2 distribution by winner\n",
    "plot_comparison_dist([df_input_m1, df_input_0, df_input_1], 'feature_2', \n",
    "                     [\"Result - -1\", \"Result - 0\", \"Result - 1\"], \n",
    "                     title='Feature 2 Distribution', \n",
    "                     outfile='feature_2_comparison_dist.png')"
   ]
  },
  {
   "cell_type": "markdown",
   "metadata": {},
   "source": [
    "#### e) feature_3"
   ]
  },
  {
   "cell_type": "code",
   "execution_count": 18,
   "metadata": {},
   "outputs": [
    {
     "data": {
      "image/png": "[encoded data removed]",
      "text/plain": [
       "<Figure size 1080x504 with 1 Axes>"
      ]
     },
     "metadata": {
      "needs_background": "light"
     },
     "output_type": "display_data"
    }
   ],
   "source": [
    "# plot the distribution of feature_3\n",
    "plot_general_bar(df_input, 'feature_3', 'id', title='Feature 3 Distribution', outfile='feature_3_bar.png')"
   ]
  },
  {
   "cell_type": "markdown",
   "metadata": {},
   "source": [
    "#### f) feature_4"
   ]
  },
  {
   "cell_type": "code",
   "execution_count": 19,
   "metadata": {},
   "outputs": [
    {
     "data": {
      "image/png": "[encoded data removed]",
      "text/plain": [
       "<Figure size 1080x504 with 1 Axes>"
      ]
     },
     "metadata": {
      "needs_background": "light"
     },
     "output_type": "display_data"
    }
   ],
   "source": [
    "# plot the distribution of feature_4\n",
    "plot_general_bar(df_input, 'feature_4', 'id', title='Feature 4 Distribution', outfile='feature_4_bar.png')"
   ]
  },
  {
   "cell_type": "markdown",
   "metadata": {},
   "source": [
    "**Comment**: _one interesting category: 'catch me if you can' - missing value found!_"
   ]
  },
  {
   "cell_type": "code",
   "execution_count": 20,
   "metadata": {},
   "outputs": [
    {
     "data": {
      "text/html": [
       "<div>\n",
       "<style scoped>\n",
       "    .dataframe tbody tr th:only-of-type {\n",
       "        vertical-align: middle;\n",
       "    }\n",
       "\n",
       "    .dataframe tbody tr th {\n",
       "        vertical-align: top;\n",
       "    }\n",
       "\n",
       "    .dataframe thead th {\n",
       "        text-align: right;\n",
       "    }\n",
       "</style>\n",
       "<table border=\"1\" class=\"dataframe\">\n",
       "  <thead>\n",
       "    <tr style=\"text-align: right;\">\n",
       "      <th></th>\n",
       "      <th>id</th>\n",
       "      <th>match_id</th>\n",
       "      <th>game_time</th>\n",
       "      <th>winner</th>\n",
       "      <th>feature_1</th>\n",
       "      <th>feature_2</th>\n",
       "      <th>feature_3</th>\n",
       "      <th>feature_4</th>\n",
       "    </tr>\n",
       "  </thead>\n",
       "  <tbody>\n",
       "    <tr>\n",
       "      <th>64</th>\n",
       "      <td>315</td>\n",
       "      <td>3.712487e+09</td>\n",
       "      <td>295.4831</td>\n",
       "      <td>0.0</td>\n",
       "      <td>375.9047</td>\n",
       "      <td>-14.591789</td>\n",
       "      <td>-1.0</td>\n",
       "      <td>catch me if you can</td>\n",
       "    </tr>\n",
       "  </tbody>\n",
       "</table>\n",
       "</div>"
      ],
      "text/plain": [
       "     id      match_id  game_time  winner  feature_1  feature_2  feature_3  \\\n",
       "64  315  3.712487e+09   295.4831     0.0   375.9047 -14.591789       -1.0   \n",
       "\n",
       "              feature_4  \n",
       "64  catch me if you can  "
      ]
     },
     "execution_count": 20,
     "metadata": {},
     "output_type": "execute_result"
    }
   ],
   "source": [
    "df_input[df_input['feature_4']=='catch me if you can']"
   ]
  },
  {
   "cell_type": "markdown",
   "metadata": {},
   "source": [
    "## 2. Data Preparation"
   ]
  },
  {
   "cell_type": "markdown",
   "metadata": {},
   "source": [
    "Since only feature_4 has missing value - 'catch me if you can', we will only focus on this variable."
   ]
  },
  {
   "cell_type": "code",
   "execution_count": 21,
   "metadata": {},
   "outputs": [],
   "source": [
    "df_input.at[64, 'feature_4'] = np.nan"
   ]
  },
  {
   "cell_type": "code",
   "execution_count": 22,
   "metadata": {},
   "outputs": [],
   "source": [
    "df_input['feature_4'] = pd.to_numeric(df_input['feature_4'],errors='coerce')"
   ]
  },
  {
   "cell_type": "code",
   "execution_count": 23,
   "metadata": {},
   "outputs": [
    {
     "data": {
      "text/plain": [
       "id           3.150000e+02\n",
       "match_id     3.712487e+09\n",
       "game_time    2.954831e+02\n",
       "winner       0.000000e+00\n",
       "feature_1    3.759047e+02\n",
       "feature_2   -1.459179e+01\n",
       "feature_3   -1.000000e+00\n",
       "feature_4             NaN\n",
       "Name: 64, dtype: float64"
      ]
     },
     "execution_count": 23,
     "metadata": {},
     "output_type": "execute_result"
    }
   ],
   "source": [
    "df_input.iloc[64]"
   ]
  },
  {
   "cell_type": "code",
   "execution_count": 24,
   "metadata": {},
   "outputs": [],
   "source": [
    "# here we will use KNN as the imputation method\n",
    "from sklearn.impute import KNNImputer\n",
    "imputer = KNNImputer(n_neighbors=3)\n",
    "df_filled = imputer.fit_transform(df_input) # np.array format"
   ]
  },
  {
   "cell_type": "code",
   "execution_count": 25,
   "metadata": {},
   "outputs": [],
   "source": [
    "# generate new imputed dataframe\n",
    "df_imputed = pd.DataFrame(data=df_filled, index=df_input.index, columns=df_input.columns)"
   ]
  },
  {
   "cell_type": "code",
   "execution_count": 26,
   "metadata": {},
   "outputs": [
    {
     "data": {
      "text/plain": [
       "id           3.150000e+02\n",
       "match_id     3.712487e+09\n",
       "game_time    2.954831e+02\n",
       "winner       0.000000e+00\n",
       "feature_1    3.759047e+02\n",
       "feature_2   -1.459179e+01\n",
       "feature_3   -1.000000e+00\n",
       "feature_4    5.998333e+03\n",
       "Name: 64, dtype: float64"
      ]
     },
     "execution_count": 26,
     "metadata": {},
     "output_type": "execute_result"
    }
   ],
   "source": [
    "# see that the missing value has been successfully filled\n",
    "df_imputed.iloc[64]"
   ]
  },
  {
   "cell_type": "code",
   "execution_count": 27,
   "metadata": {},
   "outputs": [],
   "source": [
    "df_final = df_imputed[df_imputed['winner']>=0]"
   ]
  },
  {
   "cell_type": "markdown",
   "metadata": {},
   "source": [
    "## 3. Build Predictive Model"
   ]
  },
  {
   "cell_type": "markdown",
   "metadata": {},
   "source": [
    "Since there are no categorical features, no encoding such as one-hot-encoding is needed. Also, as model selection needs to be data-driven, we choose the model by going through multiple types of models and selecting the one model with the best performance."
   ]
  },
  {
   "cell_type": "markdown",
   "metadata": {},
   "source": [
    "Regarding model evaluation, it's best to tailor the metrics to the use-case. Here we choose ROC Area under the curve as a good placeholder. If further information on costs of false positive, false negative, true positive, true negative is available, we can also define better optimization metrics, such as with cost matrix."
   ]
  },
  {
   "cell_type": "code",
   "execution_count": 28,
   "metadata": {},
   "outputs": [],
   "source": [
    "#Score metric\n",
    "from sklearn.metrics import accuracy_score, confusion_matrix, precision_score, f1_score, roc_auc_score\n",
    "#Classifiers to compare\n",
    "from sklearn.linear_model import LogisticRegression\n",
    "from sklearn.ensemble import RandomForestClassifier\n",
    "from sklearn import svm, tree\n",
    "from sklearn.svm import SVC\n",
    "import xgboost as xgb\n",
    "\n",
    "from sklearn.model_selection import KFold, cross_val_score, train_test_split\n",
    "\n",
    "#Bayes optimization\n",
    "from bayes_opt import BayesianOptimization\n",
    "import warnings"
   ]
  },
  {
   "cell_type": "code",
   "execution_count": 29,
   "metadata": {},
   "outputs": [],
   "source": [
    "# Select training features and target feature\n",
    "features_x = ['game_time','feature_1','feature_2', 'feature_3', 'feature_4']\n",
    "X  = df_final[features_x]\n",
    "y= df_final['winner'] #Split the Data into Training and Testing sets with test size as #30%\n",
    "\n",
    "# Here a simple train_test_split of the data is done, only for simplification purposes. \n",
    "# In production however, a rigorous K Fold should be adopted to avoid selection bias\n",
    "X_train, X_test, y_train, y_test = train_test_split(X, y, test_size=0.3, shuffle=True)"
   ]
  },
  {
   "cell_type": "markdown",
   "metadata": {},
   "source": [
    "### 1. Optimize the hyperparameters for the inspected classifiers:"
   ]
  },
  {
   "cell_type": "code",
   "execution_count": 30,
   "metadata": {},
   "outputs": [
    {
     "name": "stderr",
     "output_type": "stream",
     "text": [
      "INFO:root:Optimizing Hyperparameter for: Logistic Regression\n"
     ]
    },
    {
     "name": "stdout",
     "output_type": "stream",
     "text": [
      "|   iter    |  target   |     c     |   ints    |\n",
      "-------------------------------------------------\n",
      "| \u001b[0m 1       \u001b[0m | \u001b[0m 0.6605  \u001b[0m | \u001b[0m 33.29   \u001b[0m | \u001b[0m 82.18   \u001b[0m |\n",
      "| \u001b[0m 2       \u001b[0m | \u001b[0m 0.6605  \u001b[0m | \u001b[0m 34.7    \u001b[0m | \u001b[0m 0.9843  \u001b[0m |\n",
      "| \u001b[0m 3       \u001b[0m | \u001b[0m 0.6605  \u001b[0m | \u001b[0m 40.05   \u001b[0m | \u001b[0m 20.81   \u001b[0m |\n",
      "| \u001b[0m 4       \u001b[0m | \u001b[0m 0.6605  \u001b[0m | \u001b[0m 18.03   \u001b[0m | \u001b[0m 54.31   \u001b[0m |\n",
      "| \u001b[0m 5       \u001b[0m | \u001b[0m 0.6605  \u001b[0m | \u001b[0m 48.64   \u001b[0m | \u001b[0m 10.47   \u001b[0m |\n",
      "| \u001b[0m 6       \u001b[0m | \u001b[0m 0.6605  \u001b[0m | \u001b[0m 99.6    \u001b[0m | \u001b[0m 99.82   \u001b[0m |\n",
      "| \u001b[0m 7       \u001b[0m | \u001b[0m 0.6605  \u001b[0m | \u001b[0m 99.94   \u001b[0m | \u001b[0m 0.4002  \u001b[0m |\n",
      "| \u001b[0m 8       \u001b[0m | \u001b[0m 0.6605  \u001b[0m | \u001b[0m 0.5401  \u001b[0m | \u001b[0m 99.83   \u001b[0m |\n",
      "| \u001b[0m 9       \u001b[0m | \u001b[0m 0.6605  \u001b[0m | \u001b[0m 100.0   \u001b[0m | \u001b[0m 99.97   \u001b[0m |\n",
      "| \u001b[0m 10      \u001b[0m | \u001b[0m 0.6605  \u001b[0m | \u001b[0m 0.3095  \u001b[0m | \u001b[0m 0.2035  \u001b[0m |\n",
      "| \u001b[0m 11      \u001b[0m | \u001b[0m 0.6605  \u001b[0m | \u001b[0m 0.2629  \u001b[0m | \u001b[0m 99.91   \u001b[0m |\n",
      "| \u001b[0m 12      \u001b[0m | \u001b[0m 0.6605  \u001b[0m | \u001b[0m 99.9    \u001b[0m | \u001b[0m 0.06276 \u001b[0m |\n",
      "| \u001b[0m 13      \u001b[0m | \u001b[0m 0.6605  \u001b[0m | \u001b[0m 99.9    \u001b[0m | \u001b[0m 99.95   \u001b[0m |\n",
      "| \u001b[0m 14      \u001b[0m | \u001b[0m 0.6605  \u001b[0m | \u001b[0m 0.03552 \u001b[0m | \u001b[0m 0.4116  \u001b[0m |\n"
     ]
    },
    {
     "name": "stderr",
     "output_type": "stream",
     "text": [
      "INFO:root:Optimizing Hyperparameter for: SVM\n"
     ]
    },
    {
     "name": "stdout",
     "output_type": "stream",
     "text": [
      "| \u001b[0m 15      \u001b[0m | \u001b[0m 0.6605  \u001b[0m | \u001b[0m 0.248   \u001b[0m | \u001b[0m 99.83   \u001b[0m |\n",
      "=================================================\n",
      "|   iter    |  target   |     c     |     e     |     g     |\n",
      "-------------------------------------------------------------\n",
      "| \u001b[0m 1       \u001b[0m | \u001b[0m 0.5     \u001b[0m | \u001b[0m 74.16   \u001b[0m | \u001b[0m 4.977   \u001b[0m | \u001b[0m 0.9737  \u001b[0m |\n",
      "| \u001b[0m 2       \u001b[0m | \u001b[0m 0.5     \u001b[0m | \u001b[0m 19.44   \u001b[0m | \u001b[0m 3.906   \u001b[0m | \u001b[0m 0.8025  \u001b[0m |\n",
      "| \u001b[0m 3       \u001b[0m | \u001b[0m 0.5     \u001b[0m | \u001b[0m 55.97   \u001b[0m | \u001b[0m 3.28    \u001b[0m | \u001b[0m 0.7538  \u001b[0m |\n",
      "| \u001b[0m 4       \u001b[0m | \u001b[0m 0.5     \u001b[0m | \u001b[0m 4.445   \u001b[0m | \u001b[0m 7.075   \u001b[0m | \u001b[0m 0.4987  \u001b[0m |\n",
      "| \u001b[0m 5       \u001b[0m | \u001b[0m 0.5     \u001b[0m | \u001b[0m 61.81   \u001b[0m | \u001b[0m 6.544   \u001b[0m | \u001b[0m 0.9535  \u001b[0m |\n",
      "| \u001b[95m 6       \u001b[0m | \u001b[95m 0.5039  \u001b[0m | \u001b[95m 99.97   \u001b[0m | \u001b[95m 0.0143  \u001b[0m | \u001b[95m 0.294   \u001b[0m |\n",
      "| \u001b[0m 7       \u001b[0m | \u001b[0m 0.5     \u001b[0m | \u001b[0m 99.98   \u001b[0m | \u001b[0m 9.967   \u001b[0m | \u001b[0m 0.7335  \u001b[0m |\n",
      "| \u001b[0m 8       \u001b[0m | \u001b[0m 0.5004  \u001b[0m | \u001b[0m 99.9    \u001b[0m | \u001b[0m 0.003094\u001b[0m | \u001b[0m 0.4842  \u001b[0m |\n",
      "| \u001b[0m 9       \u001b[0m | \u001b[0m 0.5002  \u001b[0m | \u001b[0m 0.05773 \u001b[0m | \u001b[0m 0.1319  \u001b[0m | \u001b[0m 0.9447  \u001b[0m |\n",
      "| \u001b[95m 10      \u001b[0m | \u001b[95m 0.5147  \u001b[0m | \u001b[95m 99.91   \u001b[0m | \u001b[95m 0.08667 \u001b[0m | \u001b[95m 0.01154 \u001b[0m |\n",
      "| \u001b[0m 11      \u001b[0m | \u001b[0m 0.5     \u001b[0m | \u001b[0m 77.2    \u001b[0m | \u001b[0m 9.732   \u001b[0m | \u001b[0m 0.001646\u001b[0m |\n",
      "| \u001b[95m 12      \u001b[0m | \u001b[95m 0.5408  \u001b[0m | \u001b[95m 70.48   \u001b[0m | \u001b[95m 0.1633  \u001b[0m | \u001b[95m 0.000282\u001b[0m |\n",
      "| \u001b[0m 13      \u001b[0m | \u001b[0m 0.5114  \u001b[0m | \u001b[0m 67.16   \u001b[0m | \u001b[0m 0.03866 \u001b[0m | \u001b[0m 0.02223 \u001b[0m |\n",
      "| \u001b[0m 14      \u001b[0m | \u001b[0m 0.5     \u001b[0m | \u001b[0m 40.91   \u001b[0m | \u001b[0m 10.0    \u001b[0m | \u001b[0m 0.0001  \u001b[0m |\n"
     ]
    },
    {
     "name": "stderr",
     "output_type": "stream",
     "text": [
      "INFO:root:Optimizing Hyperparameter for: Random Forest\n"
     ]
    },
    {
     "name": "stdout",
     "output_type": "stream",
     "text": [
      "| \u001b[95m 15      \u001b[0m | \u001b[95m 0.548   \u001b[0m | \u001b[95m 84.8    \u001b[0m | \u001b[95m 0.001   \u001b[0m | \u001b[95m 0.0001  \u001b[0m |\n",
      "=============================================================\n",
      "|   iter    |  target   |   leaf    |   split   |   trees   |\n",
      "-------------------------------------------------------------\n",
      "| \u001b[0m 1       \u001b[0m | \u001b[0m 0.658   \u001b[0m | \u001b[0m 9.755   \u001b[0m | \u001b[0m 4.093   \u001b[0m | \u001b[0m 152.6   \u001b[0m |\n",
      "| \u001b[0m 2       \u001b[0m | \u001b[0m 0.6538  \u001b[0m | \u001b[0m 5.193   \u001b[0m | \u001b[0m 3.344   \u001b[0m | \u001b[0m 184.5   \u001b[0m |\n",
      "| \u001b[95m 3       \u001b[0m | \u001b[95m 0.6581  \u001b[0m | \u001b[95m 8.514   \u001b[0m | \u001b[95m 19.08   \u001b[0m | \u001b[95m 131.1   \u001b[0m |\n",
      "| \u001b[0m 4       \u001b[0m | \u001b[0m 0.6516  \u001b[0m | \u001b[0m 4.283   \u001b[0m | \u001b[0m 13.38   \u001b[0m | \u001b[0m 126.7   \u001b[0m |\n",
      "| \u001b[0m 5       \u001b[0m | \u001b[0m 0.655   \u001b[0m | \u001b[0m 7.432   \u001b[0m | \u001b[0m 7.689   \u001b[0m | \u001b[0m 63.39   \u001b[0m |\n",
      "| \u001b[95m 6       \u001b[0m | \u001b[95m 0.659   \u001b[0m | \u001b[95m 9.956   \u001b[0m | \u001b[95m 19.87   \u001b[0m | \u001b[95m 199.9   \u001b[0m |\n",
      "| \u001b[0m 7       \u001b[0m | \u001b[0m 0.6487  \u001b[0m | \u001b[0m 9.994   \u001b[0m | \u001b[0m 19.96   \u001b[0m | \u001b[0m 11.0    \u001b[0m |\n",
      "| \u001b[0m 8       \u001b[0m | \u001b[0m 0.6589  \u001b[0m | \u001b[0m 9.979   \u001b[0m | \u001b[0m 2.451   \u001b[0m | \u001b[0m 123.1   \u001b[0m |\n",
      "| \u001b[95m 9       \u001b[0m | \u001b[95m 0.6599  \u001b[0m | \u001b[95m 9.988   \u001b[0m | \u001b[95m 19.79   \u001b[0m | \u001b[95m 172.7   \u001b[0m |\n",
      "| \u001b[0m 10      \u001b[0m | \u001b[0m 0.6583  \u001b[0m | \u001b[0m 9.963   \u001b[0m | \u001b[0m 19.81   \u001b[0m | \u001b[0m 194.7   \u001b[0m |\n",
      "| \u001b[0m 11      \u001b[0m | \u001b[0m 0.6578  \u001b[0m | \u001b[0m 9.99    \u001b[0m | \u001b[0m 19.96   \u001b[0m | \u001b[0m 129.4   \u001b[0m |\n",
      "| \u001b[0m 12      \u001b[0m | \u001b[0m 0.6581  \u001b[0m | \u001b[0m 9.981   \u001b[0m | \u001b[0m 2.591   \u001b[0m | \u001b[0m 199.5   \u001b[0m |\n",
      "| \u001b[0m 13      \u001b[0m | \u001b[0m 0.6583  \u001b[0m | \u001b[0m 9.98    \u001b[0m | \u001b[0m 2.628   \u001b[0m | \u001b[0m 138.1   \u001b[0m |\n",
      "| \u001b[0m 14      \u001b[0m | \u001b[0m 0.659   \u001b[0m | \u001b[0m 9.944   \u001b[0m | \u001b[0m 19.38   \u001b[0m | \u001b[0m 199.2   \u001b[0m |\n"
     ]
    },
    {
     "name": "stderr",
     "output_type": "stream",
     "text": [
      "INFO:root:Optimizing Hyperparameter for: XGBoost\n"
     ]
    },
    {
     "name": "stdout",
     "output_type": "stream",
     "text": [
      "| \u001b[0m 15      \u001b[0m | \u001b[0m 0.6588  \u001b[0m | \u001b[0m 9.994   \u001b[0m | \u001b[0m 19.5    \u001b[0m | \u001b[0m 172.4   \u001b[0m |\n",
      "=============================================================\n",
      "|   iter    |  target   | colsam... |   gamma   | learni... | max_de... | max_depth | min_ch... | n_esti... | reg_alpha | reg_la... | subsample |\n",
      "-------------------------------------------------------------------------------------------------------------------------------------------------\n",
      "| \u001b[0m 1       \u001b[0m | \u001b[0m 0.6565  \u001b[0m | \u001b[0m 0.203   \u001b[0m | \u001b[0m 0.2613  \u001b[0m | \u001b[0m 0.02807 \u001b[0m | \u001b[0m 0.06152 \u001b[0m | \u001b[0m 2.734   \u001b[0m | \u001b[0m 2.864   \u001b[0m | \u001b[0m 2.135e+0\u001b[0m | \u001b[0m 0.4237  \u001b[0m | \u001b[0m 0.2783  \u001b[0m | \u001b[0m 0.5964  \u001b[0m |\n",
      "| \u001b[0m 2       \u001b[0m | \u001b[0m 0.644   \u001b[0m | \u001b[0m 0.9071  \u001b[0m | \u001b[0m 0.6399  \u001b[0m | \u001b[0m 0.2205  \u001b[0m | \u001b[0m 0.08376 \u001b[0m | \u001b[0m 3.271   \u001b[0m | \u001b[0m 3.814   \u001b[0m | \u001b[0m 1.952e+0\u001b[0m | \u001b[0m 0.4942  \u001b[0m | \u001b[0m 0.7952  \u001b[0m | \u001b[0m 0.7213  \u001b[0m |\n",
      "| \u001b[95m 3       \u001b[0m | \u001b[95m 0.6649  \u001b[0m | \u001b[95m 0.9128  \u001b[0m | \u001b[95m 0.4782  \u001b[0m | \u001b[95m 0.06821 \u001b[0m | \u001b[95m 0.06475 \u001b[0m | \u001b[95m 4.347   \u001b[0m | \u001b[95m 1.287   \u001b[0m | \u001b[95m 1.16e+03\u001b[0m | \u001b[95m 0.3177  \u001b[0m | \u001b[95m 0.4339  \u001b[0m | \u001b[95m 0.6569  \u001b[0m |\n",
      "| \u001b[0m 4       \u001b[0m | \u001b[0m 0.6635  \u001b[0m | \u001b[0m 0.1555  \u001b[0m | \u001b[0m 0.7704  \u001b[0m | \u001b[0m 0.2928  \u001b[0m | \u001b[0m 0.005827\u001b[0m | \u001b[0m 2.177   \u001b[0m | \u001b[0m 1.276   \u001b[0m | \u001b[0m 2.006e+0\u001b[0m | \u001b[0m 0.1012  \u001b[0m | \u001b[0m 0.6984  \u001b[0m | \u001b[0m 0.7405  \u001b[0m |\n",
      "| \u001b[95m 5       \u001b[0m | \u001b[95m 0.6655  \u001b[0m | \u001b[95m 0.9842  \u001b[0m | \u001b[95m 0.1884  \u001b[0m | \u001b[95m 0.2602  \u001b[0m | \u001b[95m 0.01784 \u001b[0m | \u001b[95m 3.154   \u001b[0m | \u001b[95m 5.401   \u001b[0m | \u001b[95m 1.103e+0\u001b[0m | \u001b[95m 0.1533  \u001b[0m | \u001b[95m 0.8019  \u001b[0m | \u001b[95m 0.5939  \u001b[0m |\n",
      "| \u001b[0m 6       \u001b[0m | \u001b[0m 0.6629  \u001b[0m | \u001b[0m 0.8186  \u001b[0m | \u001b[0m 1.0     \u001b[0m | \u001b[0m 0.07881 \u001b[0m | \u001b[0m 0.03784 \u001b[0m | \u001b[0m 2.488   \u001b[0m | \u001b[0m 1.328   \u001b[0m | \u001b[0m 2.5e+03 \u001b[0m | \u001b[0m 0.2705  \u001b[0m | \u001b[0m 0.1038  \u001b[0m | \u001b[0m 0.5852  \u001b[0m |\n",
      "| \u001b[0m 7       \u001b[0m | \u001b[0m 0.6587  \u001b[0m | \u001b[0m 0.9371  \u001b[0m | \u001b[0m 1.0     \u001b[0m | \u001b[0m 0.1915  \u001b[0m | \u001b[0m 0.06286 \u001b[0m | \u001b[0m 3.475   \u001b[0m | \u001b[0m 1.067   \u001b[0m | \u001b[0m 1e+03   \u001b[0m | \u001b[0m 0.3289  \u001b[0m | \u001b[0m 0.425   \u001b[0m | \u001b[0m 0.5224  \u001b[0m |\n",
      "| \u001b[0m 8       \u001b[0m | \u001b[0m 0.6486  \u001b[0m | \u001b[0m 0.113   \u001b[0m | \u001b[0m 1.0     \u001b[0m | \u001b[0m 0.2992  \u001b[0m | \u001b[0m 0.06664 \u001b[0m | \u001b[0m 2.252   \u001b[0m | \u001b[0m 1.039   \u001b[0m | \u001b[0m 1.1e+03 \u001b[0m | \u001b[0m 0.226   \u001b[0m | \u001b[0m 0.1472  \u001b[0m | \u001b[0m 0.7253  \u001b[0m |\n",
      "| \u001b[0m 9       \u001b[0m | \u001b[0m 0.6595  \u001b[0m | \u001b[0m 0.8821  \u001b[0m | \u001b[0m 1.0     \u001b[0m | \u001b[0m 0.274   \u001b[0m | \u001b[0m 0.03016 \u001b[0m | \u001b[0m 4.98    \u001b[0m | \u001b[0m 9.968   \u001b[0m | \u001b[0m 1.392e+0\u001b[0m | \u001b[0m 0.187   \u001b[0m | \u001b[0m 0.1721  \u001b[0m | \u001b[0m 0.7374  \u001b[0m |\n",
      "| \u001b[0m 10      \u001b[0m | \u001b[0m 0.642   \u001b[0m | \u001b[0m 0.4203  \u001b[0m | \u001b[0m 1.0     \u001b[0m | \u001b[0m 0.2658  \u001b[0m | \u001b[0m 0.09763 \u001b[0m | \u001b[0m 4.742   \u001b[0m | \u001b[0m 9.969   \u001b[0m | \u001b[0m 1.229e+0\u001b[0m | \u001b[0m 0.22    \u001b[0m | \u001b[0m 0.4176  \u001b[0m | \u001b[0m 0.7282  \u001b[0m |\n",
      "| \u001b[0m 11      \u001b[0m | \u001b[0m 0.6585  \u001b[0m | \u001b[0m 0.4994  \u001b[0m | \u001b[0m 1.0     \u001b[0m | \u001b[0m 0.2096  \u001b[0m | \u001b[0m 0.02972 \u001b[0m | \u001b[0m 4.938   \u001b[0m | \u001b[0m 9.685   \u001b[0m | \u001b[0m 1.592e+0\u001b[0m | \u001b[0m 0.3288  \u001b[0m | \u001b[0m 0.7837  \u001b[0m | \u001b[0m 0.5666  \u001b[0m |\n",
      "| \u001b[0m 12      \u001b[0m | \u001b[0m 0.6599  \u001b[0m | \u001b[0m 0.5011  \u001b[0m | \u001b[0m 1.0     \u001b[0m | \u001b[0m 0.04151 \u001b[0m | \u001b[0m 0.05997 \u001b[0m | \u001b[0m 4.963   \u001b[0m | \u001b[0m 1.054   \u001b[0m | \u001b[0m 2.359e+0\u001b[0m | \u001b[0m 0.4737  \u001b[0m | \u001b[0m 0.1563  \u001b[0m | \u001b[0m 0.6624  \u001b[0m |\n",
      "| \u001b[95m 13      \u001b[0m | \u001b[95m 0.6671  \u001b[0m | \u001b[95m 0.5639  \u001b[0m | \u001b[95m 1.0     \u001b[0m | \u001b[95m 0.1651  \u001b[0m | \u001b[95m 0.01537 \u001b[0m | \u001b[95m 4.973   \u001b[0m | \u001b[95m 9.882   \u001b[0m | \u001b[95m 1.49e+03\u001b[0m | \u001b[95m 0.1843  \u001b[0m | \u001b[95m 0.1493  \u001b[0m | \u001b[95m 0.7872  \u001b[0m |\n",
      "| \u001b[0m 14      \u001b[0m | \u001b[0m 0.6597  \u001b[0m | \u001b[0m 0.5337  \u001b[0m | \u001b[0m 1.0     \u001b[0m | \u001b[0m 0.06668 \u001b[0m | \u001b[0m 0.06743 \u001b[0m | \u001b[0m 4.865   \u001b[0m | \u001b[0m 9.902   \u001b[0m | \u001b[0m 1.142e+0\u001b[0m | \u001b[0m 0.1107  \u001b[0m | \u001b[0m 0.8451  \u001b[0m | \u001b[0m 0.7214  \u001b[0m |\n",
      "| \u001b[0m 15      \u001b[0m | \u001b[0m 0.661   \u001b[0m | \u001b[0m 0.9102  \u001b[0m | \u001b[0m 1.0     \u001b[0m | \u001b[0m 0.01665 \u001b[0m | \u001b[0m 0.01733 \u001b[0m | \u001b[0m 4.904   \u001b[0m | \u001b[0m 1.028   \u001b[0m | \u001b[0m 1.458e+0\u001b[0m | \u001b[0m 0.1351  \u001b[0m | \u001b[0m 0.4582  \u001b[0m | \u001b[0m 0.555   \u001b[0m |\n",
      "=================================================================================================================================================\n"
     ]
    }
   ],
   "source": [
    "# LogisticRegression CV\n",
    "def LR_CV(c, ints, kf):\n",
    "    return cross_val_score(LogisticRegression(C = c, intercept_scaling = ints),\n",
    "                       X_train,\n",
    "                       y_train,\n",
    "                       cv=5,\n",
    "                       scoring=\"roc_auc\",\n",
    "                       n_jobs=-1).mean()\n",
    "\n",
    "# SVM CV\n",
    "def SVM_CV(c, g, e):\n",
    "    return cross_val_score(SVC(C = c, gamma = g, tol = e),\n",
    "                       X_train,\n",
    "                       y_train,\n",
    "                       cv=5,\n",
    "                       scoring=\"roc_auc\",\n",
    "                       n_jobs=-1).mean()\n",
    "\n",
    "#Random Forest CV\n",
    "def RF_CV(trees, split, leaf):\n",
    "    return cross_val_score(RandomForestClassifier(n_estimators = int(trees), \n",
    "                                                  min_samples_split = int(split), \n",
    "                                                  min_samples_leaf = int(leaf), \n",
    "                                                  max_features = None),\n",
    "                       X_train,\n",
    "                       y_train,\n",
    "                       cv=5,\n",
    "                       scoring=\"roc_auc\",\n",
    "                       n_jobs=-1).mean()\n",
    "\n",
    "# XGBoost CV\n",
    "def xgboost_CV(max_depth,\n",
    "              learning_rate,\n",
    "              n_estimators,\n",
    "              gamma,\n",
    "              min_child_weight,\n",
    "              max_delta_step,\n",
    "              subsample,\n",
    "              colsample_bytree,\n",
    "              reg_alpha,\n",
    "              reg_lambda,\n",
    "              silent=True,\n",
    "              nthread=-1,\n",
    "              random_state=1):\n",
    "    return cross_val_score(xgb.XGBClassifier(max_depth=int(max_depth),\n",
    "                                             learning_rate=learning_rate,\n",
    "                                             n_estimators=int(n_estimators),\n",
    "                                             silent=silent,\n",
    "                                             nthread=nthread,\n",
    "                                             gamma=gamma,\n",
    "                                             min_child_weight=min_child_weight,\n",
    "                                             max_delta_step=max_delta_step,\n",
    "                                             subsample=subsample,\n",
    "                                             colsample_bytree=colsample_bytree,\n",
    "                                             reg_alpha=reg_alpha,\n",
    "                                             reg_lambda = reg_lambda),\n",
    "                           X_train,\n",
    "                           y_train,\n",
    "                           cv=5,\n",
    "                           scoring=\"roc_auc\",\n",
    "                           n_jobs=-1).mean()\n",
    "\n",
    "kf = KFold(n_splits = 5, shuffle = True, random_state = 1)\n",
    "\n",
    "# Search for a good set of parameters for logistic regression\n",
    "bo_LR = BayesianOptimization(lambda c, ints: LR_CV(c, ints, kf), {'c' : (0.001, 100), 'ints' : (0.001, 100)})\n",
    "with warnings.catch_warnings():\n",
    "    warnings.filterwarnings('ignore')\n",
    "    logging.info('Optimizing Hyperparameter for: Logistic Regression')\n",
    "    bo_LR.maximize(n_iter=10)\n",
    "\n",
    "# Search for a good set of parameters for support vector machine\n",
    "bo_SVM = BayesianOptimization(SVM_CV, {'c' : (0.001, 100), 'g' : (0.0001, 1), 'e' : (0.001, 10)})\n",
    "with warnings.catch_warnings():\n",
    "    warnings.filterwarnings('ignore')\n",
    "    logging.info('Optimizing Hyperparameter for: SVM')\n",
    "    bo_SVM.maximize(init_points=5, n_iter=10, acq='ei', xi=0.0)\n",
    "\n",
    "# Search for a good set of parameters for random forest.\n",
    "bo_RF = BayesianOptimization(RF_CV, {'trees' : (10, 200), 'split' : (2, 20), 'leaf' : (1, 10)})\n",
    "with warnings.catch_warnings():\n",
    "    warnings.filterwarnings('ignore')\n",
    "    logging.info('Optimizing Hyperparameter for: Random Forest')\n",
    "    bo_RF.maximize(init_points=5, n_iter=10, acq='ei', xi=0.0)\n",
    "\n",
    "# Search for a good set of parameters for xgboost.\n",
    "bo_xgboost = BayesianOptimization(xgboost_CV,\n",
    "                                 {'max_depth': (2, 5),\n",
    "                                  'learning_rate': (0.01, 0.3),\n",
    "                                  'n_estimators': (1000, 2500),\n",
    "                                  'gamma': (1., 0.01),\n",
    "                                  'min_child_weight': (1, 10),\n",
    "                                  'max_delta_step': (0, 0.1),\n",
    "                                  'subsample': (0.5, 0.8),\n",
    "                                  'colsample_bytree' :(0.1, 0.99),\n",
    "                                  'reg_alpha':(0.1, 0.5),\n",
    "                                  'reg_lambda':(0.1, 0.9)\n",
    "                                  })\n",
    "\n",
    "with warnings.catch_warnings():\n",
    "    warnings.filterwarnings('ignore')\n",
    "    logging.info('Optimizing Hyperparameter for: XGBoost')\n",
    "    bo_xgboost.maximize(init_points=5, n_iter=10, acq='ei', xi=0.0)"
   ]
  },
  {
   "cell_type": "code",
   "execution_count": 31,
   "metadata": {},
   "outputs": [],
   "source": [
    "max_params_xgboost = bo_xgboost.max['params']\n",
    "max_params_xgboost['max_depth'] = int(max_params_xgboost['max_depth'])\n",
    "\n",
    "max_params_SVM = bo_SVM.max['params']\n",
    "\n",
    "max_params_LR = bo_LR.max['params']\n",
    "\n",
    "max_params_RF = bo_RF.max['params']\n",
    "\n",
    "# set the hyperparameters of individual models to their optimal ones \n",
    "# according the previous bayesian optimization search results\n",
    "classifiers = []\n",
    "model1 = xgb.XGBClassifier(max_depth=max_params_xgboost['max_depth'],\n",
    "                                             learning_rate=max_params_xgboost['learning_rate'],\n",
    "                                             n_estimators=int(max_params_xgboost['n_estimators']),\n",
    "                                             silent=True,\n",
    "                                             nthread=-1,\n",
    "                                             gamma=max_params_xgboost['gamma'],\n",
    "                                             min_child_weight=max_params_xgboost['min_child_weight'],\n",
    "                                             max_delta_step=max_params_xgboost['max_delta_step'],\n",
    "                                             subsample=max_params_xgboost['subsample'],\n",
    "                                             colsample_bytree=max_params_xgboost['colsample_bytree'],\n",
    "                                             reg_alpha=max_params_xgboost['reg_alpha'],\n",
    "                                             reg_lambda = max_params_xgboost['reg_lambda'])\n",
    "classifiers.append(model1)\n",
    "model2 = svm.SVC(C=max_params_SVM['c'], gamma=max_params_SVM['g'], tol=max_params_SVM['e'])\n",
    "classifiers.append(model2)\n",
    "model3 = LogisticRegression(C = max_params_LR['c'], intercept_scaling = max_params_LR['ints'])\n",
    "classifiers.append(model3)\n",
    "model4 = RandomForestClassifier(n_estimators = int(max_params_RF['trees']), \n",
    "                                min_samples_split = int(max_params_RF['split']), \n",
    "                                min_samples_leaf = int(max_params_RF['leaf']), \n",
    "                                max_features = None)\n",
    "classifiers.append(model4)"
   ]
  },
  {
   "cell_type": "markdown",
   "metadata": {},
   "source": [
    "### 2. Fit the classifiers, compare results and find the best classifier:"
   ]
  },
  {
   "cell_type": "code",
   "execution_count": 32,
   "metadata": {
    "scrolled": false
   },
   "outputs": [
    {
     "name": "stderr",
     "output_type": "stream",
     "text": [
      "INFO:root:ROC AOC of XGBClassifier(base_score=0.5, booster='gbtree', colsample_bylevel=1,\n",
      "              colsample_bynode=1, colsample_bytree=0.5638871857553662,\n",
      "              gamma=1.0, learning_rate=0.1651438911640201,\n",
      "              max_delta_step=0.015367000690120248, max_depth=4,\n",
      "              min_child_weight=9.881928797022438, missing=None,\n",
      "              n_estimators=1490, n_jobs=1, nthread=-1,\n",
      "              objective='binary:logistic', random_state=0,\n",
      "              reg_alpha=0.18434768601195106, reg_lambda=0.14928901416300608,\n",
      "              scale_pos_weight=1, seed=None, silent=True,\n",
      "              subsample=0.7871795735484101, verbosity=1) is 0.6042661952156452\n",
      "INFO:root:Confusion Matrix of XGBClassifier(base_score=0.5, booster='gbtree', colsample_bylevel=1,\n",
      "              colsample_bynode=1, colsample_bytree=0.5638871857553662,\n",
      "              gamma=1.0, learning_rate=0.1651438911640201,\n",
      "              max_delta_step=0.015367000690120248, max_depth=4,\n",
      "              min_child_weight=9.881928797022438, missing=None,\n",
      "              n_estimators=1490, n_jobs=1, nthread=-1,\n",
      "              objective='binary:logistic', random_state=0,\n",
      "              reg_alpha=0.18434768601195106, reg_lambda=0.14928901416300608,\n",
      "              scale_pos_weight=1, seed=None, silent=True,\n",
      "              subsample=0.7871795735484101, verbosity=1) is [[1489  586]\n",
      " [ 843  813]]\n",
      "INFO:root:ROC AOC of SVC(C=84.80321521003265, break_ties=False, cache_size=200, class_weight=None,\n",
      "    coef0=0.0, decision_function_shape='ovr', degree=3, gamma=0.0001,\n",
      "    kernel='rbf', max_iter=-1, probability=False, random_state=None,\n",
      "    shrinking=True, tol=0.001, verbose=False) is 0.5646958849892323\n",
      "INFO:root:Confusion Matrix of SVC(C=84.80321521003265, break_ties=False, cache_size=200, class_weight=None,\n",
      "    coef0=0.0, decision_function_shape='ovr', degree=3, gamma=0.0001,\n",
      "    kernel='rbf', max_iter=-1, probability=False, random_state=None,\n",
      "    shrinking=True, tol=0.001, verbose=False) is [[1311  764]\n",
      " [ 832  824]]\n",
      "INFO:root:ROC AOC of LogisticRegression(C=33.2893791575435, class_weight=None, dual=False,\n",
      "                   fit_intercept=True, intercept_scaling=82.17869087935433,\n",
      "                   l1_ratio=None, max_iter=100, multi_class='auto', n_jobs=None,\n",
      "                   penalty='l2', random_state=None, solver='lbfgs', tol=0.0001,\n",
      "                   verbose=0, warm_start=False) is 0.5998677317967522\n",
      "INFO:root:Confusion Matrix of LogisticRegression(C=33.2893791575435, class_weight=None, dual=False,\n",
      "                   fit_intercept=True, intercept_scaling=82.17869087935433,\n",
      "                   l1_ratio=None, max_iter=100, multi_class='auto', n_jobs=None,\n",
      "                   penalty='l2', random_state=None, solver='lbfgs', tol=0.0001,\n",
      "                   verbose=0, warm_start=False) is [[1576  499]\n",
      " [ 927  729]]\n",
      "INFO:root:ROC AOC of RandomForestClassifier(bootstrap=True, ccp_alpha=0.0, class_weight=None,\n",
      "                       criterion='gini', max_depth=None, max_features=None,\n",
      "                       max_leaf_nodes=None, max_samples=None,\n",
      "                       min_impurity_decrease=0.0, min_impurity_split=None,\n",
      "                       min_samples_leaf=9, min_samples_split=19,\n",
      "                       min_weight_fraction_leaf=0.0, n_estimators=172,\n",
      "                       n_jobs=None, oob_score=False, random_state=None,\n",
      "                       verbose=0, warm_start=False) is 0.6115272684942669\n",
      "INFO:root:Confusion Matrix of RandomForestClassifier(bootstrap=True, ccp_alpha=0.0, class_weight=None,\n",
      "                       criterion='gini', max_depth=None, max_features=None,\n",
      "                       max_leaf_nodes=None, max_samples=None,\n",
      "                       min_impurity_decrease=0.0, min_impurity_split=None,\n",
      "                       min_samples_leaf=9, min_samples_split=19,\n",
      "                       min_weight_fraction_leaf=0.0, n_estimators=172,\n",
      "                       n_jobs=None, oob_score=False, random_state=None,\n",
      "                       verbose=0, warm_start=False) is [[1360  715]\n",
      " [ 716  940]]\n",
      "INFO:root:ROC AUC of the best Classifier: RandomForestClassifier(bootstrap=True, ccp_alpha=0.0, class_weight=None,\n",
      "                       criterion='gini', max_depth=None, max_features=None,\n",
      "                       max_leaf_nodes=None, max_samples=None,\n",
      "                       min_impurity_decrease=0.0, min_impurity_split=None,\n",
      "                       min_samples_leaf=9, min_samples_split=19,\n",
      "                       min_weight_fraction_leaf=0.0, n_estimators=172,\n",
      "                       n_jobs=None, oob_score=False, random_state=None,\n",
      "                       verbose=0, warm_start=False) is 0.6115272684942669\n",
      "INFO:root:Confusion Matrix of the best Classifier: RandomForestClassifier(bootstrap=True, ccp_alpha=0.0, class_weight=None,\n",
      "                       criterion='gini', max_depth=None, max_features=None,\n",
      "                       max_leaf_nodes=None, max_samples=None,\n",
      "                       min_impurity_decrease=0.0, min_impurity_split=None,\n",
      "                       min_samples_leaf=9, min_samples_split=19,\n",
      "                       min_weight_fraction_leaf=0.0, n_estimators=172,\n",
      "                       n_jobs=None, oob_score=False, random_state=None,\n",
      "                       verbose=0, warm_start=False): \n"
     ]
    },
    {
     "data": {
      "text/plain": [
       "<matplotlib.axes._subplots.AxesSubplot at 0x7fd8b5b4c6d8>"
      ]
     },
     "execution_count": 32,
     "metadata": {},
     "output_type": "execute_result"
    },
    {
     "data": {
      "image/png": "[encoded data removed]",
      "text/plain": [
       "<Figure size 432x288 with 2 Axes>"
      ]
     },
     "metadata": {},
     "output_type": "display_data"
    }
   ],
   "source": [
    "clf_best = None\n",
    "roc_auc_best = -1\n",
    "df_cm_best = None\n",
    "for clf in classifiers:\n",
    "    clf.fit(X_train, y_train)\n",
    "    y_pred= clf.predict(X_test)\n",
    "    roc_auc = roc_auc_score(y_test, y_pred)\n",
    "    logging.info(\"ROC AOC of %s is %s\"%(clf, roc_auc))\n",
    "    \n",
    "    conf_matrix = confusion_matrix(y_test, y_pred) \n",
    "    \n",
    "    logging.info(\"Confusion Matrix of %s is %s\"%(clf, conf_matrix))\n",
    "    conf_matrix = conf_matrix / conf_matrix.astype(np.float).sum(axis=1)\n",
    "\n",
    "    df_cm = pd.DataFrame(conf_matrix, range(2), range(2))\n",
    "\n",
    "    if roc_auc > roc_auc_best:\n",
    "        roc_auc_best = roc_auc\n",
    "        clf_best = clf\n",
    "        df_cm_best = df_cm\n",
    "logging.info(\"ROC AUC of the best Classifier: %s is %s\"%(clf_best, roc_auc_best))\n",
    "logging.info(\"Confusion Matrix of the best Classifier: %s: \"%(clf_best))\n",
    "\n",
    "#plt.figure(figsize = (10,7))\n",
    "sns.set(font_scale=1.4)#for label size\n",
    "sns.heatmap(df_cm_best, annot=True,annot_kws={\"size\": 16})# font size\n"
   ]
  },
  {
   "cell_type": "code",
   "execution_count": 33,
   "metadata": {},
   "outputs": [
    {
     "data": {
      "text/plain": [
       "Text(0.5, 1.0, 'Feature Importance')"
      ]
     },
     "execution_count": 33,
     "metadata": {},
     "output_type": "execute_result"
    },
    {
     "data": {
      "image/png": "[encoded data removed]",
      "text/plain": [
       "<Figure size 1440x1440 with 1 Axes>"
      ]
     },
     "metadata": {},
     "output_type": "display_data"
    }
   ],
   "source": [
    "# plot the feature importance\n",
    "feat_imp = pd.DataFrame({'Importance':clf_best.feature_importances_,\n",
    "                         'Feature': features_x} ).sort_values(ascending=False, by='Importance')\n",
    "\n",
    "fig, axis = plt.subplots(1,1,figsize=(20,20))\n",
    "\n",
    "# Only show top 15\n",
    "feat_imp_top_15 = feat_imp.iloc[:15]\n",
    "sns.barplot(y='Feature', x='Importance', data=feat_imp_top_15, order=feat_imp_top_15['Feature'].unique(), ax=axis)\n",
    "axis.set_title('Feature Importance')"
   ]
  },
  {
   "cell_type": "code",
   "execution_count": null,
   "metadata": {},
   "outputs": [],
   "source": []
  }
 ],
 "metadata": {
  "colab": {
   "name": "bayes_ds_challenge.ipynb",
   "provenance": [],
   "version": "0.3.2"
  },
  "kernelspec": {
   "display_name": "Python 3",
   "language": "python",
   "name": "python3"
  },
  "language_info": {
   "codemirror_mode": {
    "name": "ipython",
    "version": 3
   },
   "file_extension": ".py",
   "mimetype": "text/x-python",
   "name": "python",
   "nbconvert_exporter": "python",
   "pygments_lexer": "ipython3",
   "version": "3.7.3"
  }
 },
 "nbformat": 4,
 "nbformat_minor": 4
}
