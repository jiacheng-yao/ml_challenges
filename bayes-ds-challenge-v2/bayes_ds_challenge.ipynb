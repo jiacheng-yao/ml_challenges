{
 "cells": [
  {
   "cell_type": "markdown",
   "metadata": {
    "colab_type": "text",
    "id": "tNtORVaGbgml"
   },
   "source": [
    "# Bayes Esports Solutions GmbH - Data Science Challenge\n",
    "\n",
    "The dataset you are given contains matches of a MOBA game. The matches are uniquely identified by a `match_id`. Per match, there are several rows. Each row describes a unique gamestate in the match. We have removed the names of the other columns.\n",
    "\n",
    "Your task is to produce a model that predicts the `winner` of the match given a particular gamestate. The winner may be the \"home\" team (`0`) or the away team (`1`). Please, bear in mind that the trained model would be used to produce live-odds while a game is being played, i.e. it would have to continuosly update the probability of each team winning, based on the game played so far.\n",
    "\n",
    "The data is attached in the e-mail as challenge_data.csv.\n",
    "\n",
    "We are interested in seeing how you prepare the data, generate features, select models, and lastly, how you evaluate your predictions. Please guide us through your workflow with markdown comments and explanations where necessary. There is no need to explain how the methods work, but we want to know why you make your choices.\n",
    "\n",
    "*Note that we are mainly interested in your approach, not the actual performance of the model.*\n",
    "\n",
    "When you are finished, rerun your notebook completely to make sure everything runs smoothly, save it, and send us the notebook file via e-mail. Please state how long you took to complete the challenge. Please do not take more than 2 hours. We don't expect to see a polished production-ready model."
   ]
  },
  {
   "cell_type": "markdown",
   "metadata": {},
   "source": [
    "## 1. Explorative Analysis"
   ]
  },
  {
   "cell_type": "code",
   "execution_count": 1,
   "metadata": {
    "colab": {},
    "colab_type": "code",
    "id": "sQQbyXmRueiu"
   },
   "outputs": [
    {
     "name": "stderr",
     "output_type": "stream",
     "text": [
      "INFO:root:Start 1. Explorative Analysis\n"
     ]
    }
   ],
   "source": [
    "import logging\n",
    "\n",
    "import pandas as pd\n",
    "import numpy as np\n",
    "import matplotlib.pyplot as plt\n",
    "%matplotlib inline\n",
    "import seaborn as sns\n",
    "sns.set_style('whitegrid')\n",
    "\n",
    "logger = logging.getLogger()\n",
    "logger.setLevel(logging.INFO)\n",
    "logging.info(\"Start 1. Explorative Analysis\")"
   ]
  },
  {
   "cell_type": "markdown",
   "metadata": {},
   "source": [
    "### 1. Read the data from .csv file"
   ]
  },
  {
   "cell_type": "code",
   "execution_count": 2,
   "metadata": {},
   "outputs": [],
   "source": [
    "df_input = pd.read_csv(\"challenge_data.csv\")"
   ]
  },
  {
   "cell_type": "markdown",
   "metadata": {},
   "source": [
    "### 2. Take a first look at the data:"
   ]
  },
  {
   "cell_type": "code",
   "execution_count": 3,
   "metadata": {
    "scrolled": true
   },
   "outputs": [
    {
     "data": {
      "text/html": [
       "<div>\n",
       "<style scoped>\n",
       "    .dataframe tbody tr th:only-of-type {\n",
       "        vertical-align: middle;\n",
       "    }\n",
       "\n",
       "    .dataframe tbody tr th {\n",
       "        vertical-align: top;\n",
       "    }\n",
       "\n",
       "    .dataframe thead th {\n",
       "        text-align: right;\n",
       "    }\n",
       "</style>\n",
       "<table border=\"1\" class=\"dataframe\">\n",
       "  <thead>\n",
       "    <tr style=\"text-align: right;\">\n",
       "      <th></th>\n",
       "      <th>Unnamed: 0</th>\n",
       "      <th>match_id</th>\n",
       "      <th>game_time</th>\n",
       "      <th>winner</th>\n",
       "      <th>feature_1</th>\n",
       "      <th>feature_2</th>\n",
       "      <th>feature_3</th>\n",
       "      <th>feature_4</th>\n",
       "    </tr>\n",
       "  </thead>\n",
       "  <tbody>\n",
       "    <tr>\n",
       "      <th>0</th>\n",
       "      <td>0</td>\n",
       "      <td>3.712283e+09</td>\n",
       "      <td>20.68360</td>\n",
       "      <td>-1.0</td>\n",
       "      <td>31.697367</td>\n",
       "      <td>0.0</td>\n",
       "      <td>0.0</td>\n",
       "      <td>5500.0</td>\n",
       "    </tr>\n",
       "    <tr>\n",
       "      <th>1</th>\n",
       "      <td>1</td>\n",
       "      <td>3.712283e+09</td>\n",
       "      <td>41.34522</td>\n",
       "      <td>-1.0</td>\n",
       "      <td>63.180084</td>\n",
       "      <td>0.0</td>\n",
       "      <td>0.0</td>\n",
       "      <td>5500.0</td>\n",
       "    </tr>\n",
       "    <tr>\n",
       "      <th>2</th>\n",
       "      <td>2</td>\n",
       "      <td>3.712283e+09</td>\n",
       "      <td>62.00685</td>\n",
       "      <td>1.0</td>\n",
       "      <td>78.337902</td>\n",
       "      <td>0.0</td>\n",
       "      <td>0.0</td>\n",
       "      <td>5500.0</td>\n",
       "    </tr>\n",
       "    <tr>\n",
       "      <th>3</th>\n",
       "      <td>3</td>\n",
       "      <td>3.712283e+09</td>\n",
       "      <td>82.66845</td>\n",
       "      <td>1.0</td>\n",
       "      <td>79.835755</td>\n",
       "      <td>0.0</td>\n",
       "      <td>0.0</td>\n",
       "      <td>5500.0</td>\n",
       "    </tr>\n",
       "    <tr>\n",
       "      <th>4</th>\n",
       "      <td>4</td>\n",
       "      <td>3.712283e+09</td>\n",
       "      <td>103.33008</td>\n",
       "      <td>1.0</td>\n",
       "      <td>110.136749</td>\n",
       "      <td>0.0</td>\n",
       "      <td>0.0</td>\n",
       "      <td>5500.0</td>\n",
       "    </tr>\n",
       "  </tbody>\n",
       "</table>\n",
       "</div>"
      ],
      "text/plain": [
       "   Unnamed: 0      match_id  game_time  winner   feature_1  feature_2  \\\n",
       "0           0  3.712283e+09   20.68360    -1.0   31.697367        0.0   \n",
       "1           1  3.712283e+09   41.34522    -1.0   63.180084        0.0   \n",
       "2           2  3.712283e+09   62.00685     1.0   78.337902        0.0   \n",
       "3           3  3.712283e+09   82.66845     1.0   79.835755        0.0   \n",
       "4           4  3.712283e+09  103.33008     1.0  110.136749        0.0   \n",
       "\n",
       "   feature_3 feature_4  \n",
       "0        0.0    5500.0  \n",
       "1        0.0    5500.0  \n",
       "2        0.0    5500.0  \n",
       "3        0.0    5500.0  \n",
       "4        0.0    5500.0  "
      ]
     },
     "execution_count": 3,
     "metadata": {},
     "output_type": "execute_result"
    }
   ],
   "source": [
    "df_input.head()"
   ]
  },
  {
   "cell_type": "code",
   "execution_count": 4,
   "metadata": {},
   "outputs": [
    {
     "data": {
      "text/plain": [
       "(13408, 8)"
      ]
     },
     "execution_count": 4,
     "metadata": {},
     "output_type": "execute_result"
    }
   ],
   "source": [
    "df_input.shape"
   ]
  },
  {
   "cell_type": "code",
   "execution_count": 5,
   "metadata": {},
   "outputs": [],
   "source": [
    "# rename the first column\n",
    "df_input.rename(columns={'Unnamed: 0':'id'}, inplace=True)"
   ]
  },
  {
   "cell_type": "markdown",
   "metadata": {},
   "source": [
    "### 3. Check if there are missing values in the columns:"
   ]
  },
  {
   "cell_type": "code",
   "execution_count": 6,
   "metadata": {},
   "outputs": [],
   "source": [
    "# Check if there are missing values in the columns:\n",
    "def missing_value_checker(df):\n",
    "    for col in df.columns:\n",
    "        logging.info(col+': '+str(df[col].isnull().sum()/float(df.shape[0])))"
   ]
  },
  {
   "cell_type": "code",
   "execution_count": 7,
   "metadata": {
    "scrolled": true
   },
   "outputs": [
    {
     "name": "stderr",
     "output_type": "stream",
     "text": [
      "INFO:root:id: 0.0\n",
      "INFO:root:match_id: 0.0\n",
      "INFO:root:game_time: 0.0\n",
      "INFO:root:winner: 0.0\n",
      "INFO:root:feature_1: 0.0\n",
      "INFO:root:feature_2: 0.0\n",
      "INFO:root:feature_3: 0.0\n",
      "INFO:root:feature_4: 0.0\n"
     ]
    }
   ],
   "source": [
    "missing_value_checker(df_input)"
   ]
  },
  {
   "cell_type": "markdown",
   "metadata": {},
   "source": [
    "**Comment**: _No Missing Data in any columns found._"
   ]
  },
  {
   "cell_type": "markdown",
   "metadata": {},
   "source": [
    "### 4. See how many unique values there are for each column:"
   ]
  },
  {
   "cell_type": "code",
   "execution_count": 8,
   "metadata": {},
   "outputs": [],
   "source": [
    "# See how many unique values there are for each columns, and if there is only one unique value, we drop the column\n",
    "def unique_value_printer(df):\n",
    "    cols_to_drop = []\n",
    "    for col in df.columns:\n",
    "        tmp_num_unique = len(df[col].unique())\n",
    "        logging.info(col+': '+str(tmp_num_unique))\n",
    "        if (tmp_num_unique==1):\n",
    "            cols_to_drop.append(col)\n",
    "    df.drop(cols_to_drop, 1, inplace=True)"
   ]
  },
  {
   "cell_type": "code",
   "execution_count": 9,
   "metadata": {},
   "outputs": [
    {
     "name": "stderr",
     "output_type": "stream",
     "text": [
      "INFO:root:id: 11460\n",
      "INFO:root:match_id: 400\n",
      "INFO:root:game_time: 7760\n",
      "INFO:root:winner: 3\n",
      "INFO:root:feature_1: 13126\n",
      "INFO:root:feature_2: 11319\n",
      "INFO:root:feature_3: 9\n",
      "INFO:root:feature_4: 22\n"
     ]
    }
   ],
   "source": [
    "unique_value_printer(df_input)"
   ]
  },
  {
   "cell_type": "markdown",
   "metadata": {},
   "source": [
    "### 5. Summarize the dataframe"
   ]
  },
  {
   "cell_type": "code",
   "execution_count": 10,
   "metadata": {},
   "outputs": [
    {
     "data": {
      "text/html": [
       "<div>\n",
       "<style scoped>\n",
       "    .dataframe tbody tr th:only-of-type {\n",
       "        vertical-align: middle;\n",
       "    }\n",
       "\n",
       "    .dataframe tbody tr th {\n",
       "        vertical-align: top;\n",
       "    }\n",
       "\n",
       "    .dataframe thead th {\n",
       "        text-align: right;\n",
       "    }\n",
       "</style>\n",
       "<table border=\"1\" class=\"dataframe\">\n",
       "  <thead>\n",
       "    <tr style=\"text-align: right;\">\n",
       "      <th></th>\n",
       "      <th>id</th>\n",
       "      <th>match_id</th>\n",
       "      <th>game_time</th>\n",
       "      <th>winner</th>\n",
       "      <th>feature_1</th>\n",
       "      <th>feature_2</th>\n",
       "      <th>feature_3</th>\n",
       "    </tr>\n",
       "  </thead>\n",
       "  <tbody>\n",
       "    <tr>\n",
       "      <th>count</th>\n",
       "      <td>13408.000000</td>\n",
       "      <td>1.340800e+04</td>\n",
       "      <td>13408.000000</td>\n",
       "      <td>13408.000000</td>\n",
       "      <td>13408.000000</td>\n",
       "      <td>13408.000000</td>\n",
       "      <td>13408.000000</td>\n",
       "    </tr>\n",
       "    <tr>\n",
       "      <th>mean</th>\n",
       "      <td>11203.662962</td>\n",
       "      <td>3.724944e+09</td>\n",
       "      <td>358.755358</td>\n",
       "      <td>0.353446</td>\n",
       "      <td>-108.277343</td>\n",
       "      <td>-129.155474</td>\n",
       "      <td>-0.007533</td>\n",
       "    </tr>\n",
       "    <tr>\n",
       "      <th>std</th>\n",
       "      <td>6384.324388</td>\n",
       "      <td>5.167472e+06</td>\n",
       "      <td>218.940367</td>\n",
       "      <td>0.611299</td>\n",
       "      <td>1207.319226</td>\n",
       "      <td>1052.881521</td>\n",
       "      <td>0.453905</td>\n",
       "    </tr>\n",
       "    <tr>\n",
       "      <th>min</th>\n",
       "      <td>0.000000</td>\n",
       "      <td>3.712283e+09</td>\n",
       "      <td>2.088100</td>\n",
       "      <td>-1.000000</td>\n",
       "      <td>-8888.296455</td>\n",
       "      <td>-7376.928644</td>\n",
       "      <td>-4.000000</td>\n",
       "    </tr>\n",
       "    <tr>\n",
       "      <th>10%</th>\n",
       "      <td>2270.700000</td>\n",
       "      <td>3.718316e+09</td>\n",
       "      <td>70.271500</td>\n",
       "      <td>0.000000</td>\n",
       "      <td>-1478.496944</td>\n",
       "      <td>-1302.006244</td>\n",
       "      <td>0.000000</td>\n",
       "    </tr>\n",
       "    <tr>\n",
       "      <th>20%</th>\n",
       "      <td>4716.000000</td>\n",
       "      <td>3.720455e+09</td>\n",
       "      <td>138.488164</td>\n",
       "      <td>0.000000</td>\n",
       "      <td>-748.276808</td>\n",
       "      <td>-681.859927</td>\n",
       "      <td>0.000000</td>\n",
       "    </tr>\n",
       "    <tr>\n",
       "      <th>30%</th>\n",
       "      <td>6883.000000</td>\n",
       "      <td>3.721393e+09</td>\n",
       "      <td>208.704351</td>\n",
       "      <td>0.000000</td>\n",
       "      <td>-379.559347</td>\n",
       "      <td>-347.070673</td>\n",
       "      <td>0.000000</td>\n",
       "    </tr>\n",
       "    <tr>\n",
       "      <th>50%</th>\n",
       "      <td>11173.500000</td>\n",
       "      <td>3.724333e+09</td>\n",
       "      <td>347.137240</td>\n",
       "      <td>0.000000</td>\n",
       "      <td>-32.965965</td>\n",
       "      <td>0.000000</td>\n",
       "      <td>0.000000</td>\n",
       "    </tr>\n",
       "    <tr>\n",
       "      <th>60%</th>\n",
       "      <td>13469.200000</td>\n",
       "      <td>3.727032e+09</td>\n",
       "      <td>417.353368</td>\n",
       "      <td>1.000000</td>\n",
       "      <td>75.839654</td>\n",
       "      <td>0.000000</td>\n",
       "      <td>0.000000</td>\n",
       "    </tr>\n",
       "    <tr>\n",
       "      <th>70%</th>\n",
       "      <td>15632.900000</td>\n",
       "      <td>3.728634e+09</td>\n",
       "      <td>487.636200</td>\n",
       "      <td>1.000000</td>\n",
       "      <td>228.092839</td>\n",
       "      <td>97.944175</td>\n",
       "      <td>0.000000</td>\n",
       "    </tr>\n",
       "    <tr>\n",
       "      <th>80%</th>\n",
       "      <td>17763.600000</td>\n",
       "      <td>3.730929e+09</td>\n",
       "      <td>566.183700</td>\n",
       "      <td>1.000000</td>\n",
       "      <td>513.310702</td>\n",
       "      <td>357.480359</td>\n",
       "      <td>0.000000</td>\n",
       "    </tr>\n",
       "    <tr>\n",
       "      <th>90%</th>\n",
       "      <td>20092.300000</td>\n",
       "      <td>3.731492e+09</td>\n",
       "      <td>661.227200</td>\n",
       "      <td>1.000000</td>\n",
       "      <td>1126.769569</td>\n",
       "      <td>885.285704</td>\n",
       "      <td>0.000000</td>\n",
       "    </tr>\n",
       "    <tr>\n",
       "      <th>95%</th>\n",
       "      <td>21212.650000</td>\n",
       "      <td>3.732653e+09</td>\n",
       "      <td>727.311033</td>\n",
       "      <td>1.000000</td>\n",
       "      <td>1764.040559</td>\n",
       "      <td>1512.708176</td>\n",
       "      <td>1.000000</td>\n",
       "    </tr>\n",
       "    <tr>\n",
       "      <th>98%</th>\n",
       "      <td>21890.860000</td>\n",
       "      <td>3.732844e+09</td>\n",
       "      <td>797.218636</td>\n",
       "      <td>1.000000</td>\n",
       "      <td>2634.613101</td>\n",
       "      <td>2374.879180</td>\n",
       "      <td>1.000000</td>\n",
       "    </tr>\n",
       "    <tr>\n",
       "      <th>99%</th>\n",
       "      <td>22088.930000</td>\n",
       "      <td>3.732919e+09</td>\n",
       "      <td>849.214600</td>\n",
       "      <td>1.000000</td>\n",
       "      <td>3434.563498</td>\n",
       "      <td>2931.123070</td>\n",
       "      <td>1.000000</td>\n",
       "    </tr>\n",
       "    <tr>\n",
       "      <th>99.9%</th>\n",
       "      <td>22296.593000</td>\n",
       "      <td>3.732999e+09</td>\n",
       "      <td>957.833356</td>\n",
       "      <td>1.000000</td>\n",
       "      <td>5609.912822</td>\n",
       "      <td>4996.338408</td>\n",
       "      <td>2.000000</td>\n",
       "    </tr>\n",
       "    <tr>\n",
       "      <th>max</th>\n",
       "      <td>22310.000000</td>\n",
       "      <td>3.732999e+09</td>\n",
       "      <td>1014.507560</td>\n",
       "      <td>1.000000</td>\n",
       "      <td>8547.648577</td>\n",
       "      <td>7696.761997</td>\n",
       "      <td>4.000000</td>\n",
       "    </tr>\n",
       "  </tbody>\n",
       "</table>\n",
       "</div>"
      ],
      "text/plain": [
       "                 id      match_id     game_time        winner     feature_1  \\\n",
       "count  13408.000000  1.340800e+04  13408.000000  13408.000000  13408.000000   \n",
       "mean   11203.662962  3.724944e+09    358.755358      0.353446   -108.277343   \n",
       "std     6384.324388  5.167472e+06    218.940367      0.611299   1207.319226   \n",
       "min        0.000000  3.712283e+09      2.088100     -1.000000  -8888.296455   \n",
       "10%     2270.700000  3.718316e+09     70.271500      0.000000  -1478.496944   \n",
       "20%     4716.000000  3.720455e+09    138.488164      0.000000   -748.276808   \n",
       "30%     6883.000000  3.721393e+09    208.704351      0.000000   -379.559347   \n",
       "50%    11173.500000  3.724333e+09    347.137240      0.000000    -32.965965   \n",
       "60%    13469.200000  3.727032e+09    417.353368      1.000000     75.839654   \n",
       "70%    15632.900000  3.728634e+09    487.636200      1.000000    228.092839   \n",
       "80%    17763.600000  3.730929e+09    566.183700      1.000000    513.310702   \n",
       "90%    20092.300000  3.731492e+09    661.227200      1.000000   1126.769569   \n",
       "95%    21212.650000  3.732653e+09    727.311033      1.000000   1764.040559   \n",
       "98%    21890.860000  3.732844e+09    797.218636      1.000000   2634.613101   \n",
       "99%    22088.930000  3.732919e+09    849.214600      1.000000   3434.563498   \n",
       "99.9%  22296.593000  3.732999e+09    957.833356      1.000000   5609.912822   \n",
       "max    22310.000000  3.732999e+09   1014.507560      1.000000   8547.648577   \n",
       "\n",
       "          feature_2     feature_3  \n",
       "count  13408.000000  13408.000000  \n",
       "mean    -129.155474     -0.007533  \n",
       "std     1052.881521      0.453905  \n",
       "min    -7376.928644     -4.000000  \n",
       "10%    -1302.006244      0.000000  \n",
       "20%     -681.859927      0.000000  \n",
       "30%     -347.070673      0.000000  \n",
       "50%        0.000000      0.000000  \n",
       "60%        0.000000      0.000000  \n",
       "70%       97.944175      0.000000  \n",
       "80%      357.480359      0.000000  \n",
       "90%      885.285704      0.000000  \n",
       "95%     1512.708176      1.000000  \n",
       "98%     2374.879180      1.000000  \n",
       "99%     2931.123070      1.000000  \n",
       "99.9%   4996.338408      2.000000  \n",
       "max     7696.761997      4.000000  "
      ]
     },
     "execution_count": 10,
     "metadata": {},
     "output_type": "execute_result"
    }
   ],
   "source": [
    "df_input.describe([.1,.2,.3,.6,.7,.8,.9,.95,.98,.99,.999])"
   ]
  },
  {
   "cell_type": "markdown",
   "metadata": {},
   "source": [
    "**Comment**: _Here feature_4 isn't shown, which means it is actually stored as string (categorical), not numerical_"
   ]
  },
  {
   "cell_type": "markdown",
   "metadata": {},
   "source": [
    "### 6. Let us take a closer look at some important features:"
   ]
  },
  {
   "cell_type": "code",
   "execution_count": 11,
   "metadata": {},
   "outputs": [],
   "source": [
    "def plot_general_dist(df, col, title=None, outfile=None):\n",
    "    # plot general histogram\n",
    "    fig = plt.figure(figsize=(15,10))\n",
    "    ax = fig.add_subplot(111)\n",
    "    if title is not None:\n",
    "        sns.distplot(df[col]).set_title(title)\n",
    "    if outfile is not None:\n",
    "        plt.savefig(outfile)\n",
    "        \n",
    "def plot_comparison_dist(l_dfs, col, l_labels, title=None, outfile=None):\n",
    "    # plot comparison histogram\n",
    "    # len(l_dfs) and len(l_labels) need to be the same\n",
    "    fig = plt.figure(figsize=(15,10))\n",
    "    ax = fig.add_subplot(111)\n",
    "\n",
    "    for i in range(len(l_dfs)):\n",
    "        sns.distplot(l_dfs[i][col], hist=False, rug=False, label=l_labels[i]).set_title(title)\n",
    "    \n",
    "    if outfile is not None:\n",
    "        plt.savefig(outfile)\n",
    "        \n",
    "def plot_general_bar(df, group_col, agg_col, title=None, outfile=None):\n",
    "    # plot general barplot\n",
    "    df_grouped = df.groupby([group_col]).agg({agg_col:'count'}).reset_index()\n",
    "\n",
    "    fig, axis = plt.subplots(1,1,figsize=(15, 7))\n",
    "\n",
    "    sns.barplot(x=group_col, y=agg_col, data=df_grouped, order=df_grouped[group_col].unique(), ax=axis)\n",
    "    axis.set_xticks(range(len(df_grouped[group_col].unique())))\n",
    "    axis.set_xticklabels(df_grouped[group_col].unique(), rotation=0)\n",
    "    \n",
    "    if title is not None:\n",
    "        axis.set_title(title)\n",
    "    if outfile is not None:\n",
    "        plt.savefig(outfile)\n",
    "        \n",
    "def plot_comparison_bar(df, group_col, agg_col, hue_col, title=None, outfile=None):\n",
    "    df_grouped_by_col = df.groupby([group_col, hue_col]).agg({agg_col:'count'}).reset_index()\n",
    "\n",
    "    g = sns.catplot(x=group_col, y=agg_col, hue=hue_col, data=df_grouped_by_col,\n",
    "                    kind=\"bar\", palette=\"muted\", height=6, aspect=2)\n",
    "    g.despine(left=True)\n",
    "    g.set_ylabels(\"Count\")\n",
    "    \n",
    "    if title is not None:\n",
    "        g.fig.suptitle(title)\n",
    "    if outfile is not None:\n",
    "        g.fig.savefig(outfile)"
   ]
  },
  {
   "cell_type": "code",
   "execution_count": 12,
   "metadata": {},
   "outputs": [],
   "source": [
    "# create three sub dataframes for all three winner possibilities\n",
    "df_input_m1 = df_input[df_input['winner']==-1]\n",
    "df_input_0 = df_input[df_input['winner']==0]\n",
    "df_input_1 = df_input[df_input['winner']==1]"
   ]
  },
  {
   "cell_type": "markdown",
   "metadata": {},
   "source": [
    "#### a) Game Time by Result"
   ]
  },
  {
   "cell_type": "code",
   "execution_count": 13,
   "metadata": {},
   "outputs": [
    {
     "data": {
      "image/png": "[encoded data removed]",
      "text/plain": [
       "<Figure size 1080x720 with 1 Axes>"
      ]
     },
     "metadata": {
      "needs_background": "light"
     },
     "output_type": "display_data"
    }
   ],
   "source": [
    "# plot the game_time distribution by winner\n",
    "plot_comparison_dist([df_input_m1, df_input_0, df_input_1], 'game_time', \n",
    "                     [\"Result - -1\", \"Result - 0\", \"Result - 1\"], \n",
    "                     title='Game Time Distribution', \n",
    "                     outfile='game_time_comparison_dist.png')"
   ]
  },
  {
   "cell_type": "markdown",
   "metadata": {},
   "source": [
    "#### b) Winner"
   ]
  },
  {
   "cell_type": "code",
   "execution_count": 14,
   "metadata": {},
   "outputs": [
    {
     "data": {
      "image/png": "[encoded data removed]",
      "text/plain": [
       "<Figure size 1080x504 with 1 Axes>"
      ]
     },
     "metadata": {
      "needs_background": "light"
     },
     "output_type": "display_data"
    }
   ],
   "source": [
    "# plot the distribution of winner\n",
    "plot_general_bar(df_input, 'winner', 'id', title='Winner Distribution', outfile='winner_bar.png')"
   ]
  },
  {
   "cell_type": "markdown",
   "metadata": {},
   "source": [
    "#### c) feature_1"
   ]
  },
  {
   "cell_type": "code",
   "execution_count": 15,
   "metadata": {},
   "outputs": [
    {
     "data": {
      "image/png": "[encoded data removed]",
      "text/plain": [
       "<Figure size 1080x720 with 1 Axes>"
      ]
     },
     "metadata": {
      "needs_background": "light"
     },
     "output_type": "display_data"
    }
   ],
   "source": [
    "# plot the feature_1 distribution by winner\n",
    "plot_comparison_dist([df_input_m1, df_input_0, df_input_1], 'feature_1', \n",
    "                     [\"Result - -1\", \"Result - 0\", \"Result - 1\"], \n",
    "                     title='Feature 1 Distribution', \n",
    "                     outfile='feature_1_comparison_dist.png')"
   ]
  },
  {
   "cell_type": "markdown",
   "metadata": {},
   "source": [
    "#### d) feature_2"
   ]
  },
  {
   "cell_type": "code",
   "execution_count": 16,
   "metadata": {},
   "outputs": [
    {
     "data": {
      "image/png": "[encoded data removed]",
      "text/plain": [
       "<Figure size 1080x720 with 1 Axes>"
      ]
     },
     "metadata": {
      "needs_background": "light"
     },
     "output_type": "display_data"
    }
   ],
   "source": [
    "# plot the histogram for feature_2\n",
    "plot_general_dist(df_input, 'feature_2', 'Feature 2 Distribution', 'feature_2_dist.png')"
   ]
  },
  {
   "cell_type": "code",
   "execution_count": 17,
   "metadata": {},
   "outputs": [
    {
     "data": {
      "image/png": "[encoded data removed]",
      "text/plain": [
       "<Figure size 1080x720 with 1 Axes>"
      ]
     },
     "metadata": {
      "needs_background": "light"
     },
     "output_type": "display_data"
    }
   ],
   "source": [
    "# plot the feature_2 distribution by winner\n",
    "plot_comparison_dist([df_input_m1, df_input_0, df_input_1], 'feature_2', \n",
    "                     [\"Result - -1\", \"Result - 0\", \"Result - 1\"], \n",
    "                     title='Feature 2 Distribution', \n",
    "                     outfile='feature_2_comparison_dist.png')"
   ]
  },
  {
   "cell_type": "markdown",
   "metadata": {},
   "source": [
    "#### e) feature_3"
   ]
  },
  {
   "cell_type": "code",
   "execution_count": 18,
   "metadata": {},
   "outputs": [
    {
     "data": {
      "image/png": "[encoded data removed]",
      "text/plain": [
       "<Figure size 1080x504 with 1 Axes>"
      ]
     },
     "metadata": {
      "needs_background": "light"
     },
     "output_type": "display_data"
    }
   ],
   "source": [
    "# plot the distribution of feature_3\n",
    "plot_general_bar(df_input, 'feature_3', 'id', title='Feature 3 Distribution', outfile='feature_3_bar.png')"
   ]
  },
  {
   "cell_type": "markdown",
   "metadata": {},
   "source": [
    "#### f) feature_4"
   ]
  },
  {
   "cell_type": "code",
   "execution_count": 19,
   "metadata": {},
   "outputs": [
    {
     "data": {
      "image/png": "[encoded data removed]",
      "text/plain": [
       "<Figure size 1080x504 with 1 Axes>"
      ]
     },
     "metadata": {
      "needs_background": "light"
     },
     "output_type": "display_data"
    }
   ],
   "source": [
    "# plot the distribution of feature_4\n",
    "plot_general_bar(df_input, 'feature_4', 'id', title='Feature 4 Distribution', outfile='feature_4_bar.png')"
   ]
  },
  {
   "cell_type": "markdown",
   "metadata": {},
   "source": [
    "**Comment**: _one interesting category: 'catch me if you can' - missing value found!_"
   ]
  },
  {
   "cell_type": "code",
   "execution_count": 20,
   "metadata": {},
   "outputs": [
    {
     "data": {
      "text/html": [
       "<div>\n",
       "<style scoped>\n",
       "    .dataframe tbody tr th:only-of-type {\n",
       "        vertical-align: middle;\n",
       "    }\n",
       "\n",
       "    .dataframe tbody tr th {\n",
       "        vertical-align: top;\n",
       "    }\n",
       "\n",
       "    .dataframe thead th {\n",
       "        text-align: right;\n",
       "    }\n",
       "</style>\n",
       "<table border=\"1\" class=\"dataframe\">\n",
       "  <thead>\n",
       "    <tr style=\"text-align: right;\">\n",
       "      <th></th>\n",
       "      <th>id</th>\n",
       "      <th>match_id</th>\n",
       "      <th>game_time</th>\n",
       "      <th>winner</th>\n",
       "      <th>feature_1</th>\n",
       "      <th>feature_2</th>\n",
       "      <th>feature_3</th>\n",
       "      <th>feature_4</th>\n",
       "    </tr>\n",
       "  </thead>\n",
       "  <tbody>\n",
       "    <tr>\n",
       "      <th>64</th>\n",
       "      <td>315</td>\n",
       "      <td>3.712487e+09</td>\n",
       "      <td>295.4831</td>\n",
       "      <td>0.0</td>\n",
       "      <td>375.9047</td>\n",
       "      <td>-14.591789</td>\n",
       "      <td>-1.0</td>\n",
       "      <td>catch me if you can</td>\n",
       "    </tr>\n",
       "  </tbody>\n",
       "</table>\n",
       "</div>"
      ],
      "text/plain": [
       "     id      match_id  game_time  winner  feature_1  feature_2  feature_3  \\\n",
       "64  315  3.712487e+09   295.4831     0.0   375.9047 -14.591789       -1.0   \n",
       "\n",
       "              feature_4  \n",
       "64  catch me if you can  "
      ]
     },
     "execution_count": 20,
     "metadata": {},
     "output_type": "execute_result"
    }
   ],
   "source": [
    "df_input[df_input['feature_4']=='catch me if you can']"
   ]
  },
  {
   "cell_type": "markdown",
   "metadata": {},
   "source": [
    "## 2. Data Preparation"
   ]
  },
  {
   "cell_type": "markdown",
   "metadata": {},
   "source": [
    "Since only feature_4 has missing value - 'catch me if you can', we will only focus on this variable."
   ]
  },
  {
   "cell_type": "code",
   "execution_count": 21,
   "metadata": {},
   "outputs": [],
   "source": [
    "df_input.at[64, 'feature_4'] = np.nan"
   ]
  },
  {
   "cell_type": "code",
   "execution_count": 22,
   "metadata": {},
   "outputs": [],
   "source": [
    "df_input['feature_4'] = pd.to_numeric(df_input['feature_4'],errors='coerce')"
   ]
  },
  {
   "cell_type": "code",
   "execution_count": 23,
   "metadata": {},
   "outputs": [
    {
     "data": {
      "text/plain": [
       "id           3.150000e+02\n",
       "match_id     3.712487e+09\n",
       "game_time    2.954831e+02\n",
       "winner       0.000000e+00\n",
       "feature_1    3.759047e+02\n",
       "feature_2   -1.459179e+01\n",
       "feature_3   -1.000000e+00\n",
       "feature_4             NaN\n",
       "Name: 64, dtype: float64"
      ]
     },
     "execution_count": 23,
     "metadata": {},
     "output_type": "execute_result"
    }
   ],
   "source": [
    "df_input.iloc[64]"
   ]
  },
  {
   "cell_type": "code",
   "execution_count": 24,
   "metadata": {},
   "outputs": [],
   "source": [
    "# here we will use KNN as the imputation method\n",
    "from sklearn.impute import KNNImputer\n",
    "imputer = KNNImputer(n_neighbors=3)\n",
    "df_filled = imputer.fit_transform(df_input) # np.array format"
   ]
  },
  {
   "cell_type": "code",
   "execution_count": 25,
   "metadata": {},
   "outputs": [],
   "source": [
    "# generate new imputed dataframe\n",
    "df_imputed = pd.DataFrame(data=df_filled, index=df_input.index, columns=df_input.columns)"
   ]
  },
  {
   "cell_type": "code",
   "execution_count": 26,
   "metadata": {},
   "outputs": [
    {
     "data": {
      "text/plain": [
       "id           3.150000e+02\n",
       "match_id     3.712487e+09\n",
       "game_time    2.954831e+02\n",
       "winner       0.000000e+00\n",
       "feature_1    3.759047e+02\n",
       "feature_2   -1.459179e+01\n",
       "feature_3   -1.000000e+00\n",
       "feature_4    5.998333e+03\n",
       "Name: 64, dtype: float64"
      ]
     },
     "execution_count": 26,
     "metadata": {},
     "output_type": "execute_result"
    }
   ],
   "source": [
    "# see that the missing value has been successfully filled\n",
    "df_imputed.iloc[64]"
   ]
  },
  {
   "cell_type": "code",
   "execution_count": 27,
   "metadata": {},
   "outputs": [],
   "source": [
    "df_final = df_imputed[df_imputed['winner']>=0]"
   ]
  },
  {
   "cell_type": "markdown",
   "metadata": {},
   "source": [
    "## 3. Build Predictive Model"
   ]
  },
  {
   "cell_type": "markdown",
   "metadata": {},
   "source": [
    "Since there are no categorical features, no encoding such as one-hot-encoding is needed. We will select the model with the best performance."
   ]
  },
  {
   "cell_type": "code",
   "execution_count": 28,
   "metadata": {},
   "outputs": [],
   "source": [
    "#Score metric\n",
    "from sklearn.metrics import accuracy_score, confusion_matrix, precision_score, f1_score, roc_auc_score\n",
    "#Classifiers to compare\n",
    "from sklearn.linear_model import LogisticRegression\n",
    "from sklearn.ensemble import RandomForestClassifier\n",
    "from sklearn import svm, tree\n",
    "from sklearn.svm import SVC\n",
    "import xgboost as xgb\n",
    "\n",
    "from sklearn.model_selection import KFold, cross_val_score, train_test_split\n",
    "\n",
    "#Bayes optimization\n",
    "from bayes_opt import BayesianOptimization\n",
    "import warnings"
   ]
  },
  {
   "cell_type": "code",
   "execution_count": 29,
   "metadata": {},
   "outputs": [],
   "source": [
    "# Select training features and target feature\n",
    "features_x = ['game_time','feature_1','feature_2', 'feature_3', 'feature_4']\n",
    "X  = df_final[features_x]\n",
    "y= df_final['winner'] #Split the Data into Training and Testing sets with test size as #30%\n",
    "X_train, X_test, y_train, y_test = train_test_split(X, y, test_size=0.3, shuffle=True)"
   ]
  },
  {
   "cell_type": "markdown",
   "metadata": {},
   "source": [
    "### 1. Optimize the hyperparameters for the inspected classifiers:"
   ]
  },
  {
   "cell_type": "code",
   "execution_count": 30,
   "metadata": {},
   "outputs": [
    {
     "name": "stderr",
     "output_type": "stream",
     "text": [
      "INFO:root:Optimizing Hyperparameter for: Logistic Regression\n"
     ]
    },
    {
     "name": "stdout",
     "output_type": "stream",
     "text": [
      "|   iter    |  target   |     c     |   ints    |\n",
      "-------------------------------------------------\n",
      "| \u001b[0m 1       \u001b[0m | \u001b[0m 0.6575  \u001b[0m | \u001b[0m 37.51   \u001b[0m | \u001b[0m 75.44   \u001b[0m |\n",
      "| \u001b[0m 2       \u001b[0m | \u001b[0m 0.6575  \u001b[0m | \u001b[0m 39.2    \u001b[0m | \u001b[0m 90.19   \u001b[0m |\n",
      "| \u001b[0m 3       \u001b[0m | \u001b[0m 0.6575  \u001b[0m | \u001b[0m 97.55   \u001b[0m | \u001b[0m 99.26   \u001b[0m |\n",
      "| \u001b[0m 4       \u001b[0m | \u001b[0m 0.6575  \u001b[0m | \u001b[0m 64.2    \u001b[0m | \u001b[0m 69.03   \u001b[0m |\n",
      "| \u001b[0m 5       \u001b[0m | \u001b[0m 0.6575  \u001b[0m | \u001b[0m 44.6    \u001b[0m | \u001b[0m 30.58   \u001b[0m |\n",
      "| \u001b[0m 6       \u001b[0m | \u001b[0m 0.6575  \u001b[0m | \u001b[0m 99.98   \u001b[0m | \u001b[0m 0.1169  \u001b[0m |\n",
      "| \u001b[0m 7       \u001b[0m | \u001b[0m 0.6575  \u001b[0m | \u001b[0m 0.3122  \u001b[0m | \u001b[0m 0.02219 \u001b[0m |\n",
      "| \u001b[0m 8       \u001b[0m | \u001b[0m 0.6575  \u001b[0m | \u001b[0m 0.5307  \u001b[0m | \u001b[0m 99.69   \u001b[0m |\n",
      "| \u001b[0m 9       \u001b[0m | \u001b[0m 0.6575  \u001b[0m | \u001b[0m 99.74   \u001b[0m | \u001b[0m 0.04686 \u001b[0m |\n",
      "| \u001b[95m 10      \u001b[0m | \u001b[95m 0.6575  \u001b[0m | \u001b[95m 0.07879 \u001b[0m | \u001b[95m 0.4273  \u001b[0m |\n",
      "| \u001b[0m 11      \u001b[0m | \u001b[0m 0.6575  \u001b[0m | \u001b[0m 99.98   \u001b[0m | \u001b[0m 99.91   \u001b[0m |\n",
      "| \u001b[0m 12      \u001b[0m | \u001b[0m 0.6575  \u001b[0m | \u001b[0m 0.05791 \u001b[0m | \u001b[0m 99.54   \u001b[0m |\n",
      "| \u001b[0m 13      \u001b[0m | \u001b[0m 0.6575  \u001b[0m | \u001b[0m 99.86   \u001b[0m | \u001b[0m 0.03225 \u001b[0m |\n",
      "| \u001b[0m 14      \u001b[0m | \u001b[0m 0.6575  \u001b[0m | \u001b[0m 0.08249 \u001b[0m | \u001b[0m 0.3826  \u001b[0m |\n"
     ]
    },
    {
     "name": "stderr",
     "output_type": "stream",
     "text": [
      "INFO:root:Optimizing Hyperparameter for: SVM\n"
     ]
    },
    {
     "name": "stdout",
     "output_type": "stream",
     "text": [
      "| \u001b[0m 15      \u001b[0m | \u001b[0m 0.6575  \u001b[0m | \u001b[0m 99.48   \u001b[0m | \u001b[0m 99.93   \u001b[0m |\n",
      "=================================================\n",
      "|   iter    |  target   |     c     |     e     |     g     |\n",
      "-------------------------------------------------------------\n",
      "| \u001b[0m 1       \u001b[0m | \u001b[0m 0.5     \u001b[0m | \u001b[0m 64.64   \u001b[0m | \u001b[0m 9.969   \u001b[0m | \u001b[0m 0.2315  \u001b[0m |\n",
      "| \u001b[0m 2       \u001b[0m | \u001b[0m 0.5     \u001b[0m | \u001b[0m 10.69   \u001b[0m | \u001b[0m 2.437   \u001b[0m | \u001b[0m 0.9506  \u001b[0m |\n",
      "| \u001b[0m 3       \u001b[0m | \u001b[0m 0.5     \u001b[0m | \u001b[0m 96.47   \u001b[0m | \u001b[0m 8.766   \u001b[0m | \u001b[0m 0.9638  \u001b[0m |\n",
      "| \u001b[0m 4       \u001b[0m | \u001b[0m 0.5     \u001b[0m | \u001b[0m 98.53   \u001b[0m | \u001b[0m 2.012   \u001b[0m | \u001b[0m 0.5513  \u001b[0m |\n",
      "| \u001b[0m 5       \u001b[0m | \u001b[0m 0.5     \u001b[0m | \u001b[0m 69.95   \u001b[0m | \u001b[0m 2.824   \u001b[0m | \u001b[0m 0.1855  \u001b[0m |\n",
      "| \u001b[0m 6       \u001b[0m | \u001b[0m 0.5     \u001b[0m | \u001b[0m 0.001251\u001b[0m | \u001b[0m 9.864   \u001b[0m | \u001b[0m 0.9708  \u001b[0m |\n",
      "| \u001b[95m 7       \u001b[0m | \u001b[95m 0.5029  \u001b[0m | \u001b[95m 0.01481 \u001b[0m | \u001b[95m 0.09116 \u001b[0m | \u001b[95m 0.3777  \u001b[0m |\n",
      "| \u001b[0m 8       \u001b[0m | \u001b[0m 0.5004  \u001b[0m | \u001b[0m 0.09183 \u001b[0m | \u001b[0m 0.07229 \u001b[0m | \u001b[0m 0.1343  \u001b[0m |\n",
      "| \u001b[0m 9       \u001b[0m | \u001b[0m 0.5     \u001b[0m | \u001b[0m 0.04559 \u001b[0m | \u001b[0m 9.949   \u001b[0m | \u001b[0m 0.3969  \u001b[0m |\n",
      "| \u001b[0m 10      \u001b[0m | \u001b[0m 0.5024  \u001b[0m | \u001b[0m 99.95   \u001b[0m | \u001b[0m 0.002369\u001b[0m | \u001b[0m 0.9419  \u001b[0m |\n",
      "| \u001b[0m 11      \u001b[0m | \u001b[0m 0.5019  \u001b[0m | \u001b[0m 99.94   \u001b[0m | \u001b[0m 0.2358  \u001b[0m | \u001b[0m 0.3444  \u001b[0m |\n",
      "| \u001b[0m 12      \u001b[0m | \u001b[0m 0.5007  \u001b[0m | \u001b[0m 99.96   \u001b[0m | \u001b[0m 0.09713 \u001b[0m | \u001b[0m 0.6285  \u001b[0m |\n",
      "| \u001b[95m 13      \u001b[0m | \u001b[95m 0.5047  \u001b[0m | \u001b[95m 99.95   \u001b[0m | \u001b[95m 0.4943  \u001b[0m | \u001b[95m 0.0843  \u001b[0m |\n",
      "| \u001b[0m 14      \u001b[0m | \u001b[0m 0.5     \u001b[0m | \u001b[0m 99.93   \u001b[0m | \u001b[0m 9.989   \u001b[0m | \u001b[0m 0.4068  \u001b[0m |\n"
     ]
    },
    {
     "name": "stderr",
     "output_type": "stream",
     "text": [
      "INFO:root:Optimizing Hyperparameter for: Random Forest\n"
     ]
    },
    {
     "name": "stdout",
     "output_type": "stream",
     "text": [
      "| \u001b[0m 15      \u001b[0m | \u001b[0m 0.504   \u001b[0m | \u001b[0m 0.02637 \u001b[0m | \u001b[0m 0.06709 \u001b[0m | \u001b[0m 0.2616  \u001b[0m |\n",
      "=============================================================\n",
      "|   iter    |  target   |   leaf    |   split   |   trees   |\n",
      "-------------------------------------------------------------\n",
      "| \u001b[0m 1       \u001b[0m | \u001b[0m 0.6551  \u001b[0m | \u001b[0m 1.028   \u001b[0m | \u001b[0m 14.8    \u001b[0m | \u001b[0m 73.77   \u001b[0m |\n",
      "| \u001b[95m 2       \u001b[0m | \u001b[95m 0.6629  \u001b[0m | \u001b[95m 7.32    \u001b[0m | \u001b[95m 8.628   \u001b[0m | \u001b[95m 157.8   \u001b[0m |\n",
      "| \u001b[0m 3       \u001b[0m | \u001b[0m 0.6599  \u001b[0m | \u001b[0m 6.511   \u001b[0m | \u001b[0m 7.078   \u001b[0m | \u001b[0m 196.8   \u001b[0m |\n",
      "| \u001b[95m 4       \u001b[0m | \u001b[95m 0.6634  \u001b[0m | \u001b[95m 8.76    \u001b[0m | \u001b[95m 11.65   \u001b[0m | \u001b[95m 118.6   \u001b[0m |\n",
      "| \u001b[95m 5       \u001b[0m | \u001b[95m 0.6636  \u001b[0m | \u001b[95m 8.212   \u001b[0m | \u001b[95m 19.86   \u001b[0m | \u001b[95m 75.96   \u001b[0m |\n",
      "| \u001b[95m 6       \u001b[0m | \u001b[95m 0.6655  \u001b[0m | \u001b[95m 10.0    \u001b[0m | \u001b[95m 20.0    \u001b[0m | \u001b[95m 164.5   \u001b[0m |\n",
      "| \u001b[0m 7       \u001b[0m | \u001b[0m 0.6651  \u001b[0m | \u001b[0m 9.954   \u001b[0m | \u001b[0m 19.99   \u001b[0m | \u001b[0m 142.2   \u001b[0m |\n",
      "| \u001b[0m 8       \u001b[0m | \u001b[0m 0.6554  \u001b[0m | \u001b[0m 9.987   \u001b[0m | \u001b[0m 19.88   \u001b[0m | \u001b[0m 10.41   \u001b[0m |\n",
      "| \u001b[0m 9       \u001b[0m | \u001b[0m 0.6628  \u001b[0m | \u001b[0m 9.982   \u001b[0m | \u001b[0m 19.43   \u001b[0m | \u001b[0m 141.4   \u001b[0m |\n",
      "| \u001b[0m 10      \u001b[0m | \u001b[0m 0.6651  \u001b[0m | \u001b[0m 9.995   \u001b[0m | \u001b[0m 2.415   \u001b[0m | \u001b[0m 127.9   \u001b[0m |\n",
      "| \u001b[95m 11      \u001b[0m | \u001b[95m 0.666   \u001b[0m | \u001b[95m 9.996   \u001b[0m | \u001b[95m 2.014   \u001b[0m | \u001b[95m 133.5   \u001b[0m |\n",
      "| \u001b[0m 12      \u001b[0m | \u001b[0m 0.6634  \u001b[0m | \u001b[0m 9.983   \u001b[0m | \u001b[0m 2.069   \u001b[0m | \u001b[0m 133.4   \u001b[0m |\n",
      "| \u001b[0m 13      \u001b[0m | \u001b[0m 0.6649  \u001b[0m | \u001b[0m 9.964   \u001b[0m | \u001b[0m 19.5    \u001b[0m | \u001b[0m 130.9   \u001b[0m |\n",
      "| \u001b[0m 14      \u001b[0m | \u001b[0m 0.6651  \u001b[0m | \u001b[0m 9.992   \u001b[0m | \u001b[0m 19.98   \u001b[0m | \u001b[0m 138.0   \u001b[0m |\n"
     ]
    },
    {
     "name": "stderr",
     "output_type": "stream",
     "text": [
      "INFO:root:Optimizing Hyperparameter for: XGBoost\n"
     ]
    },
    {
     "name": "stdout",
     "output_type": "stream",
     "text": [
      "| \u001b[0m 15      \u001b[0m | \u001b[0m 0.6639  \u001b[0m | \u001b[0m 9.981   \u001b[0m | \u001b[0m 2.114   \u001b[0m | \u001b[0m 117.0   \u001b[0m |\n",
      "=============================================================\n",
      "|   iter    |  target   | colsam... |   gamma   | learni... | max_de... | max_depth | min_ch... | n_esti... | reg_alpha | reg_la... | subsample |\n",
      "-------------------------------------------------------------------------------------------------------------------------------------------------\n",
      "| \u001b[0m 1       \u001b[0m | \u001b[0m 0.6517  \u001b[0m | \u001b[0m 0.388   \u001b[0m | \u001b[0m 0.4727  \u001b[0m | \u001b[0m 0.248   \u001b[0m | \u001b[0m 0.0239  \u001b[0m | \u001b[0m 2.619   \u001b[0m | \u001b[0m 7.656   \u001b[0m | \u001b[0m 2.294e+0\u001b[0m | \u001b[0m 0.1079  \u001b[0m | \u001b[0m 0.511   \u001b[0m | \u001b[0m 0.6159  \u001b[0m |\n",
      "| \u001b[95m 2       \u001b[0m | \u001b[95m 0.6623  \u001b[0m | \u001b[95m 0.7347  \u001b[0m | \u001b[95m 0.05814 \u001b[0m | \u001b[95m 0.07692 \u001b[0m | \u001b[95m 0.06685 \u001b[0m | \u001b[95m 2.058   \u001b[0m | \u001b[95m 7.1     \u001b[0m | \u001b[95m 1.81e+03\u001b[0m | \u001b[95m 0.2471  \u001b[0m | \u001b[95m 0.3775  \u001b[0m | \u001b[95m 0.7432  \u001b[0m |\n",
      "| \u001b[0m 3       \u001b[0m | \u001b[0m 0.6565  \u001b[0m | \u001b[0m 0.5105  \u001b[0m | \u001b[0m 0.1517  \u001b[0m | \u001b[0m 0.1915  \u001b[0m | \u001b[0m 0.07319 \u001b[0m | \u001b[0m 3.706   \u001b[0m | \u001b[0m 1.996   \u001b[0m | \u001b[0m 1.683e+0\u001b[0m | \u001b[0m 0.2919  \u001b[0m | \u001b[0m 0.5364  \u001b[0m | \u001b[0m 0.5263  \u001b[0m |\n",
      "| \u001b[95m 4       \u001b[0m | \u001b[95m 0.6647  \u001b[0m | \u001b[95m 0.9219  \u001b[0m | \u001b[95m 0.8267  \u001b[0m | \u001b[95m 0.1957  \u001b[0m | \u001b[95m 0.03626 \u001b[0m | \u001b[95m 4.788   \u001b[0m | \u001b[95m 5.242   \u001b[0m | \u001b[95m 1.632e+0\u001b[0m | \u001b[95m 0.3943  \u001b[0m | \u001b[95m 0.55    \u001b[0m | \u001b[95m 0.5209  \u001b[0m |\n",
      "| \u001b[0m 5       \u001b[0m | \u001b[0m 0.6615  \u001b[0m | \u001b[0m 0.5405  \u001b[0m | \u001b[0m 0.09114 \u001b[0m | \u001b[0m 0.1547  \u001b[0m | \u001b[0m 0.01225 \u001b[0m | \u001b[0m 3.364   \u001b[0m | \u001b[0m 5.115   \u001b[0m | \u001b[0m 1.165e+0\u001b[0m | \u001b[0m 0.2608  \u001b[0m | \u001b[0m 0.2719  \u001b[0m | \u001b[0m 0.6709  \u001b[0m |\n",
      "| \u001b[95m 6       \u001b[0m | \u001b[95m 0.6648  \u001b[0m | \u001b[95m 0.8225  \u001b[0m | \u001b[95m 1.0     \u001b[0m | \u001b[95m 0.1093  \u001b[0m | \u001b[95m 0.06478 \u001b[0m | \u001b[95m 4.748   \u001b[0m | \u001b[95m 9.917   \u001b[0m | \u001b[95m 1.396e+0\u001b[0m | \u001b[95m 0.4923  \u001b[0m | \u001b[95m 0.2931  \u001b[0m | \u001b[95m 0.63    \u001b[0m |\n",
      "| \u001b[0m 7       \u001b[0m | \u001b[0m 0.644   \u001b[0m | \u001b[0m 0.501   \u001b[0m | \u001b[0m 1.0     \u001b[0m | \u001b[0m 0.01551 \u001b[0m | \u001b[0m 0.01062 \u001b[0m | \u001b[0m 4.836   \u001b[0m | \u001b[0m 9.704   \u001b[0m | \u001b[0m 1.001e+0\u001b[0m | \u001b[0m 0.3221  \u001b[0m | \u001b[0m 0.2193  \u001b[0m | \u001b[0m 0.6835  \u001b[0m |\n",
      "| \u001b[0m 8       \u001b[0m | \u001b[0m 0.6489  \u001b[0m | \u001b[0m 0.9039  \u001b[0m | \u001b[0m 1.0     \u001b[0m | \u001b[0m 0.2218  \u001b[0m | \u001b[0m 0.09291 \u001b[0m | \u001b[0m 4.618   \u001b[0m | \u001b[0m 9.971   \u001b[0m | \u001b[0m 2.499e+0\u001b[0m | \u001b[0m 0.1845  \u001b[0m | \u001b[0m 0.6661  \u001b[0m | \u001b[0m 0.637   \u001b[0m |\n",
      "| \u001b[0m 9       \u001b[0m | \u001b[0m 0.6561  \u001b[0m | \u001b[0m 0.5584  \u001b[0m | \u001b[0m 1.0     \u001b[0m | \u001b[0m 0.1597  \u001b[0m | \u001b[0m 0.07419 \u001b[0m | \u001b[0m 4.81    \u001b[0m | \u001b[0m 9.944   \u001b[0m | \u001b[0m 1.581e+0\u001b[0m | \u001b[0m 0.2441  \u001b[0m | \u001b[0m 0.6094  \u001b[0m | \u001b[0m 0.5636  \u001b[0m |\n",
      "| \u001b[0m 10      \u001b[0m | \u001b[0m 0.6645  \u001b[0m | \u001b[0m 0.9489  \u001b[0m | \u001b[0m 1.0     \u001b[0m | \u001b[0m 0.2138  \u001b[0m | \u001b[0m 0.03739 \u001b[0m | \u001b[0m 4.902   \u001b[0m | \u001b[0m 1.925   \u001b[0m | \u001b[0m 2.033e+0\u001b[0m | \u001b[0m 0.1589  \u001b[0m | \u001b[0m 0.5645  \u001b[0m | \u001b[0m 0.5816  \u001b[0m |\n",
      "| \u001b[95m 11      \u001b[0m | \u001b[95m 0.6661  \u001b[0m | \u001b[95m 0.936   \u001b[0m | \u001b[95m 1.0     \u001b[0m | \u001b[95m 0.1577  \u001b[0m | \u001b[95m 0.01629 \u001b[0m | \u001b[95m 4.934   \u001b[0m | \u001b[95m 1.266   \u001b[0m | \u001b[95m 1.287e+0\u001b[0m | \u001b[95m 0.4839  \u001b[0m | \u001b[95m 0.2255  \u001b[0m | \u001b[95m 0.6651  \u001b[0m |\n",
      "| \u001b[0m 12      \u001b[0m | \u001b[0m 0.6645  \u001b[0m | \u001b[0m 0.9142  \u001b[0m | \u001b[0m 1.0     \u001b[0m | \u001b[0m 0.1216  \u001b[0m | \u001b[0m 0.03937 \u001b[0m | \u001b[0m 4.77    \u001b[0m | \u001b[0m 9.853   \u001b[0m | \u001b[0m 1.919e+0\u001b[0m | \u001b[0m 0.1785  \u001b[0m | \u001b[0m 0.4255  \u001b[0m | \u001b[0m 0.5807  \u001b[0m |\n",
      "| \u001b[0m 13      \u001b[0m | \u001b[0m 0.6653  \u001b[0m | \u001b[0m 0.9468  \u001b[0m | \u001b[0m 1.0     \u001b[0m | \u001b[0m 0.1325  \u001b[0m | \u001b[0m 0.03458 \u001b[0m | \u001b[0m 4.949   \u001b[0m | \u001b[0m 1.358   \u001b[0m | \u001b[0m 1.296e+0\u001b[0m | \u001b[0m 0.284   \u001b[0m | \u001b[0m 0.4173  \u001b[0m | \u001b[0m 0.7064  \u001b[0m |\n",
      "| \u001b[0m 14      \u001b[0m | \u001b[0m 0.6637  \u001b[0m | \u001b[0m 0.9634  \u001b[0m | \u001b[0m 1.0     \u001b[0m | \u001b[0m 0.09783 \u001b[0m | \u001b[0m 0.08854 \u001b[0m | \u001b[0m 4.913   \u001b[0m | \u001b[0m 1.423   \u001b[0m | \u001b[0m 1.307e+0\u001b[0m | \u001b[0m 0.4653  \u001b[0m | \u001b[0m 0.1466  \u001b[0m | \u001b[0m 0.6373  \u001b[0m |\n",
      "| \u001b[0m 15      \u001b[0m | \u001b[0m 0.6599  \u001b[0m | \u001b[0m 0.6247  \u001b[0m | \u001b[0m 1.0     \u001b[0m | \u001b[0m 0.1095  \u001b[0m | \u001b[0m 0.08234 \u001b[0m | \u001b[0m 4.82    \u001b[0m | \u001b[0m 9.806   \u001b[0m | \u001b[0m 2.135e+0\u001b[0m | \u001b[0m 0.2813  \u001b[0m | \u001b[0m 0.3098  \u001b[0m | \u001b[0m 0.7378  \u001b[0m |\n",
      "=================================================================================================================================================\n"
     ]
    }
   ],
   "source": [
    "# LogisticRegression CV\n",
    "def LR_CV(c, ints, kf):\n",
    "    return cross_val_score(LogisticRegression(C = c, intercept_scaling = ints),\n",
    "                       X_train,\n",
    "                       y_train,\n",
    "                       cv=5,\n",
    "                       scoring=\"roc_auc\",\n",
    "                       n_jobs=-1).mean()\n",
    "\n",
    "# SVM CV\n",
    "def SVM_CV(c, g, e):\n",
    "    return cross_val_score(SVC(C = c, gamma = g, tol = e),\n",
    "                       X_train,\n",
    "                       y_train,\n",
    "                       cv=5,\n",
    "                       scoring=\"roc_auc\",\n",
    "                       n_jobs=-1).mean()\n",
    "\n",
    "#Random Forest CV\n",
    "def RF_CV(trees, split, leaf):\n",
    "    return cross_val_score(RandomForestClassifier(n_estimators = int(trees), \n",
    "                                                  min_samples_split = int(split), \n",
    "                                                  min_samples_leaf = int(leaf), \n",
    "                                                  max_features = None),\n",
    "                       X_train,\n",
    "                       y_train,\n",
    "                       cv=5,\n",
    "                       scoring=\"roc_auc\",\n",
    "                       n_jobs=-1).mean()\n",
    "\n",
    "# XGBoost CV\n",
    "def xgboost_CV(max_depth,\n",
    "              learning_rate,\n",
    "              n_estimators,\n",
    "              gamma,\n",
    "              min_child_weight,\n",
    "              max_delta_step,\n",
    "              subsample,\n",
    "              colsample_bytree,\n",
    "              reg_alpha,\n",
    "              reg_lambda,\n",
    "              silent=True,\n",
    "              nthread=-1,\n",
    "              random_state=1):\n",
    "    return cross_val_score(xgb.XGBClassifier(max_depth=int(max_depth),\n",
    "                                             learning_rate=learning_rate,\n",
    "                                             n_estimators=int(n_estimators),\n",
    "                                             silent=silent,\n",
    "                                             nthread=nthread,\n",
    "                                             gamma=gamma,\n",
    "                                             min_child_weight=min_child_weight,\n",
    "                                             max_delta_step=max_delta_step,\n",
    "                                             subsample=subsample,\n",
    "                                             colsample_bytree=colsample_bytree,\n",
    "                                             reg_alpha=reg_alpha,\n",
    "                                             reg_lambda = reg_lambda),\n",
    "                           X_train,\n",
    "                           y_train,\n",
    "                           cv=5,\n",
    "                           scoring=\"roc_auc\",\n",
    "                           n_jobs=-1).mean()\n",
    "\n",
    "kf = KFold(n_splits = 5, shuffle = True, random_state = 1)\n",
    "\n",
    "# Search for a good set of parameters for logistic regression\n",
    "bo_LR = BayesianOptimization(lambda c, ints: LR_CV(c, ints, kf), {'c' : (0.001, 100), 'ints' : (0.001, 100)})\n",
    "with warnings.catch_warnings():\n",
    "    warnings.filterwarnings('ignore')\n",
    "    logging.info('Optimizing Hyperparameter for: Logistic Regression')\n",
    "    bo_LR.maximize(n_iter=10)\n",
    "\n",
    "# Search for a good set of parameters for support vector machine\n",
    "bo_SVM = BayesianOptimization(SVM_CV, {'c' : (0.001, 100), 'g' : (0.0001, 1), 'e' : (0.001, 10)})\n",
    "with warnings.catch_warnings():\n",
    "    warnings.filterwarnings('ignore')\n",
    "    logging.info('Optimizing Hyperparameter for: SVM')\n",
    "    bo_SVM.maximize(init_points=5, n_iter=10, acq='ei', xi=0.0)\n",
    "\n",
    "# Search for a good set of parameters for random forest.\n",
    "bo_RF = BayesianOptimization(RF_CV, {'trees' : (10, 200), 'split' : (2, 20), 'leaf' : (1, 10)})\n",
    "with warnings.catch_warnings():\n",
    "    warnings.filterwarnings('ignore')\n",
    "    logging.info('Optimizing Hyperparameter for: Random Forest')\n",
    "    bo_RF.maximize(init_points=5, n_iter=10, acq='ei', xi=0.0)\n",
    "\n",
    "# Search for a good set of parameters for xgboost.\n",
    "bo_xgboost = BayesianOptimization(xgboost_CV,\n",
    "                                 {'max_depth': (2, 5),\n",
    "                                  'learning_rate': (0.01, 0.3),\n",
    "                                  'n_estimators': (1000, 2500),\n",
    "                                  'gamma': (1., 0.01),\n",
    "                                  'min_child_weight': (1, 10),\n",
    "                                  'max_delta_step': (0, 0.1),\n",
    "                                  'subsample': (0.5, 0.8),\n",
    "                                  'colsample_bytree' :(0.1, 0.99),\n",
    "                                  'reg_alpha':(0.1, 0.5),\n",
    "                                  'reg_lambda':(0.1, 0.9)\n",
    "                                  })\n",
    "\n",
    "with warnings.catch_warnings():\n",
    "    warnings.filterwarnings('ignore')\n",
    "    logging.info('Optimizing Hyperparameter for: XGBoost')\n",
    "    bo_xgboost.maximize(init_points=5, n_iter=10, acq='ei', xi=0.0)"
   ]
  },
  {
   "cell_type": "code",
   "execution_count": 31,
   "metadata": {},
   "outputs": [],
   "source": [
    "max_params_xgboost = bo_xgboost.max['params']\n",
    "max_params_xgboost['max_depth'] = int(max_params_xgboost['max_depth'])\n",
    "\n",
    "max_params_SVM = bo_SVM.max['params']\n",
    "\n",
    "max_params_LR = bo_LR.max['params']\n",
    "\n",
    "max_params_RF = bo_RF.max['params']\n",
    "\n",
    "# set the hyperparameters of individual models to their optimal ones \n",
    "# according the previous bayesian optimization search results\n",
    "classifiers = []\n",
    "model1 = xgb.XGBClassifier(max_depth=max_params_xgboost['max_depth'],\n",
    "                                             learning_rate=max_params_xgboost['learning_rate'],\n",
    "                                             n_estimators=int(max_params_xgboost['n_estimators']),\n",
    "                                             silent=True,\n",
    "                                             nthread=-1,\n",
    "                                             gamma=max_params_xgboost['gamma'],\n",
    "                                             min_child_weight=max_params_xgboost['min_child_weight'],\n",
    "                                             max_delta_step=max_params_xgboost['max_delta_step'],\n",
    "                                             subsample=max_params_xgboost['subsample'],\n",
    "                                             colsample_bytree=max_params_xgboost['colsample_bytree'],\n",
    "                                             reg_alpha=max_params_xgboost['reg_alpha'],\n",
    "                                             reg_lambda = max_params_xgboost['reg_lambda'])\n",
    "classifiers.append(model1)\n",
    "model2 = svm.SVC(C=max_params_SVM['c'], gamma=max_params_SVM['g'], tol=max_params_SVM['e'])\n",
    "classifiers.append(model2)\n",
    "model3 = LogisticRegression(C = max_params_LR['c'], intercept_scaling = max_params_LR['ints'])\n",
    "classifiers.append(model3)\n",
    "model4 = RandomForestClassifier(n_estimators = int(max_params_RF['trees']), \n",
    "                                min_samples_split = int(max_params_RF['split']), \n",
    "                                min_samples_leaf = int(max_params_RF['leaf']), \n",
    "                                max_features = None)\n",
    "classifiers.append(model4)"
   ]
  },
  {
   "cell_type": "markdown",
   "metadata": {},
   "source": [
    "### 2. Fit the classifiers, compare results and find the best classifier:"
   ]
  },
  {
   "cell_type": "code",
   "execution_count": 51,
   "metadata": {
    "scrolled": false
   },
   "outputs": [
    {
     "name": "stderr",
     "output_type": "stream",
     "text": [
      "INFO:root:ROC AOC of XGBClassifier(base_score=0.5, booster='gbtree', colsample_bylevel=1,\n",
      "              colsample_bynode=1, colsample_bytree=0.9360388410774169,\n",
      "              gamma=1.0, learning_rate=0.15772632765430789,\n",
      "              max_delta_step=0.016293481325876914, max_depth=4,\n",
      "              min_child_weight=1.2659863062094585, missing=None,\n",
      "              n_estimators=1287, n_jobs=1, nthread=-1,\n",
      "              objective='binary:logistic', random_state=0,\n",
      "              reg_alpha=0.4838545109403828, reg_lambda=0.22548813109667354,\n",
      "              scale_pos_weight=1, seed=None, silent=True,\n",
      "              subsample=0.6650814178517228, verbosity=1) is 0.6055876526667188\n",
      "INFO:root:Confusion Matrix of XGBClassifier(base_score=0.5, booster='gbtree', colsample_bylevel=1,\n",
      "              colsample_bynode=1, colsample_bytree=0.9360388410774169,\n",
      "              gamma=1.0, learning_rate=0.15772632765430789,\n",
      "              max_delta_step=0.016293481325876914, max_depth=4,\n",
      "              min_child_weight=1.2659863062094585, missing=None,\n",
      "              n_estimators=1287, n_jobs=1, nthread=-1,\n",
      "              objective='binary:logistic', random_state=0,\n",
      "              reg_alpha=0.4838545109403828, reg_lambda=0.22548813109667354,\n",
      "              scale_pos_weight=1, seed=None, silent=True,\n",
      "              subsample=0.6650814178517228, verbosity=1) is [[1515  530]\n",
      " [ 893  793]]\n",
      "INFO:root:ROC AOC of SVC(C=99.9497005670559, break_ties=False, cache_size=200, class_weight=None,\n",
      "    coef0=0.0, decision_function_shape='ovr', degree=3,\n",
      "    gamma=0.0843030912562303, kernel='rbf', max_iter=-1, probability=False,\n",
      "    random_state=None, shrinking=True, tol=0.49426287444648803, verbose=False) is 0.5026820906820733\n",
      "INFO:root:Confusion Matrix of SVC(C=99.9497005670559, break_ties=False, cache_size=200, class_weight=None,\n",
      "    coef0=0.0, decision_function_shape='ovr', degree=3,\n",
      "    gamma=0.0843030912562303, kernel='rbf', max_iter=-1, probability=False,\n",
      "    random_state=None, shrinking=True, tol=0.49426287444648803, verbose=False) is [[1965   80]\n",
      " [1611   75]]\n",
      "INFO:root:ROC AOC of LogisticRegression(C=0.07878579564326267, class_weight=None, dual=False,\n",
      "                   fit_intercept=True, intercept_scaling=0.4272856535269282,\n",
      "                   l1_ratio=None, max_iter=100, multi_class='auto', n_jobs=None,\n",
      "                   penalty='l2', random_state=None, solver='lbfgs', tol=0.0001,\n",
      "                   verbose=0, warm_start=False) is 0.597062679277351\n",
      "INFO:root:Confusion Matrix of LogisticRegression(C=0.07878579564326267, class_weight=None, dual=False,\n",
      "                   fit_intercept=True, intercept_scaling=0.4272856535269282,\n",
      "                   l1_ratio=None, max_iter=100, multi_class='auto', n_jobs=None,\n",
      "                   penalty='l2', random_state=None, solver='lbfgs', tol=0.0001,\n",
      "                   verbose=0, warm_start=False) is [[1599  446]\n",
      " [ 991  695]]\n",
      "INFO:root:ROC AOC of RandomForestClassifier(bootstrap=True, ccp_alpha=0.0, class_weight=None,\n",
      "                       criterion='gini', max_depth=None, max_features=None,\n",
      "                       max_leaf_nodes=None, max_samples=None,\n",
      "                       min_impurity_decrease=0.0, min_impurity_split=None,\n",
      "                       min_samples_leaf=9, min_samples_split=2,\n",
      "                       min_weight_fraction_leaf=0.0, n_estimators=133,\n",
      "                       n_jobs=None, oob_score=False, random_state=None,\n",
      "                       verbose=0, warm_start=False) is 0.6029223839645926\n",
      "INFO:root:Confusion Matrix of RandomForestClassifier(bootstrap=True, ccp_alpha=0.0, class_weight=None,\n",
      "                       criterion='gini', max_depth=None, max_features=None,\n",
      "                       max_leaf_nodes=None, max_samples=None,\n",
      "                       min_impurity_decrease=0.0, min_impurity_split=None,\n",
      "                       min_samples_leaf=9, min_samples_split=2,\n",
      "                       min_weight_fraction_leaf=0.0, n_estimators=133,\n",
      "                       n_jobs=None, oob_score=False, random_state=None,\n",
      "                       verbose=0, warm_start=False) is [[1401  644]\n",
      " [ 808  878]]\n",
      "INFO:root:ROC AUC of the best Classifier: XGBClassifier(base_score=0.5, booster='gbtree', colsample_bylevel=1,\n",
      "              colsample_bynode=1, colsample_bytree=0.9360388410774169,\n",
      "              gamma=1.0, learning_rate=0.15772632765430789,\n",
      "              max_delta_step=0.016293481325876914, max_depth=4,\n",
      "              min_child_weight=1.2659863062094585, missing=None,\n",
      "              n_estimators=1287, n_jobs=1, nthread=-1,\n",
      "              objective='binary:logistic', random_state=0,\n",
      "              reg_alpha=0.4838545109403828, reg_lambda=0.22548813109667354,\n",
      "              scale_pos_weight=1, seed=None, silent=True,\n",
      "              subsample=0.6650814178517228, verbosity=1) is 0.6055876526667188\n",
      "INFO:root:Confusion Matrix of the best Classifier: XGBClassifier(base_score=0.5, booster='gbtree', colsample_bylevel=1,\n",
      "              colsample_bynode=1, colsample_bytree=0.9360388410774169,\n",
      "              gamma=1.0, learning_rate=0.15772632765430789,\n",
      "              max_delta_step=0.016293481325876914, max_depth=4,\n",
      "              min_child_weight=1.2659863062094585, missing=None,\n",
      "              n_estimators=1287, n_jobs=1, nthread=-1,\n",
      "              objective='binary:logistic', random_state=0,\n",
      "              reg_alpha=0.4838545109403828, reg_lambda=0.22548813109667354,\n",
      "              scale_pos_weight=1, seed=None, silent=True,\n",
      "              subsample=0.6650814178517228, verbosity=1): \n"
     ]
    },
    {
     "data": {
      "text/plain": [
       "<matplotlib.axes._subplots.AxesSubplot at 0x7fa482075668>"
      ]
     },
     "execution_count": 51,
     "metadata": {},
     "output_type": "execute_result"
    },
    {
     "data": {
      "image/png": "[encoded data removed]",
      "text/plain": [
       "<Figure size 432x288 with 2 Axes>"
      ]
     },
     "metadata": {},
     "output_type": "display_data"
    }
   ],
   "source": [
    "clf_best = None\n",
    "roc_auc_best = -1\n",
    "df_cm_best = None\n",
    "for clf in classifiers:\n",
    "    clf.fit(X_train, y_train)\n",
    "    y_pred= clf.predict(X_test)\n",
    "    roc_auc = roc_auc_score(y_test, y_pred)\n",
    "    logging.info(\"ROC AOC of %s is %s\"%(clf, roc_auc))\n",
    "    \n",
    "    conf_matrix = confusion_matrix(y_test, y_pred) \n",
    "    \n",
    "    logging.info(\"Confusion Matrix of %s is %s\"%(clf, conf_matrix))\n",
    "    conf_matrix = conf_matrix / conf_matrix.astype(np.float).sum(axis=1)\n",
    "\n",
    "    df_cm = pd.DataFrame(conf_matrix, range(2), range(2))\n",
    "\n",
    "    if roc_auc > roc_auc_best:\n",
    "        roc_auc_best = roc_auc\n",
    "        clf_best = clf\n",
    "        df_cm_best = df_cm\n",
    "logging.info(\"ROC AUC of the best Classifier: %s is %s\"%(clf_best, roc_auc_best))\n",
    "logging.info(\"Confusion Matrix of the best Classifier: %s: \"%(clf_best))\n",
    "\n",
    "#plt.figure(figsize = (10,7))\n",
    "sns.set(font_scale=1.4)#for label size\n",
    "sns.heatmap(df_cm_best, annot=True,annot_kws={\"size\": 16})# font size\n"
   ]
  },
  {
   "cell_type": "markdown",
   "metadata": {},
   "source": [
    "## Post Script:\n",
    "Regarding model evaluation, we can also define other optimization metrics, such as with cost matrix if further information on costs of false positive, false negative, true positive, true negative is available."
   ]
  },
  {
   "cell_type": "code",
   "execution_count": 52,
   "metadata": {},
   "outputs": [
    {
     "data": {
      "text/plain": [
       "Text(0.5, 1.0, 'Feature Importance')"
      ]
     },
     "execution_count": 52,
     "metadata": {},
     "output_type": "execute_result"
    },
    {
     "data": {
      "image/png": "[encoded data removed]",
      "text/plain": [
       "<Figure size 1440x1440 with 1 Axes>"
      ]
     },
     "metadata": {},
     "output_type": "display_data"
    }
   ],
   "source": [
    "# plot the feature importance\n",
    "feat_imp = pd.DataFrame({'Importance':clf_best.feature_importances_,\n",
    "                         'Feature': features_x} ).sort_values(ascending=False, by='Importance')\n",
    "\n",
    "fig, axis = plt.subplots(1,1,figsize=(20,20))\n",
    "\n",
    "# Only show top 15\n",
    "feat_imp_top_15 = feat_imp.iloc[:15]\n",
    "sns.barplot(y='Feature', x='Importance', data=feat_imp_top_15, order=feat_imp_top_15['Feature'].unique(), ax=axis)\n",
    "axis.set_title('Feature Importance')"
   ]
  },
  {
   "cell_type": "code",
   "execution_count": null,
   "metadata": {},
   "outputs": [],
   "source": []
  }
 ],
 "metadata": {
  "colab": {
   "name": "bayes_ds_challenge.ipynb",
   "provenance": [],
   "version": "0.3.2"
  },
  "kernelspec": {
   "display_name": "Python 3",
   "language": "python",
   "name": "python3"
  },
  "language_info": {
   "codemirror_mode": {
    "name": "ipython",
    "version": 3
   },
   "file_extension": ".py",
   "mimetype": "text/x-python",
   "name": "python",
   "nbconvert_exporter": "python",
   "pygments_lexer": "ipython3",
   "version": "3.7.3"
  }
 },
 "nbformat": 4,
 "nbformat_minor": 4
}
