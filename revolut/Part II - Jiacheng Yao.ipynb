{
 "cells": [
  {
   "cell_type": "markdown",
   "metadata": {},
   "source": [
    "Notebook created by: Jiacheng Yao"
   ]
  },
  {
   "cell_type": "markdown",
   "metadata": {},
   "source": [
    "The dataset provided consists of examples of data points we often use to solve business problems. Data Scientists who sit with our product teams are typically tasked with understanding our user behaviour. Usually, we are concerned with engagement and churn. Utilizing this data, your business knowledge and potentially your interests, answer the following questions.\n",
    "\n",
    "        a) Define a target metric to measure user engagement. How would you define an engaged vs. unengaged user? \n",
    "\n",
    "        b) Using your logic from above, build a model (heuristic/statistical/ML) to classify engaged and unengaged users. Note that features which are directly correlated with your target metric could lead to overfitting.\n",
    "\n",
    "        c) Let’s assume an unengaged user is a churned user. Now suppose we use your model to identify unengaged users and implement some business actions try to convert them to engaged users (commonly known as reducing churn). How would you set up a test/experiment to check whether we are actually reducing churn?\n",
    "\n",
    "        d) In the past, one business action we took to reduce churn was to re-engage inactive users. Our engagement team designed a marketing campaign, REENGAGEMENT_ACTIVE_FUNDS to remind inactive users about funds on their Revolut account. Define a metric to measure the effectiveness of the campaign. Under this metric, was the campaign effective?\n",
    "\n"
   ]
  },
  {
   "cell_type": "markdown",
   "metadata": {},
   "source": [
    "a) Define a target metric to measure user engagement. How would you define an engaged vs. unengaged user?\n",
    "\n",
    "   1. **unengaged user**: user that hasn't made a transaction of any kind in the last 3 months\n",
    "   \n",
    "   2. **engaged user**: user that has made one or more transaction of any kind in the last 3 months"
   ]
  },
  {
   "cell_type": "markdown",
   "metadata": {},
   "source": [
    "b) Using your logic from above, build a model (heuristic/statistical/ML) to classify engaged and unengaged users. Note that features which are directly correlated with your target metric could lead to overfitting."
   ]
  },
  {
   "cell_type": "markdown",
   "metadata": {},
   "source": [
    "## 1. Preliminary Exploration"
   ]
  },
  {
   "cell_type": "markdown",
   "metadata": {},
   "source": [
    "1) Load data from Postgresql to python"
   ]
  },
  {
   "cell_type": "code",
   "execution_count": 1,
   "metadata": {},
   "outputs": [
    {
     "name": "stderr",
     "output_type": "stream",
     "text": [
      "INFO:root:Start 1.Preliminary Exploration\n"
     ]
    }
   ],
   "source": [
    "import sys\n",
    "sys.path.append('../code/')\n",
    "import config\n",
    "\n",
    "import logging\n",
    "\n",
    "import pandas as pd\n",
    "import numpy as np\n",
    "import matplotlib.pyplot as plt\n",
    "%matplotlib inline\n",
    "import seaborn as sns\n",
    "sns.set_style('whitegrid')\n",
    "\n",
    "logger = logging.getLogger()\n",
    "logger.setLevel(logging.INFO)\n",
    "logging.info(\"Start 1.Preliminary Exploration\")"
   ]
  },
  {
   "cell_type": "code",
   "execution_count": 2,
   "metadata": {
    "scrolled": true
   },
   "outputs": [],
   "source": [
    "import psycopg2\n",
    "conn = psycopg2.connect(dbname=config.dbname, user=config.user, password=\"\", host=config.host, port=config.port)"
   ]
  },
  {
   "cell_type": "code",
   "execution_count": 3,
   "metadata": {},
   "outputs": [
    {
     "name": "stderr",
     "output_type": "stream",
     "text": [
      "INFO:root:Read users into Dataframe\n",
      "INFO:root:Read devices into Dataframe\n",
      "INFO:root:Read notifications into Dataframe\n",
      "INFO:root:Read transactions into Dataframe\n"
     ]
    }
   ],
   "source": [
    "# Loading the small tables directly from Postgresql database into pandas Dataframes\n",
    "logging.info(\"Read users into Dataframe\")\n",
    "data_user = pd.read_sql('SELECT * FROM users', conn)\n",
    "logging.info(\"Read devices into Dataframe\")\n",
    "data_devices = pd.read_sql('SELECT * FROM devices', conn)\n",
    "logging.info(\"Read notifications into Dataframe\")\n",
    "data_notifications = pd.read_sql('SELECT * FROM notifications', conn)\n",
    "logging.info(\"Read transactions into Dataframe\")\n",
    "data_transactions = pd.read_sql('SELECT * FROM transactions', conn)"
   ]
  },
  {
   "cell_type": "markdown",
   "metadata": {},
   "source": [
    "2) Take a first look at the data:"
   ]
  },
  {
   "cell_type": "code",
   "execution_count": 4,
   "metadata": {
    "scrolled": false
   },
   "outputs": [
    {
     "data": {
      "text/html": [
       "<div>\n",
       "<style scoped>\n",
       "    .dataframe tbody tr th:only-of-type {\n",
       "        vertical-align: middle;\n",
       "    }\n",
       "\n",
       "    .dataframe tbody tr th {\n",
       "        vertical-align: top;\n",
       "    }\n",
       "\n",
       "    .dataframe thead th {\n",
       "        text-align: right;\n",
       "    }\n",
       "</style>\n",
       "<table border=\"1\" class=\"dataframe\">\n",
       "  <thead>\n",
       "    <tr style=\"text-align: right;\">\n",
       "      <th></th>\n",
       "      <th>user_id</th>\n",
       "      <th>birth_year</th>\n",
       "      <th>country</th>\n",
       "      <th>city</th>\n",
       "      <th>created_date</th>\n",
       "      <th>user_settings_crypto_unlocked</th>\n",
       "      <th>plan</th>\n",
       "      <th>attributes_notifications_marketing_push</th>\n",
       "      <th>attributes_notifications_marketing_email</th>\n",
       "      <th>num_contacts</th>\n",
       "      <th>num_referrals</th>\n",
       "      <th>num_successful_referrals</th>\n",
       "    </tr>\n",
       "  </thead>\n",
       "  <tbody>\n",
       "    <tr>\n",
       "      <th>0</th>\n",
       "      <td>user_0</td>\n",
       "      <td>1989</td>\n",
       "      <td>PL</td>\n",
       "      <td>Gdansk</td>\n",
       "      <td>2018-01-13 05:15:15.599466</td>\n",
       "      <td>1</td>\n",
       "      <td>STANDARD</td>\n",
       "      <td>1.0</td>\n",
       "      <td>1.0</td>\n",
       "      <td>3</td>\n",
       "      <td>0</td>\n",
       "      <td>0</td>\n",
       "    </tr>\n",
       "    <tr>\n",
       "      <th>1</th>\n",
       "      <td>user_1</td>\n",
       "      <td>1975</td>\n",
       "      <td>GB</td>\n",
       "      <td>London</td>\n",
       "      <td>2018-01-29 03:38:46.676876</td>\n",
       "      <td>0</td>\n",
       "      <td>STANDARD</td>\n",
       "      <td>NaN</td>\n",
       "      <td>NaN</td>\n",
       "      <td>21</td>\n",
       "      <td>0</td>\n",
       "      <td>0</td>\n",
       "    </tr>\n",
       "    <tr>\n",
       "      <th>2</th>\n",
       "      <td>user_2</td>\n",
       "      <td>1987</td>\n",
       "      <td>PL</td>\n",
       "      <td>Poznań</td>\n",
       "      <td>2018-01-18 19:17:31.229096</td>\n",
       "      <td>0</td>\n",
       "      <td>STANDARD</td>\n",
       "      <td>0.0</td>\n",
       "      <td>0.0</td>\n",
       "      <td>21</td>\n",
       "      <td>0</td>\n",
       "      <td>0</td>\n",
       "    </tr>\n",
       "    <tr>\n",
       "      <th>3</th>\n",
       "      <td>user_3</td>\n",
       "      <td>1994</td>\n",
       "      <td>FR</td>\n",
       "      <td>Paris</td>\n",
       "      <td>2018-01-15 18:47:56.723104</td>\n",
       "      <td>0</td>\n",
       "      <td>STANDARD</td>\n",
       "      <td>1.0</td>\n",
       "      <td>0.0</td>\n",
       "      <td>0</td>\n",
       "      <td>0</td>\n",
       "      <td>0</td>\n",
       "    </tr>\n",
       "    <tr>\n",
       "      <th>4</th>\n",
       "      <td>user_4</td>\n",
       "      <td>1985</td>\n",
       "      <td>GB</td>\n",
       "      <td>Beckenham</td>\n",
       "      <td>2018-01-11 00:36:46.673673</td>\n",
       "      <td>0</td>\n",
       "      <td>STANDARD</td>\n",
       "      <td>NaN</td>\n",
       "      <td>NaN</td>\n",
       "      <td>2</td>\n",
       "      <td>0</td>\n",
       "      <td>0</td>\n",
       "    </tr>\n",
       "  </tbody>\n",
       "</table>\n",
       "</div>"
      ],
      "text/plain": [
       "  user_id  birth_year country       city               created_date  \\\n",
       "0  user_0        1989      PL     Gdansk 2018-01-13 05:15:15.599466   \n",
       "1  user_1        1975      GB     London 2018-01-29 03:38:46.676876   \n",
       "2  user_2        1987      PL     Poznań 2018-01-18 19:17:31.229096   \n",
       "3  user_3        1994      FR      Paris 2018-01-15 18:47:56.723104   \n",
       "4  user_4        1985      GB  Beckenham 2018-01-11 00:36:46.673673   \n",
       "\n",
       "   user_settings_crypto_unlocked      plan  \\\n",
       "0                              1  STANDARD   \n",
       "1                              0  STANDARD   \n",
       "2                              0  STANDARD   \n",
       "3                              0  STANDARD   \n",
       "4                              0  STANDARD   \n",
       "\n",
       "   attributes_notifications_marketing_push  \\\n",
       "0                                      1.0   \n",
       "1                                      NaN   \n",
       "2                                      0.0   \n",
       "3                                      1.0   \n",
       "4                                      NaN   \n",
       "\n",
       "   attributes_notifications_marketing_email  num_contacts  num_referrals  \\\n",
       "0                                       1.0             3              0   \n",
       "1                                       NaN            21              0   \n",
       "2                                       0.0            21              0   \n",
       "3                                       0.0             0              0   \n",
       "4                                       NaN             2              0   \n",
       "\n",
       "   num_successful_referrals  \n",
       "0                         0  \n",
       "1                         0  \n",
       "2                         0  \n",
       "3                         0  \n",
       "4                         0  "
      ]
     },
     "execution_count": 4,
     "metadata": {},
     "output_type": "execute_result"
    }
   ],
   "source": [
    "data_user.head()"
   ]
  },
  {
   "cell_type": "code",
   "execution_count": 5,
   "metadata": {
    "scrolled": true
   },
   "outputs": [
    {
     "data": {
      "text/plain": [
       "(19430, 12)"
      ]
     },
     "execution_count": 5,
     "metadata": {},
     "output_type": "execute_result"
    }
   ],
   "source": [
    "data_user.shape"
   ]
  },
  {
   "cell_type": "code",
   "execution_count": 6,
   "metadata": {
    "scrolled": false
   },
   "outputs": [
    {
     "data": {
      "text/html": [
       "<div>\n",
       "<style scoped>\n",
       "    .dataframe tbody tr th:only-of-type {\n",
       "        vertical-align: middle;\n",
       "    }\n",
       "\n",
       "    .dataframe tbody tr th {\n",
       "        vertical-align: top;\n",
       "    }\n",
       "\n",
       "    .dataframe thead th {\n",
       "        text-align: right;\n",
       "    }\n",
       "</style>\n",
       "<table border=\"1\" class=\"dataframe\">\n",
       "  <thead>\n",
       "    <tr style=\"text-align: right;\">\n",
       "      <th></th>\n",
       "      <th>reason</th>\n",
       "      <th>channel</th>\n",
       "      <th>status</th>\n",
       "      <th>user_id</th>\n",
       "      <th>created_date</th>\n",
       "    </tr>\n",
       "  </thead>\n",
       "  <tbody>\n",
       "    <tr>\n",
       "      <th>0</th>\n",
       "      <td>REENGAGEMENT_ACTIVE_FUNDS</td>\n",
       "      <td>PUSH</td>\n",
       "      <td>SENT</td>\n",
       "      <td>user_7086</td>\n",
       "      <td>2018-12-02 17:58:33.320645</td>\n",
       "    </tr>\n",
       "    <tr>\n",
       "      <th>1</th>\n",
       "      <td>REENGAGEMENT_ACTIVE_FUNDS</td>\n",
       "      <td>PUSH</td>\n",
       "      <td>SENT</td>\n",
       "      <td>user_6598</td>\n",
       "      <td>2018-12-01 23:09:37.367127</td>\n",
       "    </tr>\n",
       "    <tr>\n",
       "      <th>2</th>\n",
       "      <td>REENGAGEMENT_ACTIVE_FUNDS</td>\n",
       "      <td>PUSH</td>\n",
       "      <td>SENT</td>\n",
       "      <td>user_4151</td>\n",
       "      <td>2018-12-04 02:57:56.425660</td>\n",
       "    </tr>\n",
       "    <tr>\n",
       "      <th>3</th>\n",
       "      <td>REENGAGEMENT_ACTIVE_FUNDS</td>\n",
       "      <td>PUSH</td>\n",
       "      <td>SENT</td>\n",
       "      <td>user_1408</td>\n",
       "      <td>2018-12-11 02:04:46.284683</td>\n",
       "    </tr>\n",
       "    <tr>\n",
       "      <th>4</th>\n",
       "      <td>REENGAGEMENT_ACTIVE_FUNDS</td>\n",
       "      <td>PUSH</td>\n",
       "      <td>SENT</td>\n",
       "      <td>user_6292</td>\n",
       "      <td>2018-12-14 17:09:58.900808</td>\n",
       "    </tr>\n",
       "  </tbody>\n",
       "</table>\n",
       "</div>"
      ],
      "text/plain": [
       "                      reason channel status    user_id  \\\n",
       "0  REENGAGEMENT_ACTIVE_FUNDS    PUSH   SENT  user_7086   \n",
       "1  REENGAGEMENT_ACTIVE_FUNDS    PUSH   SENT  user_6598   \n",
       "2  REENGAGEMENT_ACTIVE_FUNDS    PUSH   SENT  user_4151   \n",
       "3  REENGAGEMENT_ACTIVE_FUNDS    PUSH   SENT  user_1408   \n",
       "4  REENGAGEMENT_ACTIVE_FUNDS    PUSH   SENT  user_6292   \n",
       "\n",
       "                created_date  \n",
       "0 2018-12-02 17:58:33.320645  \n",
       "1 2018-12-01 23:09:37.367127  \n",
       "2 2018-12-04 02:57:56.425660  \n",
       "3 2018-12-11 02:04:46.284683  \n",
       "4 2018-12-14 17:09:58.900808  "
      ]
     },
     "execution_count": 6,
     "metadata": {},
     "output_type": "execute_result"
    }
   ],
   "source": [
    "data_notifications.head()"
   ]
  },
  {
   "cell_type": "code",
   "execution_count": 7,
   "metadata": {
    "scrolled": false
   },
   "outputs": [
    {
     "data": {
      "text/plain": [
       "(121813, 5)"
      ]
     },
     "execution_count": 7,
     "metadata": {},
     "output_type": "execute_result"
    }
   ],
   "source": [
    "data_notifications.shape"
   ]
  },
  {
   "cell_type": "code",
   "execution_count": 8,
   "metadata": {},
   "outputs": [
    {
     "data": {
      "text/html": [
       "<div>\n",
       "<style scoped>\n",
       "    .dataframe tbody tr th:only-of-type {\n",
       "        vertical-align: middle;\n",
       "    }\n",
       "\n",
       "    .dataframe tbody tr th {\n",
       "        vertical-align: top;\n",
       "    }\n",
       "\n",
       "    .dataframe thead th {\n",
       "        text-align: right;\n",
       "    }\n",
       "</style>\n",
       "<table border=\"1\" class=\"dataframe\">\n",
       "  <thead>\n",
       "    <tr style=\"text-align: right;\">\n",
       "      <th></th>\n",
       "      <th>transaction_id</th>\n",
       "      <th>transactions_type</th>\n",
       "      <th>transactions_currency</th>\n",
       "      <th>amount_usd</th>\n",
       "      <th>transactions_state</th>\n",
       "      <th>ea_cardholderpresence</th>\n",
       "      <th>ea_merchant_mcc</th>\n",
       "      <th>ea_merchant_city</th>\n",
       "      <th>ea_merchant_country</th>\n",
       "      <th>direction</th>\n",
       "      <th>user_id</th>\n",
       "      <th>created_date</th>\n",
       "    </tr>\n",
       "  </thead>\n",
       "  <tbody>\n",
       "    <tr>\n",
       "      <th>0</th>\n",
       "      <td>transaction_0</td>\n",
       "      <td>TRANSFER</td>\n",
       "      <td>AED</td>\n",
       "      <td>4.55</td>\n",
       "      <td>COMPLETED</td>\n",
       "      <td>None</td>\n",
       "      <td>NaN</td>\n",
       "      <td>None</td>\n",
       "      <td>None</td>\n",
       "      <td>OUTBOUND</td>\n",
       "      <td>user_898</td>\n",
       "      <td>2018-04-03 03:34:21.784487</td>\n",
       "    </tr>\n",
       "    <tr>\n",
       "      <th>1</th>\n",
       "      <td>transaction_1</td>\n",
       "      <td>CARD_PAYMENT</td>\n",
       "      <td>AED</td>\n",
       "      <td>15.50</td>\n",
       "      <td>COMPLETED</td>\n",
       "      <td>FALSE</td>\n",
       "      <td>4111.0</td>\n",
       "      <td>Dubai</td>\n",
       "      <td>ARE</td>\n",
       "      <td>OUTBOUND</td>\n",
       "      <td>user_1652</td>\n",
       "      <td>2019-03-19 06:15:59.537032</td>\n",
       "    </tr>\n",
       "    <tr>\n",
       "      <th>2</th>\n",
       "      <td>transaction_2</td>\n",
       "      <td>CARD_PAYMENT</td>\n",
       "      <td>AED</td>\n",
       "      <td>43.40</td>\n",
       "      <td>COMPLETED</td>\n",
       "      <td>FALSE</td>\n",
       "      <td>5814.0</td>\n",
       "      <td>Dubai</td>\n",
       "      <td>ARE</td>\n",
       "      <td>OUTBOUND</td>\n",
       "      <td>user_1652</td>\n",
       "      <td>2019-03-18 18:53:41.323032</td>\n",
       "    </tr>\n",
       "    <tr>\n",
       "      <th>3</th>\n",
       "      <td>transaction_3</td>\n",
       "      <td>TRANSFER</td>\n",
       "      <td>AED</td>\n",
       "      <td>10043.01</td>\n",
       "      <td>COMPLETED</td>\n",
       "      <td>None</td>\n",
       "      <td>NaN</td>\n",
       "      <td>None</td>\n",
       "      <td>None</td>\n",
       "      <td>OUTBOUND</td>\n",
       "      <td>user_1652</td>\n",
       "      <td>2019-03-22 14:20:01.513032</td>\n",
       "    </tr>\n",
       "    <tr>\n",
       "      <th>4</th>\n",
       "      <td>transaction_4</td>\n",
       "      <td>CARD_PAYMENT</td>\n",
       "      <td>AED</td>\n",
       "      <td>43.81</td>\n",
       "      <td>COMPLETED</td>\n",
       "      <td>FALSE</td>\n",
       "      <td>5651.0</td>\n",
       "      <td>Abu Dhabi</td>\n",
       "      <td>ARE</td>\n",
       "      <td>OUTBOUND</td>\n",
       "      <td>user_5509</td>\n",
       "      <td>2019-03-22 05:42:50.316652</td>\n",
       "    </tr>\n",
       "  </tbody>\n",
       "</table>\n",
       "</div>"
      ],
      "text/plain": [
       "  transaction_id transactions_type transactions_currency  amount_usd  \\\n",
       "0  transaction_0          TRANSFER                   AED        4.55   \n",
       "1  transaction_1      CARD_PAYMENT                   AED       15.50   \n",
       "2  transaction_2      CARD_PAYMENT                   AED       43.40   \n",
       "3  transaction_3          TRANSFER                   AED    10043.01   \n",
       "4  transaction_4      CARD_PAYMENT                   AED       43.81   \n",
       "\n",
       "  transactions_state ea_cardholderpresence  ea_merchant_mcc ea_merchant_city  \\\n",
       "0          COMPLETED                  None              NaN             None   \n",
       "1          COMPLETED                 FALSE           4111.0            Dubai   \n",
       "2          COMPLETED                 FALSE           5814.0            Dubai   \n",
       "3          COMPLETED                  None              NaN             None   \n",
       "4          COMPLETED                 FALSE           5651.0        Abu Dhabi   \n",
       "\n",
       "  ea_merchant_country direction    user_id               created_date  \n",
       "0                None  OUTBOUND   user_898 2018-04-03 03:34:21.784487  \n",
       "1                 ARE  OUTBOUND  user_1652 2019-03-19 06:15:59.537032  \n",
       "2                 ARE  OUTBOUND  user_1652 2019-03-18 18:53:41.323032  \n",
       "3                None  OUTBOUND  user_1652 2019-03-22 14:20:01.513032  \n",
       "4                 ARE  OUTBOUND  user_5509 2019-03-22 05:42:50.316652  "
      ]
     },
     "execution_count": 8,
     "metadata": {},
     "output_type": "execute_result"
    }
   ],
   "source": [
    "data_transactions.head()"
   ]
  },
  {
   "cell_type": "code",
   "execution_count": 9,
   "metadata": {},
   "outputs": [
    {
     "data": {
      "text/plain": [
       "(2740075, 12)"
      ]
     },
     "execution_count": 9,
     "metadata": {},
     "output_type": "execute_result"
    }
   ],
   "source": [
    "data_transactions.shape"
   ]
  },
  {
   "cell_type": "code",
   "execution_count": 10,
   "metadata": {},
   "outputs": [
    {
     "data": {
      "text/html": [
       "<div>\n",
       "<style scoped>\n",
       "    .dataframe tbody tr th:only-of-type {\n",
       "        vertical-align: middle;\n",
       "    }\n",
       "\n",
       "    .dataframe tbody tr th {\n",
       "        vertical-align: top;\n",
       "    }\n",
       "\n",
       "    .dataframe thead th {\n",
       "        text-align: right;\n",
       "    }\n",
       "</style>\n",
       "<table border=\"1\" class=\"dataframe\">\n",
       "  <thead>\n",
       "    <tr style=\"text-align: right;\">\n",
       "      <th></th>\n",
       "      <th>brand</th>\n",
       "      <th>user_id</th>\n",
       "    </tr>\n",
       "  </thead>\n",
       "  <tbody>\n",
       "    <tr>\n",
       "      <th>0</th>\n",
       "      <td>Android</td>\n",
       "      <td>user_3257</td>\n",
       "    </tr>\n",
       "    <tr>\n",
       "      <th>1</th>\n",
       "      <td>Apple</td>\n",
       "      <td>user_6809</td>\n",
       "    </tr>\n",
       "    <tr>\n",
       "      <th>2</th>\n",
       "      <td>Android</td>\n",
       "      <td>user_9144</td>\n",
       "    </tr>\n",
       "    <tr>\n",
       "      <th>3</th>\n",
       "      <td>Apple</td>\n",
       "      <td>user_3636</td>\n",
       "    </tr>\n",
       "    <tr>\n",
       "      <th>4</th>\n",
       "      <td>Android</td>\n",
       "      <td>user_5970</td>\n",
       "    </tr>\n",
       "  </tbody>\n",
       "</table>\n",
       "</div>"
      ],
      "text/plain": [
       "     brand    user_id\n",
       "0  Android  user_3257\n",
       "1    Apple  user_6809\n",
       "2  Android  user_9144\n",
       "3    Apple  user_3636\n",
       "4  Android  user_5970"
      ]
     },
     "execution_count": 10,
     "metadata": {},
     "output_type": "execute_result"
    }
   ],
   "source": [
    "data_devices.head()"
   ]
  },
  {
   "cell_type": "code",
   "execution_count": 11,
   "metadata": {},
   "outputs": [
    {
     "data": {
      "text/plain": [
       "(19430, 2)"
      ]
     },
     "execution_count": 11,
     "metadata": {},
     "output_type": "execute_result"
    }
   ],
   "source": [
    "data_devices.shape"
   ]
  },
  {
   "cell_type": "markdown",
   "metadata": {},
   "source": [
    "3) Check if there are missing values in the columns:"
   ]
  },
  {
   "cell_type": "code",
   "execution_count": 12,
   "metadata": {},
   "outputs": [],
   "source": [
    "# Check if there are missing values in the columns:\n",
    "def missing_value_checker(df):\n",
    "    for col in df.columns:\n",
    "        logging.info(col+': '+str(df[col].isnull().sum()/float(df.shape[0])))"
   ]
  },
  {
   "cell_type": "code",
   "execution_count": 13,
   "metadata": {
    "scrolled": true
   },
   "outputs": [
    {
     "name": "stderr",
     "output_type": "stream",
     "text": [
      "INFO:root:user_id: 0.0\n",
      "INFO:root:birth_year: 0.0\n",
      "INFO:root:country: 0.0\n",
      "INFO:root:city: 0.0\n",
      "INFO:root:created_date: 0.0\n",
      "INFO:root:user_settings_crypto_unlocked: 0.0\n",
      "INFO:root:plan: 0.0\n",
      "INFO:root:attributes_notifications_marketing_push: 0.3401955738548636\n",
      "INFO:root:attributes_notifications_marketing_email: 0.3401955738548636\n",
      "INFO:root:num_contacts: 0.0\n",
      "INFO:root:num_referrals: 0.0\n",
      "INFO:root:num_successful_referrals: 0.0\n"
     ]
    }
   ],
   "source": [
    "missing_value_checker(data_user)"
   ]
  },
  {
   "cell_type": "code",
   "execution_count": 14,
   "metadata": {},
   "outputs": [
    {
     "name": "stderr",
     "output_type": "stream",
     "text": [
      "INFO:root:reason: 0.0\n",
      "INFO:root:channel: 0.0\n",
      "INFO:root:status: 0.0\n",
      "INFO:root:user_id: 0.0\n",
      "INFO:root:created_date: 0.0\n"
     ]
    }
   ],
   "source": [
    "missing_value_checker(data_notifications)"
   ]
  },
  {
   "cell_type": "code",
   "execution_count": 15,
   "metadata": {},
   "outputs": [
    {
     "name": "stderr",
     "output_type": "stream",
     "text": [
      "INFO:root:transaction_id: 0.0\n",
      "INFO:root:transactions_type: 0.0\n",
      "INFO:root:transactions_currency: 0.0\n",
      "INFO:root:amount_usd: 0.0\n",
      "INFO:root:transactions_state: 0.0\n",
      "INFO:root:ea_cardholderpresence: 0.427212393821337\n",
      "INFO:root:ea_merchant_mcc: 0.4228563086776822\n",
      "INFO:root:ea_merchant_city: 0.4229059423555925\n",
      "INFO:root:ea_merchant_country: 0.422973458755691\n",
      "INFO:root:direction: 0.0\n",
      "INFO:root:user_id: 0.0\n",
      "INFO:root:created_date: 0.0\n"
     ]
    }
   ],
   "source": [
    "missing_value_checker(data_transactions)"
   ]
  },
  {
   "cell_type": "code",
   "execution_count": 16,
   "metadata": {},
   "outputs": [
    {
     "name": "stderr",
     "output_type": "stream",
     "text": [
      "INFO:root:brand: 0.0\n",
      "INFO:root:user_id: 0.0\n"
     ]
    }
   ],
   "source": [
    "missing_value_checker(data_devices)"
   ]
  },
  {
   "cell_type": "markdown",
   "metadata": {},
   "source": [
    "4) See how many unique values there are for each columns in users, notifications and devices:"
   ]
  },
  {
   "cell_type": "code",
   "execution_count": 17,
   "metadata": {},
   "outputs": [],
   "source": [
    "# See how many unique values there are for each columns, and if there is only one unique value, we drop the column\n",
    "def unique_value_printer(df):\n",
    "    cols_to_drop = []\n",
    "    for col in df.columns:\n",
    "        tmp_num_unique = len(df[col].unique())\n",
    "        logging.info(col+': '+str(tmp_num_unique))\n",
    "        if (tmp_num_unique==1):\n",
    "            cols_to_drop.append(col)\n",
    "    df.drop(cols_to_drop, 1, inplace=True)"
   ]
  },
  {
   "cell_type": "code",
   "execution_count": 18,
   "metadata": {},
   "outputs": [
    {
     "name": "stderr",
     "output_type": "stream",
     "text": [
      "INFO:root:user_id: 19430\n",
      "INFO:root:birth_year: 69\n",
      "INFO:root:country: 41\n",
      "INFO:root:city: 6049\n",
      "INFO:root:created_date: 19430\n",
      "INFO:root:user_settings_crypto_unlocked: 2\n",
      "INFO:root:plan: 6\n",
      "INFO:root:attributes_notifications_marketing_push: 3\n",
      "INFO:root:attributes_notifications_marketing_email: 3\n",
      "INFO:root:num_contacts: 302\n",
      "INFO:root:num_referrals: 1\n",
      "INFO:root:num_successful_referrals: 1\n"
     ]
    }
   ],
   "source": [
    "unique_value_printer(data_user)"
   ]
  },
  {
   "cell_type": "markdown",
   "metadata": {},
   "source": [
    "num_referrals and num_successful_referrals have each only one unique value in the columns. Therefore we drop them."
   ]
  },
  {
   "cell_type": "code",
   "execution_count": 19,
   "metadata": {},
   "outputs": [
    {
     "name": "stderr",
     "output_type": "stream",
     "text": [
      "INFO:root:reason: 17\n",
      "INFO:root:channel: 3\n",
      "INFO:root:status: 2\n",
      "INFO:root:user_id: 18953\n",
      "INFO:root:created_date: 121810\n"
     ]
    }
   ],
   "source": [
    "unique_value_printer(data_notifications)"
   ]
  },
  {
   "cell_type": "code",
   "execution_count": 20,
   "metadata": {},
   "outputs": [
    {
     "name": "stderr",
     "output_type": "stream",
     "text": [
      "INFO:root:transaction_id: 2740075\n",
      "INFO:root:transactions_type: 10\n",
      "INFO:root:transactions_currency: 35\n",
      "INFO:root:amount_usd: 48548\n",
      "INFO:root:transactions_state: 6\n",
      "INFO:root:ea_cardholderpresence: 4\n",
      "INFO:root:ea_merchant_mcc: 665\n",
      "INFO:root:ea_merchant_city: 63254\n",
      "INFO:root:ea_merchant_country: 199\n",
      "INFO:root:direction: 2\n",
      "INFO:root:user_id: 18766\n",
      "INFO:root:created_date: 2739658\n"
     ]
    }
   ],
   "source": [
    "unique_value_printer(data_transactions)"
   ]
  },
  {
   "cell_type": "code",
   "execution_count": 21,
   "metadata": {},
   "outputs": [
    {
     "name": "stderr",
     "output_type": "stream",
     "text": [
      "INFO:root:brand: 3\n",
      "INFO:root:user_id: 19430\n"
     ]
    }
   ],
   "source": [
    "unique_value_printer(data_devices)"
   ]
  },
  {
   "cell_type": "markdown",
   "metadata": {},
   "source": [
    "5) Summarize the user, transsactions and notifications dataframe"
   ]
  },
  {
   "cell_type": "code",
   "execution_count": 22,
   "metadata": {
    "scrolled": true
   },
   "outputs": [
    {
     "data": {
      "text/html": [
       "<div>\n",
       "<style scoped>\n",
       "    .dataframe tbody tr th:only-of-type {\n",
       "        vertical-align: middle;\n",
       "    }\n",
       "\n",
       "    .dataframe tbody tr th {\n",
       "        vertical-align: top;\n",
       "    }\n",
       "\n",
       "    .dataframe thead th {\n",
       "        text-align: right;\n",
       "    }\n",
       "</style>\n",
       "<table border=\"1\" class=\"dataframe\">\n",
       "  <thead>\n",
       "    <tr style=\"text-align: right;\">\n",
       "      <th></th>\n",
       "      <th>birth_year</th>\n",
       "      <th>user_settings_crypto_unlocked</th>\n",
       "      <th>attributes_notifications_marketing_push</th>\n",
       "      <th>attributes_notifications_marketing_email</th>\n",
       "      <th>num_contacts</th>\n",
       "    </tr>\n",
       "  </thead>\n",
       "  <tbody>\n",
       "    <tr>\n",
       "      <th>count</th>\n",
       "      <td>19430.000000</td>\n",
       "      <td>19430.000000</td>\n",
       "      <td>12820.000000</td>\n",
       "      <td>12820.000000</td>\n",
       "      <td>19430.000000</td>\n",
       "    </tr>\n",
       "    <tr>\n",
       "      <th>mean</th>\n",
       "      <td>1983.648636</td>\n",
       "      <td>0.181009</td>\n",
       "      <td>0.947582</td>\n",
       "      <td>0.895944</td>\n",
       "      <td>17.887699</td>\n",
       "    </tr>\n",
       "    <tr>\n",
       "      <th>std</th>\n",
       "      <td>11.368871</td>\n",
       "      <td>0.385035</td>\n",
       "      <td>0.222877</td>\n",
       "      <td>0.305345</td>\n",
       "      <td>46.506438</td>\n",
       "    </tr>\n",
       "    <tr>\n",
       "      <th>min</th>\n",
       "      <td>1929.000000</td>\n",
       "      <td>0.000000</td>\n",
       "      <td>0.000000</td>\n",
       "      <td>0.000000</td>\n",
       "      <td>0.000000</td>\n",
       "    </tr>\n",
       "    <tr>\n",
       "      <th>10%</th>\n",
       "      <td>1967.000000</td>\n",
       "      <td>0.000000</td>\n",
       "      <td>1.000000</td>\n",
       "      <td>0.000000</td>\n",
       "      <td>0.000000</td>\n",
       "    </tr>\n",
       "    <tr>\n",
       "      <th>20%</th>\n",
       "      <td>1975.000000</td>\n",
       "      <td>0.000000</td>\n",
       "      <td>1.000000</td>\n",
       "      <td>1.000000</td>\n",
       "      <td>0.000000</td>\n",
       "    </tr>\n",
       "    <tr>\n",
       "      <th>30%</th>\n",
       "      <td>1980.000000</td>\n",
       "      <td>0.000000</td>\n",
       "      <td>1.000000</td>\n",
       "      <td>1.000000</td>\n",
       "      <td>0.000000</td>\n",
       "    </tr>\n",
       "    <tr>\n",
       "      <th>50%</th>\n",
       "      <td>1986.000000</td>\n",
       "      <td>0.000000</td>\n",
       "      <td>1.000000</td>\n",
       "      <td>1.000000</td>\n",
       "      <td>5.000000</td>\n",
       "    </tr>\n",
       "    <tr>\n",
       "      <th>60%</th>\n",
       "      <td>1989.000000</td>\n",
       "      <td>0.000000</td>\n",
       "      <td>1.000000</td>\n",
       "      <td>1.000000</td>\n",
       "      <td>9.000000</td>\n",
       "    </tr>\n",
       "    <tr>\n",
       "      <th>70%</th>\n",
       "      <td>1991.000000</td>\n",
       "      <td>0.000000</td>\n",
       "      <td>1.000000</td>\n",
       "      <td>1.000000</td>\n",
       "      <td>15.000000</td>\n",
       "    </tr>\n",
       "    <tr>\n",
       "      <th>80%</th>\n",
       "      <td>1993.000000</td>\n",
       "      <td>0.000000</td>\n",
       "      <td>1.000000</td>\n",
       "      <td>1.000000</td>\n",
       "      <td>25.000000</td>\n",
       "    </tr>\n",
       "    <tr>\n",
       "      <th>90%</th>\n",
       "      <td>1996.000000</td>\n",
       "      <td>1.000000</td>\n",
       "      <td>1.000000</td>\n",
       "      <td>1.000000</td>\n",
       "      <td>47.000000</td>\n",
       "    </tr>\n",
       "    <tr>\n",
       "      <th>95%</th>\n",
       "      <td>1998.000000</td>\n",
       "      <td>1.000000</td>\n",
       "      <td>1.000000</td>\n",
       "      <td>1.000000</td>\n",
       "      <td>76.550000</td>\n",
       "    </tr>\n",
       "    <tr>\n",
       "      <th>98%</th>\n",
       "      <td>1999.000000</td>\n",
       "      <td>1.000000</td>\n",
       "      <td>1.000000</td>\n",
       "      <td>1.000000</td>\n",
       "      <td>125.000000</td>\n",
       "    </tr>\n",
       "    <tr>\n",
       "      <th>99%</th>\n",
       "      <td>2000.000000</td>\n",
       "      <td>1.000000</td>\n",
       "      <td>1.000000</td>\n",
       "      <td>1.000000</td>\n",
       "      <td>173.000000</td>\n",
       "    </tr>\n",
       "    <tr>\n",
       "      <th>99.9%</th>\n",
       "      <td>2000.000000</td>\n",
       "      <td>1.000000</td>\n",
       "      <td>1.000000</td>\n",
       "      <td>1.000000</td>\n",
       "      <td>472.000000</td>\n",
       "    </tr>\n",
       "    <tr>\n",
       "      <th>max</th>\n",
       "      <td>2001.000000</td>\n",
       "      <td>1.000000</td>\n",
       "      <td>1.000000</td>\n",
       "      <td>1.000000</td>\n",
       "      <td>2918.000000</td>\n",
       "    </tr>\n",
       "  </tbody>\n",
       "</table>\n",
       "</div>"
      ],
      "text/plain": [
       "         birth_year  user_settings_crypto_unlocked  \\\n",
       "count  19430.000000                   19430.000000   \n",
       "mean    1983.648636                       0.181009   \n",
       "std       11.368871                       0.385035   \n",
       "min     1929.000000                       0.000000   \n",
       "10%     1967.000000                       0.000000   \n",
       "20%     1975.000000                       0.000000   \n",
       "30%     1980.000000                       0.000000   \n",
       "50%     1986.000000                       0.000000   \n",
       "60%     1989.000000                       0.000000   \n",
       "70%     1991.000000                       0.000000   \n",
       "80%     1993.000000                       0.000000   \n",
       "90%     1996.000000                       1.000000   \n",
       "95%     1998.000000                       1.000000   \n",
       "98%     1999.000000                       1.000000   \n",
       "99%     2000.000000                       1.000000   \n",
       "99.9%   2000.000000                       1.000000   \n",
       "max     2001.000000                       1.000000   \n",
       "\n",
       "       attributes_notifications_marketing_push  \\\n",
       "count                             12820.000000   \n",
       "mean                                  0.947582   \n",
       "std                                   0.222877   \n",
       "min                                   0.000000   \n",
       "10%                                   1.000000   \n",
       "20%                                   1.000000   \n",
       "30%                                   1.000000   \n",
       "50%                                   1.000000   \n",
       "60%                                   1.000000   \n",
       "70%                                   1.000000   \n",
       "80%                                   1.000000   \n",
       "90%                                   1.000000   \n",
       "95%                                   1.000000   \n",
       "98%                                   1.000000   \n",
       "99%                                   1.000000   \n",
       "99.9%                                 1.000000   \n",
       "max                                   1.000000   \n",
       "\n",
       "       attributes_notifications_marketing_email  num_contacts  \n",
       "count                              12820.000000  19430.000000  \n",
       "mean                                   0.895944     17.887699  \n",
       "std                                    0.305345     46.506438  \n",
       "min                                    0.000000      0.000000  \n",
       "10%                                    0.000000      0.000000  \n",
       "20%                                    1.000000      0.000000  \n",
       "30%                                    1.000000      0.000000  \n",
       "50%                                    1.000000      5.000000  \n",
       "60%                                    1.000000      9.000000  \n",
       "70%                                    1.000000     15.000000  \n",
       "80%                                    1.000000     25.000000  \n",
       "90%                                    1.000000     47.000000  \n",
       "95%                                    1.000000     76.550000  \n",
       "98%                                    1.000000    125.000000  \n",
       "99%                                    1.000000    173.000000  \n",
       "99.9%                                  1.000000    472.000000  \n",
       "max                                    1.000000   2918.000000  "
      ]
     },
     "execution_count": 22,
     "metadata": {},
     "output_type": "execute_result"
    }
   ],
   "source": [
    "data_user.describe([.1,.2,.3,.6,.7,.8,.9,.95,.98,.99,.999])"
   ]
  },
  {
   "cell_type": "code",
   "execution_count": 23,
   "metadata": {
    "scrolled": true
   },
   "outputs": [
    {
     "data": {
      "text/html": [
       "<div>\n",
       "<style scoped>\n",
       "    .dataframe tbody tr th:only-of-type {\n",
       "        vertical-align: middle;\n",
       "    }\n",
       "\n",
       "    .dataframe tbody tr th {\n",
       "        vertical-align: top;\n",
       "    }\n",
       "\n",
       "    .dataframe thead th {\n",
       "        text-align: right;\n",
       "    }\n",
       "</style>\n",
       "<table border=\"1\" class=\"dataframe\">\n",
       "  <thead>\n",
       "    <tr style=\"text-align: right;\">\n",
       "      <th></th>\n",
       "      <th>amount_usd</th>\n",
       "      <th>ea_merchant_mcc</th>\n",
       "    </tr>\n",
       "  </thead>\n",
       "  <tbody>\n",
       "    <tr>\n",
       "      <th>count</th>\n",
       "      <td>2.740075e+06</td>\n",
       "      <td>1.581417e+06</td>\n",
       "    </tr>\n",
       "    <tr>\n",
       "      <th>mean</th>\n",
       "      <td>1.703225e+05</td>\n",
       "      <td>5.699736e+03</td>\n",
       "    </tr>\n",
       "    <tr>\n",
       "      <th>std</th>\n",
       "      <td>9.634014e+07</td>\n",
       "      <td>9.493660e+02</td>\n",
       "    </tr>\n",
       "    <tr>\n",
       "      <th>min</th>\n",
       "      <td>0.000000e+00</td>\n",
       "      <td>7.420000e+02</td>\n",
       "    </tr>\n",
       "    <tr>\n",
       "      <th>10%</th>\n",
       "      <td>4.800000e-01</td>\n",
       "      <td>4.121000e+03</td>\n",
       "    </tr>\n",
       "    <tr>\n",
       "      <th>20%</th>\n",
       "      <td>1.340000e+00</td>\n",
       "      <td>5.411000e+03</td>\n",
       "    </tr>\n",
       "    <tr>\n",
       "      <th>30%</th>\n",
       "      <td>3.000000e+00</td>\n",
       "      <td>5.411000e+03</td>\n",
       "    </tr>\n",
       "    <tr>\n",
       "      <th>50%</th>\n",
       "      <td>8.510000e+00</td>\n",
       "      <td>5.812000e+03</td>\n",
       "    </tr>\n",
       "    <tr>\n",
       "      <th>60%</th>\n",
       "      <td>1.248000e+01</td>\n",
       "      <td>5.812000e+03</td>\n",
       "    </tr>\n",
       "    <tr>\n",
       "      <th>70%</th>\n",
       "      <td>2.000000e+01</td>\n",
       "      <td>5.814000e+03</td>\n",
       "    </tr>\n",
       "    <tr>\n",
       "      <th>80%</th>\n",
       "      <td>4.093000e+01</td>\n",
       "      <td>5.977000e+03</td>\n",
       "    </tr>\n",
       "    <tr>\n",
       "      <th>90%</th>\n",
       "      <td>1.000000e+02</td>\n",
       "      <td>7.011000e+03</td>\n",
       "    </tr>\n",
       "    <tr>\n",
       "      <th>95%</th>\n",
       "      <td>2.000000e+02</td>\n",
       "      <td>7.832000e+03</td>\n",
       "    </tr>\n",
       "    <tr>\n",
       "      <th>98%</th>\n",
       "      <td>4.554300e+02</td>\n",
       "      <td>7.999000e+03</td>\n",
       "    </tr>\n",
       "    <tr>\n",
       "      <th>99%</th>\n",
       "      <td>8.510600e+02</td>\n",
       "      <td>8.661000e+03</td>\n",
       "    </tr>\n",
       "    <tr>\n",
       "      <th>99.9%</th>\n",
       "      <td>5.000000e+03</td>\n",
       "      <td>9.402000e+03</td>\n",
       "    </tr>\n",
       "    <tr>\n",
       "      <th>max</th>\n",
       "      <td>8.510645e+10</td>\n",
       "      <td>9.406000e+03</td>\n",
       "    </tr>\n",
       "  </tbody>\n",
       "</table>\n",
       "</div>"
      ],
      "text/plain": [
       "         amount_usd  ea_merchant_mcc\n",
       "count  2.740075e+06     1.581417e+06\n",
       "mean   1.703225e+05     5.699736e+03\n",
       "std    9.634014e+07     9.493660e+02\n",
       "min    0.000000e+00     7.420000e+02\n",
       "10%    4.800000e-01     4.121000e+03\n",
       "20%    1.340000e+00     5.411000e+03\n",
       "30%    3.000000e+00     5.411000e+03\n",
       "50%    8.510000e+00     5.812000e+03\n",
       "60%    1.248000e+01     5.812000e+03\n",
       "70%    2.000000e+01     5.814000e+03\n",
       "80%    4.093000e+01     5.977000e+03\n",
       "90%    1.000000e+02     7.011000e+03\n",
       "95%    2.000000e+02     7.832000e+03\n",
       "98%    4.554300e+02     7.999000e+03\n",
       "99%    8.510600e+02     8.661000e+03\n",
       "99.9%  5.000000e+03     9.402000e+03\n",
       "max    8.510645e+10     9.406000e+03"
      ]
     },
     "execution_count": 23,
     "metadata": {},
     "output_type": "execute_result"
    }
   ],
   "source": [
    "data_transactions.describe([.1,.2,.3,.6,.7,.8,.9,.95,.98,.99,.999])"
   ]
  },
  {
   "cell_type": "code",
   "execution_count": 24,
   "metadata": {
    "scrolled": true
   },
   "outputs": [
    {
     "data": {
      "text/html": [
       "<div>\n",
       "<style scoped>\n",
       "    .dataframe tbody tr th:only-of-type {\n",
       "        vertical-align: middle;\n",
       "    }\n",
       "\n",
       "    .dataframe tbody tr th {\n",
       "        vertical-align: top;\n",
       "    }\n",
       "\n",
       "    .dataframe thead th {\n",
       "        text-align: right;\n",
       "    }\n",
       "</style>\n",
       "<table border=\"1\" class=\"dataframe\">\n",
       "  <thead>\n",
       "    <tr style=\"text-align: right;\">\n",
       "      <th></th>\n",
       "      <th>reason</th>\n",
       "      <th>channel</th>\n",
       "      <th>status</th>\n",
       "      <th>user_id</th>\n",
       "      <th>created_date</th>\n",
       "    </tr>\n",
       "  </thead>\n",
       "  <tbody>\n",
       "    <tr>\n",
       "      <th>count</th>\n",
       "      <td>121813</td>\n",
       "      <td>121813</td>\n",
       "      <td>121813</td>\n",
       "      <td>121813</td>\n",
       "      <td>121813</td>\n",
       "    </tr>\n",
       "    <tr>\n",
       "      <th>unique</th>\n",
       "      <td>17</td>\n",
       "      <td>3</td>\n",
       "      <td>2</td>\n",
       "      <td>18953</td>\n",
       "      <td>121810</td>\n",
       "    </tr>\n",
       "    <tr>\n",
       "      <th>top</th>\n",
       "      <td>REENGAGEMENT_ACTIVE_FUNDS</td>\n",
       "      <td>EMAIL</td>\n",
       "      <td>SENT</td>\n",
       "      <td>user_5133</td>\n",
       "      <td>2018-07-15 16:27:12.192706</td>\n",
       "    </tr>\n",
       "    <tr>\n",
       "      <th>freq</th>\n",
       "      <td>35844</td>\n",
       "      <td>61253</td>\n",
       "      <td>89477</td>\n",
       "      <td>289</td>\n",
       "      <td>2</td>\n",
       "    </tr>\n",
       "    <tr>\n",
       "      <th>first</th>\n",
       "      <td>NaN</td>\n",
       "      <td>NaN</td>\n",
       "      <td>NaN</td>\n",
       "      <td>NaN</td>\n",
       "      <td>2018-01-10 12:09:55.050139</td>\n",
       "    </tr>\n",
       "    <tr>\n",
       "      <th>last</th>\n",
       "      <td>NaN</td>\n",
       "      <td>NaN</td>\n",
       "      <td>NaN</td>\n",
       "      <td>NaN</td>\n",
       "      <td>2019-05-12 17:12:14.132130</td>\n",
       "    </tr>\n",
       "  </tbody>\n",
       "</table>\n",
       "</div>"
      ],
      "text/plain": [
       "                           reason channel  status    user_id  \\\n",
       "count                      121813  121813  121813     121813   \n",
       "unique                         17       3       2      18953   \n",
       "top     REENGAGEMENT_ACTIVE_FUNDS   EMAIL    SENT  user_5133   \n",
       "freq                        35844   61253   89477        289   \n",
       "first                         NaN     NaN     NaN        NaN   \n",
       "last                          NaN     NaN     NaN        NaN   \n",
       "\n",
       "                      created_date  \n",
       "count                       121813  \n",
       "unique                      121810  \n",
       "top     2018-07-15 16:27:12.192706  \n",
       "freq                             2  \n",
       "first   2018-01-10 12:09:55.050139  \n",
       "last    2019-05-12 17:12:14.132130  "
      ]
     },
     "execution_count": 24,
     "metadata": {},
     "output_type": "execute_result"
    }
   ],
   "source": [
    "data_notifications.describe([.1,.2,.3,.6,.7,.8,.9,.95,.98,.99,.999])"
   ]
  },
  {
   "cell_type": "markdown",
   "metadata": {
    "scrolled": true
   },
   "source": [
    "6) Let us take a closer look at some important features:"
   ]
  },
  {
   "cell_type": "code",
   "execution_count": 25,
   "metadata": {
    "scrolled": false
   },
   "outputs": [
    {
     "data": {
      "text/plain": [
       "Text(0.5, 1.0, 'Birthyear Distribution')"
      ]
     },
     "execution_count": 25,
     "metadata": {},
     "output_type": "execute_result"
    },
    {
     "data": {
      "image/png": "[encoded data removed]",
      "text/plain": [
       "<Figure size 1080x720 with 1 Axes>"
      ]
     },
     "metadata": {
      "needs_background": "light"
     },
     "output_type": "display_data"
    }
   ],
   "source": [
    "# plot the histogram for Birthyear\n",
    "fig = plt.figure(figsize=(15,10))\n",
    "ax = fig.add_subplot(111)\n",
    "\n",
    "sns.distplot(data_user['birth_year']).set_title('Birthyear Distribution')"
   ]
  },
  {
   "cell_type": "code",
   "execution_count": 26,
   "metadata": {
    "scrolled": false
   },
   "outputs": [
    {
     "name": "stderr",
     "output_type": "stream",
     "text": [
      "INFO:root:Read users into Dataframe\n"
     ]
    },
    {
     "data": {
      "text/plain": [
       "[Text(0, 0, 'United Kingdom'),\n",
       " Text(0, 0, 'Poland'),\n",
       " Text(0, 0, 'France'),\n",
       " Text(0, 0, 'Ireland'),\n",
       " Text(0, 0, 'Romania'),\n",
       " Text(0, 0, 'Spain'),\n",
       " Text(0, 0, 'Lithuania'),\n",
       " Text(0, 0, 'Portugal'),\n",
       " Text(0, 0, 'Malta'),\n",
       " Text(0, 0, 'Germany')]"
      ]
     },
     "execution_count": 26,
     "metadata": {},
     "output_type": "execute_result"
    },
    {
     "data": {
      "image/png": "[encoded data removed]",
      "text/plain": [
       "<Figure size 1440x1440 with 1 Axes>"
      ]
     },
     "metadata": {
      "needs_background": "light"
     },
     "output_type": "display_data"
    }
   ],
   "source": [
    "# gather user per country data\n",
    "logging.info(\"Read users into Dataframe\")\n",
    "data_user_groupby_country = pd.read_sql('SELECT count(user_id), country FROM users group by country', conn)\n",
    "\n",
    "# integrate iso a2 code data so that full country names will be shown as x labels\n",
    "data_iso_codes = pd.read_csv('../data/data_isoa2.csv')\n",
    "data_iso_codes.columns = ['Country', 'Code']\n",
    "\n",
    "data_user_groupby_country = data_user_groupby_country.merge(data_iso_codes,left_on='country',right_on='Code')\n",
    "\n",
    "data_user_groupby_country.sort_values(by=['count'], ascending=False, inplace=True)\n",
    "# here we will only take top 10 countries for ease of visualization\n",
    "data_user_groupby_country = data_user_groupby_country.head(10)\n",
    "\n",
    "# plot the number of users for each country\n",
    "fig, axis = plt.subplots(1,1,figsize=(20,20))\n",
    "\n",
    "sns.barplot(x='Country', y='count', data=data_user_groupby_country, order=data_user_groupby_country['Country'].unique(), ax=axis)\n",
    "axis.set_xticks(range(len(data_user_groupby_country['Country'].unique())))\n",
    "axis.set_title('User Count per Country')\n",
    "axis.set_xticklabels(data_user_groupby_country['Country'].unique(), rotation=90)"
   ]
  },
  {
   "cell_type": "code",
   "execution_count": 27,
   "metadata": {},
   "outputs": [
    {
     "name": "stderr",
     "output_type": "stream",
     "text": [
      "INFO:root:Read users into Dataframe\n"
     ]
    }
   ],
   "source": [
    "# gather user per plan data\n",
    "logging.info(\"Read users into Dataframe\")\n",
    "data_user_groupby_plan = pd.read_sql('SELECT count(user_id), plan FROM users group by plan', conn)"
   ]
  },
  {
   "cell_type": "code",
   "execution_count": 28,
   "metadata": {},
   "outputs": [
    {
     "data": {
      "text/html": [
       "<div>\n",
       "<style scoped>\n",
       "    .dataframe tbody tr th:only-of-type {\n",
       "        vertical-align: middle;\n",
       "    }\n",
       "\n",
       "    .dataframe tbody tr th {\n",
       "        vertical-align: top;\n",
       "    }\n",
       "\n",
       "    .dataframe thead th {\n",
       "        text-align: right;\n",
       "    }\n",
       "</style>\n",
       "<table border=\"1\" class=\"dataframe\">\n",
       "  <thead>\n",
       "    <tr style=\"text-align: right;\">\n",
       "      <th></th>\n",
       "      <th>count</th>\n",
       "      <th>plan</th>\n",
       "    </tr>\n",
       "  </thead>\n",
       "  <tbody>\n",
       "    <tr>\n",
       "      <th>0</th>\n",
       "      <td>25</td>\n",
       "      <td>PREMIUM_OFFER</td>\n",
       "    </tr>\n",
       "    <tr>\n",
       "      <th>1</th>\n",
       "      <td>507</td>\n",
       "      <td>METAL</td>\n",
       "    </tr>\n",
       "    <tr>\n",
       "      <th>2</th>\n",
       "      <td>17992</td>\n",
       "      <td>STANDARD</td>\n",
       "    </tr>\n",
       "    <tr>\n",
       "      <th>3</th>\n",
       "      <td>37</td>\n",
       "      <td>METAL_FREE</td>\n",
       "    </tr>\n",
       "    <tr>\n",
       "      <th>4</th>\n",
       "      <td>4</td>\n",
       "      <td>PREMIUM_FREE</td>\n",
       "    </tr>\n",
       "    <tr>\n",
       "      <th>5</th>\n",
       "      <td>865</td>\n",
       "      <td>PREMIUM</td>\n",
       "    </tr>\n",
       "  </tbody>\n",
       "</table>\n",
       "</div>"
      ],
      "text/plain": [
       "   count           plan\n",
       "0     25  PREMIUM_OFFER\n",
       "1    507          METAL\n",
       "2  17992       STANDARD\n",
       "3     37     METAL_FREE\n",
       "4      4   PREMIUM_FREE\n",
       "5    865        PREMIUM"
      ]
     },
     "execution_count": 28,
     "metadata": {},
     "output_type": "execute_result"
    }
   ],
   "source": [
    "data_user_groupby_plan"
   ]
  },
  {
   "cell_type": "markdown",
   "metadata": {},
   "source": [
    "Due to the nature of the distribution, we will use log scale for visualization"
   ]
  },
  {
   "cell_type": "code",
   "execution_count": 29,
   "metadata": {},
   "outputs": [
    {
     "data": {
      "text/plain": [
       "[Text(0, 0, 'STANDARD'),\n",
       " Text(0, 0, 'PREMIUM'),\n",
       " Text(0, 0, 'METAL'),\n",
       " Text(0, 0, 'METAL_FREE'),\n",
       " Text(0, 0, 'PREMIUM_OFFER'),\n",
       " Text(0, 0, 'PREMIUM_FREE')]"
      ]
     },
     "execution_count": 29,
     "metadata": {},
     "output_type": "execute_result"
    },
    {
     "data": {
      "image/png": "[encoded data removed]",
      "text/plain": [
       "<Figure size 1080x288 with 1 Axes>"
      ]
     },
     "metadata": {
      "needs_background": "light"
     },
     "output_type": "display_data"
    }
   ],
   "source": [
    "data_user_groupby_plan.sort_values(by=['count'], ascending=False, inplace=True)\n",
    "\n",
    "# plot the number of users for each country\n",
    "fig, axis = plt.subplots(1,1,figsize=(15,4))\n",
    "\n",
    "sns.barplot(x='plan', y='count', data=data_user_groupby_plan, order=data_user_groupby_plan['plan'].unique(), ax=axis).set_yscale('log')\n",
    "axis.set_xticks(range(len(data_user_groupby_plan['plan'].unique())))\n",
    "axis.set_title('User Count per Plan (Log Scale)')\n",
    "axis.set_xticklabels(data_user_groupby_plan['plan'].unique(), rotation=90)"
   ]
  },
  {
   "cell_type": "code",
   "execution_count": 30,
   "metadata": {
    "scrolled": false
   },
   "outputs": [
    {
     "data": {
      "text/plain": [
       "Text(0.5, 1.0, 'Number of Contacts Distribution')"
      ]
     },
     "execution_count": 30,
     "metadata": {},
     "output_type": "execute_result"
    },
    {
     "data": {
      "image/png": "[encoded data removed]",
      "text/plain": [
       "<Figure size 1080x720 with 1 Axes>"
      ]
     },
     "metadata": {
      "needs_background": "light"
     },
     "output_type": "display_data"
    }
   ],
   "source": [
    "# plot the histogram for num_contacts\n",
    "fig = plt.figure(figsize=(15,10))\n",
    "ax = fig.add_subplot(111)\n",
    "\n",
    "sns.distplot(data_user['num_contacts']).set_title('Number of Contacts Distribution')"
   ]
  },
  {
   "cell_type": "code",
   "execution_count": 31,
   "metadata": {
    "scrolled": false
   },
   "outputs": [
    {
     "name": "stderr",
     "output_type": "stream",
     "text": [
      "INFO:root:Read transactions into Dataframe\n"
     ]
    },
    {
     "data": {
      "text/plain": [
       "[Text(0, 0, 'COMPLETED'),\n",
       " Text(0, 0, 'DECLINED'),\n",
       " Text(0, 0, 'REVERTED'),\n",
       " Text(0, 0, 'FAILED'),\n",
       " Text(0, 0, 'PENDING'),\n",
       " Text(0, 0, 'CANCELLED')]"
      ]
     },
     "execution_count": 31,
     "metadata": {},
     "output_type": "execute_result"
    },
    {
     "data": {
      "image/png": "[encoded data removed]",
      "text/plain": [
       "<Figure size 1440x1440 with 1 Axes>"
      ]
     },
     "metadata": {
      "needs_background": "light"
     },
     "output_type": "display_data"
    }
   ],
   "source": [
    "# gather transactions per state data\n",
    "logging.info(\"Read transactions into Dataframe\")\n",
    "data_transactions_groupby_state = pd.read_sql('SELECT count(transaction_id), transactions_state FROM transactions group by transactions_state', conn)\n",
    "\n",
    "data_transactions_groupby_state.sort_values(by=['count'], ascending=False, inplace=True)\n",
    "# plot the number of transactions for each state\n",
    "fig, axis = plt.subplots(1,1,figsize=(20,20))\n",
    "\n",
    "sns.barplot(x='transactions_state', y='count', data=data_transactions_groupby_state, order=data_transactions_groupby_state['transactions_state'].unique(), ax=axis).set_yscale('log')\n",
    "axis.set_xticks(range(len(data_transactions_groupby_state['transactions_state'].unique())))\n",
    "axis.set_title('Transaction Count per State (Log Scale)')\n",
    "axis.set_xticklabels(data_transactions_groupby_state['transactions_state'].unique(), rotation=90)"
   ]
  },
  {
   "cell_type": "code",
   "execution_count": 32,
   "metadata": {
    "scrolled": false
   },
   "outputs": [
    {
     "name": "stderr",
     "output_type": "stream",
     "text": [
      "INFO:root:Read transactions into Dataframe\n"
     ]
    },
    {
     "data": {
      "text/plain": [
       "[Text(0, 0, 'CARD_PAYMENT'),\n",
       " Text(0, 0, 'TRANSFER'),\n",
       " Text(0, 0, 'TOPUP'),\n",
       " Text(0, 0, 'EXCHANGE'),\n",
       " Text(0, 0, 'ATM'),\n",
       " Text(0, 0, 'CASHBACK'),\n",
       " Text(0, 0, 'FEE'),\n",
       " Text(0, 0, 'CARD_REFUND'),\n",
       " Text(0, 0, 'TAX'),\n",
       " Text(0, 0, 'REFUND')]"
      ]
     },
     "execution_count": 32,
     "metadata": {},
     "output_type": "execute_result"
    },
    {
     "data": {
      "image/png": "[encoded data removed]",
      "text/plain": [
       "<Figure size 1440x1080 with 1 Axes>"
      ]
     },
     "metadata": {
      "needs_background": "light"
     },
     "output_type": "display_data"
    }
   ],
   "source": [
    "# gather transactions per type data\n",
    "logging.info(\"Read transactions into Dataframe\")\n",
    "data_transactions_groupby_type = pd.read_sql('SELECT count(transaction_id), transactions_type FROM transactions group by transactions_type', conn)\n",
    "\n",
    "data_transactions_groupby_type.sort_values(by=['count'], ascending=False, inplace=True)\n",
    "# plot the number of transactions for each state\n",
    "fig, axis = plt.subplots(1,1,figsize=(20,15))\n",
    "\n",
    "sns.barplot(x='transactions_type', y='count', data=data_transactions_groupby_type, order=data_transactions_groupby_type['transactions_type'].unique(), ax=axis).set_yscale('log')\n",
    "axis.set_xticks(range(len(data_transactions_groupby_type['transactions_type'].unique())))\n",
    "axis.set_title('Transaction Count per Transaction Type (Log Scale)')\n",
    "axis.set_xticklabels(data_transactions_groupby_type['transactions_type'].unique(), rotation=90)"
   ]
  },
  {
   "cell_type": "code",
   "execution_count": 33,
   "metadata": {
    "scrolled": false
   },
   "outputs": [
    {
     "name": "stderr",
     "output_type": "stream",
     "text": [
      "INFO:root:Read transactions into Dataframe\n"
     ]
    },
    {
     "data": {
      "text/plain": [
       "[Text(0, 0, 'OUTBOUND'), Text(0, 0, 'INBOUND')]"
      ]
     },
     "execution_count": 33,
     "metadata": {},
     "output_type": "execute_result"
    },
    {
     "data": {
      "image/png": "[encoded data removed]",
      "text/plain": [
       "<Figure size 1440x720 with 1 Axes>"
      ]
     },
     "metadata": {
      "needs_background": "light"
     },
     "output_type": "display_data"
    }
   ],
   "source": [
    "# gather transactions per direction data\n",
    "logging.info(\"Read transactions into Dataframe\")\n",
    "data_transactions_groupby_direction = pd.read_sql('SELECT sum(amount_usd), direction FROM transactions where transactions_state = \\'COMPLETED\\' group by direction', conn)\n",
    "\n",
    "data_transactions_groupby_direction.sort_values(by=['sum'], ascending=False, inplace=True)\n",
    "# plot the number of transactions for each state\n",
    "fig, axis = plt.subplots(1,1,figsize=(20,10))\n",
    "\n",
    "sns.barplot(x='direction', y='sum', data=data_transactions_groupby_direction, order=data_transactions_groupby_direction['direction'].unique(), ax=axis)\n",
    "axis.set_xticks(range(len(data_transactions_groupby_direction['direction'].unique())))\n",
    "axis.set_title('Transaction Amount in USD per Direction (Outflow vs Inflow)')\n",
    "axis.set_xticklabels(data_transactions_groupby_direction['direction'].unique(), rotation=90)"
   ]
  },
  {
   "cell_type": "markdown",
   "metadata": {},
   "source": [
    "## 2. Merge Data"
   ]
  },
  {
   "cell_type": "markdown",
   "metadata": {},
   "source": [
    "1) Merge Devices Data with User Data"
   ]
  },
  {
   "cell_type": "code",
   "execution_count": 34,
   "metadata": {},
   "outputs": [
    {
     "data": {
      "text/plain": [
       "(19430, 10)"
      ]
     },
     "execution_count": 34,
     "metadata": {},
     "output_type": "execute_result"
    }
   ],
   "source": [
    "data_user.shape"
   ]
  },
  {
   "cell_type": "code",
   "execution_count": 35,
   "metadata": {},
   "outputs": [
    {
     "data": {
      "text/plain": [
       "(19430, 2)"
      ]
     },
     "execution_count": 35,
     "metadata": {},
     "output_type": "execute_result"
    }
   ],
   "source": [
    "data_devices.shape"
   ]
  },
  {
   "cell_type": "markdown",
   "metadata": {},
   "source": [
    "Seems like there is a one-to-one mapping relationship between user and device, this means one user has only at most one device linked to him/her."
   ]
  },
  {
   "cell_type": "code",
   "execution_count": 36,
   "metadata": {},
   "outputs": [],
   "source": [
    "# rename the column brand before merging with data_user\n",
    "data_devices.rename(columns={'brand':'device_brand'}, inplace=True)\n",
    "# merge user datatable with devices datatable\n",
    "data_user = data_user.merge(data_devices,on='user_id')"
   ]
  },
  {
   "cell_type": "code",
   "execution_count": 37,
   "metadata": {},
   "outputs": [],
   "source": [
    "# See the time span of all transactions\n",
    "data_transactions_time_span = pd.read_sql('SELECT min(created_date), max(created_date) FROM transactions', conn)"
   ]
  },
  {
   "cell_type": "markdown",
   "metadata": {},
   "source": [
    "We will choose 6 months as calibration period, the 3 months afterwards as holdout period, going backwards from max(created_date) from transactions, which is 2019-05-16 18:22:16.959896"
   ]
  },
  {
   "cell_type": "code",
   "execution_count": 38,
   "metadata": {},
   "outputs": [],
   "source": [
    "# This means:\n",
    "from datetime import datetime, timedelta\n",
    "\n",
    "holdout_end = data_transactions_time_span['max'].loc[0]\n",
    "holdout_start = holdout_end - pd.DateOffset(months=3)\n",
    "calibration_end = holdout_start\n",
    "calibration_start = holdout_start - pd.DateOffset(months=6)"
   ]
  },
  {
   "cell_type": "markdown",
   "metadata": {},
   "source": [
    "2) Merge Notifications Data with User Data"
   ]
  },
  {
   "cell_type": "code",
   "execution_count": 39,
   "metadata": {},
   "outputs": [],
   "source": [
    "data_notifications_calibration = data_notifications[(data_notifications['created_date']>calibration_start)\n",
    "                                                    &(data_notifications['created_date']<calibration_end)]\n",
    "data_notifications_holdout = data_notifications[(data_notifications['created_date']>holdout_start)\n",
    "                                                    &(data_notifications['created_date']<holdout_end)]"
   ]
  },
  {
   "cell_type": "code",
   "execution_count": 40,
   "metadata": {},
   "outputs": [
    {
     "data": {
      "text/plain": [
       "(80573, 5)"
      ]
     },
     "execution_count": 40,
     "metadata": {},
     "output_type": "execute_result"
    }
   ],
   "source": [
    "data_notifications_calibration.shape"
   ]
  },
  {
   "cell_type": "code",
   "execution_count": 41,
   "metadata": {
    "scrolled": true
   },
   "outputs": [
    {
     "data": {
      "text/plain": [
       "(23493, 5)"
      ]
     },
     "execution_count": 41,
     "metadata": {},
     "output_type": "execute_result"
    }
   ],
   "source": [
    "data_notifications_holdout.shape"
   ]
  },
  {
   "cell_type": "markdown",
   "metadata": {},
   "source": [
    "Creating features from notifications"
   ]
  },
  {
   "cell_type": "code",
   "execution_count": 42,
   "metadata": {},
   "outputs": [],
   "source": [
    "data_notifications_calibration_agg = data_notifications_calibration.groupby('user_id').agg({'created_date': 'count'}).reset_index()\n",
    "data_notifications_calibration_agg.columns = ['user_id', 'notifications_total_count']\n",
    "\n",
    "data_notifications_calibration_crosstab_reason = pd.crosstab(data_notifications_calibration['user_id'], data_notifications_calibration['reason']).reset_index()\n",
    "# adding specific column prefix before merging with data_user\n",
    "data_notifications_calibration_crosstab_reason.columns = ['notifications_reason_'+col if col!='user_id' else col for col in data_notifications_calibration_crosstab_reason.columns]\n",
    "data_notifications_calibration_crosstab_channel = pd.crosstab(data_notifications_calibration['user_id'], data_notifications_calibration['channel']).reset_index()\n",
    "# adding specific column prefix before merging with data_user\n",
    "data_notifications_calibration_crosstab_channel.columns = ['notifications_channel_'+col if col!='user_id' else col for col in data_notifications_calibration_crosstab_channel.columns]\n",
    "data_notifications_calibration_crosstab_status = pd.crosstab(data_notifications_calibration['user_id'], data_notifications_calibration['status']).reset_index()\n",
    "# adding specific column prefix before merging with data_user\n",
    "data_notifications_calibration_crosstab_status.columns = ['notifications_status_'+col if col!='user_id' else col for col in data_notifications_calibration_crosstab_status.columns]\n",
    "\n",
    "data_notifications_holdout_agg = data_notifications_holdout.groupby('user_id').agg({'created_date': 'count'}).reset_index()\n",
    "data_notifications_holdout_agg.columns = ['user_id', 'notifications_total_count']\n",
    "\n",
    "data_notifications_holdout_crosstab_reason = pd.crosstab(data_notifications_holdout['user_id'], data_notifications_holdout['reason']).reset_index()\n",
    "# adding specific column prefix before merging with data_user\n",
    "data_notifications_holdout_crosstab_reason.columns = ['notifications_reason_'+col if col!='user_id' else col for col in data_notifications_holdout_crosstab_reason.columns]\n",
    "data_notifications_holdout_crosstab_channel = pd.crosstab(data_notifications_holdout['user_id'], data_notifications_holdout['channel']).reset_index()\n",
    "# adding specific column prefix before merging with data_user\n",
    "data_notifications_holdout_crosstab_channel.columns = ['notifications_channel_'+col if col!='user_id' else col for col in data_notifications_holdout_crosstab_channel.columns]\n",
    "data_notifications_holdout_crosstab_status = pd.crosstab(data_notifications_holdout['user_id'], data_notifications_holdout['status']).reset_index()\n",
    "# adding specific column prefix before merging with data_user\n",
    "data_notifications_holdout_crosstab_status.columns = ['notifications_status_'+col if col!='user_id' else col for col in data_notifications_holdout_crosstab_status.columns]"
   ]
  },
  {
   "cell_type": "code",
   "execution_count": 43,
   "metadata": {},
   "outputs": [],
   "source": [
    "data_notifications_calibration_merged = data_notifications_calibration_crosstab_reason.merge(data_notifications_calibration_crosstab_channel,on='user_id').merge(data_notifications_calibration_crosstab_status,on='user_id').merge(data_notifications_calibration_agg,on='user_id')\n",
    "data_notifications_holdout_merged = data_notifications_holdout_crosstab_reason.merge(data_notifications_holdout_crosstab_channel,on='user_id').merge(data_notifications_holdout_crosstab_status,on='user_id').merge(data_notifications_holdout_agg,on='user_id')\n",
    "\n",
    "from functools import reduce\n",
    "data_notifications_calibration_merged = reduce(lambda x,y: pd.merge(x,y, on='user_id', how='inner'), \n",
    "                                              [data_notifications_calibration_agg, \n",
    "                                               data_notifications_calibration_crosstab_reason, \n",
    "                                               data_notifications_calibration_crosstab_channel,\n",
    "                                               data_notifications_calibration_crosstab_status\n",
    "                                              ])\n",
    "\n",
    "data_notifications_holdout_merged = reduce(lambda x,y: pd.merge(x,y, on='user_id', how='inner'), \n",
    "                                              [data_notifications_holdout_agg, \n",
    "                                               data_notifications_holdout_crosstab_reason, \n",
    "                                               data_notifications_holdout_crosstab_channel,\n",
    "                                               data_notifications_holdout_crosstab_status\n",
    "                                              ])"
   ]
  },
  {
   "cell_type": "code",
   "execution_count": 44,
   "metadata": {},
   "outputs": [],
   "source": [
    "data_user_calibration = data_user.merge(data_notifications_calibration_merged, on='user_id', how='left')\n",
    "data_user_holdout = data_user.merge(data_notifications_holdout_merged, on='user_id', how='left')"
   ]
  },
  {
   "cell_type": "code",
   "execution_count": 45,
   "metadata": {},
   "outputs": [
    {
     "data": {
      "text/plain": [
       "(19430, 33)"
      ]
     },
     "execution_count": 45,
     "metadata": {},
     "output_type": "execute_result"
    }
   ],
   "source": [
    "data_user_calibration.shape"
   ]
  },
  {
   "cell_type": "code",
   "execution_count": 46,
   "metadata": {},
   "outputs": [
    {
     "data": {
      "text/plain": [
       "(19430, 26)"
      ]
     },
     "execution_count": 46,
     "metadata": {},
     "output_type": "execute_result"
    }
   ],
   "source": [
    "data_user_holdout.shape"
   ]
  },
  {
   "cell_type": "code",
   "execution_count": 47,
   "metadata": {},
   "outputs": [
    {
     "data": {
      "text/plain": [
       "19430"
      ]
     },
     "execution_count": 47,
     "metadata": {},
     "output_type": "execute_result"
    }
   ],
   "source": [
    "len(list(set(data_user_calibration['user_id'].unique()) & set(data_user_holdout['user_id'].unique())))"
   ]
  },
  {
   "cell_type": "markdown",
   "metadata": {},
   "source": [
    "3) Merge Transactions Data with User Data"
   ]
  },
  {
   "cell_type": "code",
   "execution_count": 48,
   "metadata": {},
   "outputs": [],
   "source": [
    "data_transactions_calibration = data_transactions[(data_transactions['created_date']>calibration_start)\n",
    "                                                    &(data_transactions['created_date']<calibration_end)]\n",
    "data_transactions_holdout = data_transactions[(data_transactions['created_date']>holdout_start)\n",
    "                                                    &(data_transactions['created_date']<holdout_end)]"
   ]
  },
  {
   "cell_type": "code",
   "execution_count": 49,
   "metadata": {},
   "outputs": [
    {
     "data": {
      "text/plain": [
       "13360"
      ]
     },
     "execution_count": 49,
     "metadata": {},
     "output_type": "execute_result"
    }
   ],
   "source": [
    "len(list(set(data_transactions_calibration['user_id'].unique()) & set(data_transactions_holdout['user_id'].unique())))"
   ]
  },
  {
   "cell_type": "code",
   "execution_count": 50,
   "metadata": {},
   "outputs": [
    {
     "data": {
      "text/plain": [
       "(1382465, 12)"
      ]
     },
     "execution_count": 50,
     "metadata": {},
     "output_type": "execute_result"
    }
   ],
   "source": [
    "data_transactions_calibration.shape"
   ]
  },
  {
   "cell_type": "code",
   "execution_count": 51,
   "metadata": {},
   "outputs": [
    {
     "data": {
      "text/plain": [
       "(901174, 12)"
      ]
     },
     "execution_count": 51,
     "metadata": {},
     "output_type": "execute_result"
    }
   ],
   "source": [
    "data_transactions_holdout.shape"
   ]
  },
  {
   "cell_type": "code",
   "execution_count": 52,
   "metadata": {
    "scrolled": true
   },
   "outputs": [
    {
     "data": {
      "text/html": [
       "<div>\n",
       "<style scoped>\n",
       "    .dataframe tbody tr th:only-of-type {\n",
       "        vertical-align: middle;\n",
       "    }\n",
       "\n",
       "    .dataframe tbody tr th {\n",
       "        vertical-align: top;\n",
       "    }\n",
       "\n",
       "    .dataframe thead th {\n",
       "        text-align: right;\n",
       "    }\n",
       "</style>\n",
       "<table border=\"1\" class=\"dataframe\">\n",
       "  <thead>\n",
       "    <tr style=\"text-align: right;\">\n",
       "      <th></th>\n",
       "      <th>transaction_id</th>\n",
       "      <th>transactions_type</th>\n",
       "      <th>transactions_currency</th>\n",
       "      <th>amount_usd</th>\n",
       "      <th>transactions_state</th>\n",
       "      <th>ea_cardholderpresence</th>\n",
       "      <th>ea_merchant_mcc</th>\n",
       "      <th>ea_merchant_city</th>\n",
       "      <th>ea_merchant_country</th>\n",
       "      <th>direction</th>\n",
       "      <th>user_id</th>\n",
       "      <th>created_date</th>\n",
       "    </tr>\n",
       "  </thead>\n",
       "  <tbody>\n",
       "    <tr>\n",
       "      <th>12</th>\n",
       "      <td>transaction_12</td>\n",
       "      <td>TRANSFER</td>\n",
       "      <td>AED</td>\n",
       "      <td>61.99</td>\n",
       "      <td>COMPLETED</td>\n",
       "      <td>None</td>\n",
       "      <td>NaN</td>\n",
       "      <td>None</td>\n",
       "      <td>None</td>\n",
       "      <td>OUTBOUND</td>\n",
       "      <td>user_5496</td>\n",
       "      <td>2018-09-07 03:41:24.499256</td>\n",
       "    </tr>\n",
       "    <tr>\n",
       "      <th>13</th>\n",
       "      <td>transaction_13</td>\n",
       "      <td>EXCHANGE</td>\n",
       "      <td>AED</td>\n",
       "      <td>1.03</td>\n",
       "      <td>COMPLETED</td>\n",
       "      <td>None</td>\n",
       "      <td>NaN</td>\n",
       "      <td>None</td>\n",
       "      <td>None</td>\n",
       "      <td>OUTBOUND</td>\n",
       "      <td>user_5496</td>\n",
       "      <td>2018-09-07 13:24:45.807256</td>\n",
       "    </tr>\n",
       "    <tr>\n",
       "      <th>14</th>\n",
       "      <td>transaction_14</td>\n",
       "      <td>EXCHANGE</td>\n",
       "      <td>AED</td>\n",
       "      <td>0.21</td>\n",
       "      <td>COMPLETED</td>\n",
       "      <td>None</td>\n",
       "      <td>NaN</td>\n",
       "      <td>None</td>\n",
       "      <td>None</td>\n",
       "      <td>OUTBOUND</td>\n",
       "      <td>user_4896</td>\n",
       "      <td>2018-09-09 06:38:46.519780</td>\n",
       "    </tr>\n",
       "    <tr>\n",
       "      <th>15</th>\n",
       "      <td>transaction_15</td>\n",
       "      <td>CARD_PAYMENT</td>\n",
       "      <td>AED</td>\n",
       "      <td>15.50</td>\n",
       "      <td>COMPLETED</td>\n",
       "      <td>FALSE</td>\n",
       "      <td>5541.0</td>\n",
       "      <td>Abu Dhabi</td>\n",
       "      <td>ARE</td>\n",
       "      <td>OUTBOUND</td>\n",
       "      <td>user_5496</td>\n",
       "      <td>2018-09-08 10:24:50.779256</td>\n",
       "    </tr>\n",
       "    <tr>\n",
       "      <th>16</th>\n",
       "      <td>transaction_16</td>\n",
       "      <td>EXCHANGE</td>\n",
       "      <td>AED</td>\n",
       "      <td>1.03</td>\n",
       "      <td>COMPLETED</td>\n",
       "      <td>None</td>\n",
       "      <td>NaN</td>\n",
       "      <td>None</td>\n",
       "      <td>None</td>\n",
       "      <td>OUTBOUND</td>\n",
       "      <td>user_5496</td>\n",
       "      <td>2018-09-07 08:58:15.946256</td>\n",
       "    </tr>\n",
       "    <tr>\n",
       "      <th>17</th>\n",
       "      <td>transaction_17</td>\n",
       "      <td>EXCHANGE</td>\n",
       "      <td>AED</td>\n",
       "      <td>1.03</td>\n",
       "      <td>COMPLETED</td>\n",
       "      <td>None</td>\n",
       "      <td>NaN</td>\n",
       "      <td>None</td>\n",
       "      <td>None</td>\n",
       "      <td>OUTBOUND</td>\n",
       "      <td>user_5496</td>\n",
       "      <td>2018-09-07 10:05:10.848256</td>\n",
       "    </tr>\n",
       "    <tr>\n",
       "      <th>18</th>\n",
       "      <td>transaction_18</td>\n",
       "      <td>CARD_PAYMENT</td>\n",
       "      <td>AED</td>\n",
       "      <td>9.30</td>\n",
       "      <td>COMPLETED</td>\n",
       "      <td>FALSE</td>\n",
       "      <td>5331.0</td>\n",
       "      <td>Dubai</td>\n",
       "      <td>ARE</td>\n",
       "      <td>OUTBOUND</td>\n",
       "      <td>user_5496</td>\n",
       "      <td>2018-09-07 13:24:45.714256</td>\n",
       "    </tr>\n",
       "    <tr>\n",
       "      <th>19</th>\n",
       "      <td>transaction_19</td>\n",
       "      <td>EXCHANGE</td>\n",
       "      <td>AED</td>\n",
       "      <td>1.03</td>\n",
       "      <td>COMPLETED</td>\n",
       "      <td>None</td>\n",
       "      <td>NaN</td>\n",
       "      <td>None</td>\n",
       "      <td>None</td>\n",
       "      <td>OUTBOUND</td>\n",
       "      <td>user_5496</td>\n",
       "      <td>2018-09-08 10:24:50.871256</td>\n",
       "    </tr>\n",
       "    <tr>\n",
       "      <th>20</th>\n",
       "      <td>transaction_20</td>\n",
       "      <td>CARD_PAYMENT</td>\n",
       "      <td>AED</td>\n",
       "      <td>33.06</td>\n",
       "      <td>COMPLETED</td>\n",
       "      <td>FALSE</td>\n",
       "      <td>5814.0</td>\n",
       "      <td>Dubai</td>\n",
       "      <td>ARE</td>\n",
       "      <td>OUTBOUND</td>\n",
       "      <td>user_4896</td>\n",
       "      <td>2018-09-20 05:19:51.017780</td>\n",
       "    </tr>\n",
       "    <tr>\n",
       "      <th>21</th>\n",
       "      <td>transaction_21</td>\n",
       "      <td>CARD_PAYMENT</td>\n",
       "      <td>AED</td>\n",
       "      <td>15.19</td>\n",
       "      <td>COMPLETED</td>\n",
       "      <td>FALSE</td>\n",
       "      <td>5814.0</td>\n",
       "      <td>Auh</td>\n",
       "      <td>ARE</td>\n",
       "      <td>OUTBOUND</td>\n",
       "      <td>user_2206</td>\n",
       "      <td>2018-10-03 05:54:45.909179</td>\n",
       "    </tr>\n",
       "    <tr>\n",
       "      <th>26</th>\n",
       "      <td>transaction_26</td>\n",
       "      <td>CARD_PAYMENT</td>\n",
       "      <td>AED</td>\n",
       "      <td>32.03</td>\n",
       "      <td>COMPLETED</td>\n",
       "      <td>FALSE</td>\n",
       "      <td>5651.0</td>\n",
       "      <td>Dubai</td>\n",
       "      <td>ARE</td>\n",
       "      <td>OUTBOUND</td>\n",
       "      <td>user_1293</td>\n",
       "      <td>2018-09-18 18:25:53.267362</td>\n",
       "    </tr>\n",
       "    <tr>\n",
       "      <th>27</th>\n",
       "      <td>transaction_27</td>\n",
       "      <td>ATM</td>\n",
       "      <td>AED</td>\n",
       "      <td>82.66</td>\n",
       "      <td>COMPLETED</td>\n",
       "      <td>FALSE</td>\n",
       "      <td>6011.0</td>\n",
       "      <td>Abu Dhabi</td>\n",
       "      <td>ARE</td>\n",
       "      <td>OUTBOUND</td>\n",
       "      <td>user_6009</td>\n",
       "      <td>2018-09-21 10:59:21.039869</td>\n",
       "    </tr>\n",
       "    <tr>\n",
       "      <th>28</th>\n",
       "      <td>transaction_28</td>\n",
       "      <td>CARD_PAYMENT</td>\n",
       "      <td>AED</td>\n",
       "      <td>79.56</td>\n",
       "      <td>COMPLETED</td>\n",
       "      <td>TRUE</td>\n",
       "      <td>6513.0</td>\n",
       "      <td>Dubai</td>\n",
       "      <td>ARE</td>\n",
       "      <td>OUTBOUND</td>\n",
       "      <td>user_1293</td>\n",
       "      <td>2018-09-20 04:53:15.095362</td>\n",
       "    </tr>\n",
       "    <tr>\n",
       "      <th>29</th>\n",
       "      <td>transaction_29</td>\n",
       "      <td>CARD_PAYMENT</td>\n",
       "      <td>AED</td>\n",
       "      <td>24.55</td>\n",
       "      <td>COMPLETED</td>\n",
       "      <td>FALSE</td>\n",
       "      <td>5651.0</td>\n",
       "      <td>M?nchen</td>\n",
       "      <td>DEU</td>\n",
       "      <td>OUTBOUND</td>\n",
       "      <td>user_4773</td>\n",
       "      <td>2018-09-29 13:31:58.053363</td>\n",
       "    </tr>\n",
       "    <tr>\n",
       "      <th>30</th>\n",
       "      <td>transaction_30</td>\n",
       "      <td>CARD_PAYMENT</td>\n",
       "      <td>AED</td>\n",
       "      <td>57.11</td>\n",
       "      <td>COMPLETED</td>\n",
       "      <td>FALSE</td>\n",
       "      <td>5661.0</td>\n",
       "      <td>Muenchen</td>\n",
       "      <td>DEU</td>\n",
       "      <td>OUTBOUND</td>\n",
       "      <td>user_4773</td>\n",
       "      <td>2018-09-29 14:59:51.603363</td>\n",
       "    </tr>\n",
       "    <tr>\n",
       "      <th>31</th>\n",
       "      <td>transaction_31</td>\n",
       "      <td>CARD_PAYMENT</td>\n",
       "      <td>AED</td>\n",
       "      <td>0.01</td>\n",
       "      <td>REVERTED</td>\n",
       "      <td>TRUE</td>\n",
       "      <td>7512.0</td>\n",
       "      <td>Muenchen</td>\n",
       "      <td>DEU</td>\n",
       "      <td>OUTBOUND</td>\n",
       "      <td>user_4773</td>\n",
       "      <td>2018-09-29 09:03:57.074363</td>\n",
       "    </tr>\n",
       "    <tr>\n",
       "      <th>32</th>\n",
       "      <td>transaction_32</td>\n",
       "      <td>CARD_PAYMENT</td>\n",
       "      <td>AED</td>\n",
       "      <td>3.95</td>\n",
       "      <td>COMPLETED</td>\n",
       "      <td>FALSE</td>\n",
       "      <td>5814.0</td>\n",
       "      <td>M?nchen</td>\n",
       "      <td>DEU</td>\n",
       "      <td>OUTBOUND</td>\n",
       "      <td>user_4773</td>\n",
       "      <td>2018-09-29 13:47:21.752363</td>\n",
       "    </tr>\n",
       "    <tr>\n",
       "      <th>33</th>\n",
       "      <td>transaction_33</td>\n",
       "      <td>TOPUP</td>\n",
       "      <td>AED</td>\n",
       "      <td>236.63</td>\n",
       "      <td>COMPLETED</td>\n",
       "      <td>None</td>\n",
       "      <td>NaN</td>\n",
       "      <td>None</td>\n",
       "      <td>None</td>\n",
       "      <td>INBOUND</td>\n",
       "      <td>user_4773</td>\n",
       "      <td>2018-10-04 09:28:24.287363</td>\n",
       "    </tr>\n",
       "    <tr>\n",
       "      <th>34</th>\n",
       "      <td>transaction_34</td>\n",
       "      <td>CARD_PAYMENT</td>\n",
       "      <td>AED</td>\n",
       "      <td>5.60</td>\n",
       "      <td>COMPLETED</td>\n",
       "      <td>FALSE</td>\n",
       "      <td>7512.0</td>\n",
       "      <td>Muenchen</td>\n",
       "      <td>DEU</td>\n",
       "      <td>OUTBOUND</td>\n",
       "      <td>user_4773</td>\n",
       "      <td>2018-10-01 20:19:54.402363</td>\n",
       "    </tr>\n",
       "    <tr>\n",
       "      <th>35</th>\n",
       "      <td>transaction_35</td>\n",
       "      <td>CARD_PAYMENT</td>\n",
       "      <td>AED</td>\n",
       "      <td>18.29</td>\n",
       "      <td>COMPLETED</td>\n",
       "      <td>FALSE</td>\n",
       "      <td>5814.0</td>\n",
       "      <td>Dubai</td>\n",
       "      <td>ARE</td>\n",
       "      <td>OUTBOUND</td>\n",
       "      <td>user_1491</td>\n",
       "      <td>2018-09-03 11:00:48.400830</td>\n",
       "    </tr>\n",
       "  </tbody>\n",
       "</table>\n",
       "</div>"
      ],
      "text/plain": [
       "    transaction_id transactions_type transactions_currency  amount_usd  \\\n",
       "12  transaction_12          TRANSFER                   AED       61.99   \n",
       "13  transaction_13          EXCHANGE                   AED        1.03   \n",
       "14  transaction_14          EXCHANGE                   AED        0.21   \n",
       "15  transaction_15      CARD_PAYMENT                   AED       15.50   \n",
       "16  transaction_16          EXCHANGE                   AED        1.03   \n",
       "17  transaction_17          EXCHANGE                   AED        1.03   \n",
       "18  transaction_18      CARD_PAYMENT                   AED        9.30   \n",
       "19  transaction_19          EXCHANGE                   AED        1.03   \n",
       "20  transaction_20      CARD_PAYMENT                   AED       33.06   \n",
       "21  transaction_21      CARD_PAYMENT                   AED       15.19   \n",
       "26  transaction_26      CARD_PAYMENT                   AED       32.03   \n",
       "27  transaction_27               ATM                   AED       82.66   \n",
       "28  transaction_28      CARD_PAYMENT                   AED       79.56   \n",
       "29  transaction_29      CARD_PAYMENT                   AED       24.55   \n",
       "30  transaction_30      CARD_PAYMENT                   AED       57.11   \n",
       "31  transaction_31      CARD_PAYMENT                   AED        0.01   \n",
       "32  transaction_32      CARD_PAYMENT                   AED        3.95   \n",
       "33  transaction_33             TOPUP                   AED      236.63   \n",
       "34  transaction_34      CARD_PAYMENT                   AED        5.60   \n",
       "35  transaction_35      CARD_PAYMENT                   AED       18.29   \n",
       "\n",
       "   transactions_state ea_cardholderpresence  ea_merchant_mcc ea_merchant_city  \\\n",
       "12          COMPLETED                  None              NaN             None   \n",
       "13          COMPLETED                  None              NaN             None   \n",
       "14          COMPLETED                  None              NaN             None   \n",
       "15          COMPLETED                 FALSE           5541.0        Abu Dhabi   \n",
       "16          COMPLETED                  None              NaN             None   \n",
       "17          COMPLETED                  None              NaN             None   \n",
       "18          COMPLETED                 FALSE           5331.0            Dubai   \n",
       "19          COMPLETED                  None              NaN             None   \n",
       "20          COMPLETED                 FALSE           5814.0            Dubai   \n",
       "21          COMPLETED                 FALSE           5814.0              Auh   \n",
       "26          COMPLETED                 FALSE           5651.0            Dubai   \n",
       "27          COMPLETED                 FALSE           6011.0        Abu Dhabi   \n",
       "28          COMPLETED                  TRUE           6513.0            Dubai   \n",
       "29          COMPLETED                 FALSE           5651.0          M?nchen   \n",
       "30          COMPLETED                 FALSE           5661.0         Muenchen   \n",
       "31           REVERTED                  TRUE           7512.0         Muenchen   \n",
       "32          COMPLETED                 FALSE           5814.0          M?nchen   \n",
       "33          COMPLETED                  None              NaN             None   \n",
       "34          COMPLETED                 FALSE           7512.0         Muenchen   \n",
       "35          COMPLETED                 FALSE           5814.0            Dubai   \n",
       "\n",
       "   ea_merchant_country direction    user_id               created_date  \n",
       "12                None  OUTBOUND  user_5496 2018-09-07 03:41:24.499256  \n",
       "13                None  OUTBOUND  user_5496 2018-09-07 13:24:45.807256  \n",
       "14                None  OUTBOUND  user_4896 2018-09-09 06:38:46.519780  \n",
       "15                 ARE  OUTBOUND  user_5496 2018-09-08 10:24:50.779256  \n",
       "16                None  OUTBOUND  user_5496 2018-09-07 08:58:15.946256  \n",
       "17                None  OUTBOUND  user_5496 2018-09-07 10:05:10.848256  \n",
       "18                 ARE  OUTBOUND  user_5496 2018-09-07 13:24:45.714256  \n",
       "19                None  OUTBOUND  user_5496 2018-09-08 10:24:50.871256  \n",
       "20                 ARE  OUTBOUND  user_4896 2018-09-20 05:19:51.017780  \n",
       "21                 ARE  OUTBOUND  user_2206 2018-10-03 05:54:45.909179  \n",
       "26                 ARE  OUTBOUND  user_1293 2018-09-18 18:25:53.267362  \n",
       "27                 ARE  OUTBOUND  user_6009 2018-09-21 10:59:21.039869  \n",
       "28                 ARE  OUTBOUND  user_1293 2018-09-20 04:53:15.095362  \n",
       "29                 DEU  OUTBOUND  user_4773 2018-09-29 13:31:58.053363  \n",
       "30                 DEU  OUTBOUND  user_4773 2018-09-29 14:59:51.603363  \n",
       "31                 DEU  OUTBOUND  user_4773 2018-09-29 09:03:57.074363  \n",
       "32                 DEU  OUTBOUND  user_4773 2018-09-29 13:47:21.752363  \n",
       "33                None   INBOUND  user_4773 2018-10-04 09:28:24.287363  \n",
       "34                 DEU  OUTBOUND  user_4773 2018-10-01 20:19:54.402363  \n",
       "35                 ARE  OUTBOUND  user_1491 2018-09-03 11:00:48.400830  "
      ]
     },
     "execution_count": 52,
     "metadata": {},
     "output_type": "execute_result"
    }
   ],
   "source": [
    "data_transactions_calibration.head(20)"
   ]
  },
  {
   "cell_type": "markdown",
   "metadata": {},
   "source": [
    "Creating features from transactions"
   ]
  },
  {
   "cell_type": "code",
   "execution_count": 53,
   "metadata": {},
   "outputs": [],
   "source": [
    "data_transactions_calibration_agg = data_transactions_calibration.groupby('user_id').agg({'created_date': 'count', 'amount_usd':'sum'}).reset_index()\n",
    "data_transactions_calibration_agg.columns = ['user_id', 'transactions_total_count', 'transactions_total_sum']\n",
    "\n",
    "# features from transactions_type\n",
    "data_transactions_calibration_crosstab_type = pd.crosstab(data_transactions_calibration['user_id'], data_transactions_calibration['transactions_type']).reset_index()\n",
    "# adding specific column prefix before merging with data_user\n",
    "data_transactions_calibration_crosstab_type.columns = ['transactions_type_'+col if col!='user_id' else col for col in data_transactions_calibration_crosstab_type.columns]\n",
    "# features from transactions_state\n",
    "data_transactions_calibration_crosstab_state = pd.crosstab(data_transactions_calibration['user_id'], data_transactions_calibration['transactions_state']).reset_index()\n",
    "# adding specific column prefix before merging with data_user\n",
    "data_transactions_calibration_crosstab_state.columns = ['transactions_state_'+col if col!='user_id' else col for col in data_transactions_calibration_crosstab_state.columns]\n",
    "# features from direction\n",
    "data_transactions_calibration_crosstab_direction = pd.crosstab(data_transactions_calibration['user_id'], data_transactions_calibration['direction']).reset_index()\n",
    "# adding specific column prefix before merging with data_user\n",
    "data_transactions_calibration_crosstab_direction.columns = ['transactions_direction_'+col if col!='user_id' else col for col in data_transactions_calibration_crosstab_direction.columns]\n",
    "\n",
    "data_transactions_holdout_agg = data_transactions_holdout.groupby('user_id').agg({'created_date': 'count', 'amount_usd':'sum'}).reset_index()\n",
    "data_transactions_holdout_agg.columns = ['user_id', 'transactions_total_count', 'transactions_total_sum']\n",
    "\n",
    "# features from transactions_type\n",
    "data_transactions_holdout_crosstab_type = pd.crosstab(data_transactions_holdout['user_id'], data_transactions_holdout['transactions_type']).reset_index()\n",
    "# adding specific column prefix before merging with data_user\n",
    "data_transactions_holdout_crosstab_type.columns = ['transactions_type_'+col if col!='user_id' else col for col in data_transactions_holdout_crosstab_type.columns]\n",
    "# features from transactions_state\n",
    "data_transactions_holdout_crosstab_state = pd.crosstab(data_transactions_holdout['user_id'], data_transactions_holdout['transactions_state']).reset_index()\n",
    "# adding specific column prefix before merging with data_user\n",
    "data_transactions_holdout_crosstab_state.columns = ['transactions_state_'+col if col!='user_id' else col for col in data_transactions_holdout_crosstab_state.columns]\n",
    "# features from direction\n",
    "data_transactions_holdout_crosstab_direction = pd.crosstab(data_transactions_holdout['user_id'], data_transactions_holdout['direction']).reset_index()\n",
    "# adding specific column prefix before merging with data_user\n",
    "data_transactions_holdout_crosstab_direction.columns = ['transactions_direction_'+col if col!='user_id' else col for col in data_transactions_holdout_crosstab_direction.columns]\n"
   ]
  },
  {
   "cell_type": "code",
   "execution_count": 54,
   "metadata": {},
   "outputs": [],
   "source": [
    "# features from completed transactions\n",
    "data_transactions_calibration_completed = data_transactions_calibration[data_transactions_calibration['transactions_state']=='COMPLETED']\n",
    "data_transactions_calibration_completed_agg = data_transactions_calibration_completed.groupby('user_id').agg({'created_date': 'count', 'amount_usd':'sum'}).reset_index()\n",
    "data_transactions_calibration_completed_agg.columns = ['user_id', 'transactions_completed_total_count', 'transactions_completed_total_sum']\n",
    "\n",
    "# features from completed inbound transactions\n",
    "data_transactions_calibration_completed_inbound = data_transactions_calibration_completed[data_transactions_calibration_completed['direction']=='INBOUND']\n",
    "data_transactions_calibration_completed_inbound_agg = data_transactions_calibration_completed_inbound.groupby('user_id').agg({'created_date': 'count', 'amount_usd':'sum'}).reset_index()\n",
    "data_transactions_calibration_completed_inbound_agg.columns = ['user_id', 'transactions_completed_inbound_total_count', 'transactions_completed_inbound_total_sum']\n",
    "\n",
    "# features from completed outbound transactions\n",
    "data_transactions_calibration_completed_outbound = data_transactions_calibration_completed[data_transactions_calibration_completed['direction']=='OUTBOUND']\n",
    "data_transactions_calibration_completed_outbound_agg = data_transactions_calibration_completed_outbound.groupby('user_id').agg({'created_date': 'count', 'amount_usd':'sum'}).reset_index()\n",
    "data_transactions_calibration_completed_outbound_agg.columns = ['user_id', 'transactions_completed_outbound_total_count', 'transactions_completed_outbound_total_sum']\n",
    "\n",
    "# features from completed transactions\n",
    "data_transactions_holdout_completed = data_transactions_holdout[data_transactions_holdout['transactions_state']=='COMPLETED']\n",
    "data_transactions_holdout_completed_agg = data_transactions_holdout_completed.groupby('user_id').agg({'created_date': 'count', 'amount_usd':'sum'}).reset_index()\n",
    "data_transactions_holdout_completed_agg.columns = ['user_id', 'transactions_completed_total_count', 'transactions_completed_total_sum']\n",
    "\n",
    "# features from completed inbound transactions\n",
    "data_transactions_holdout_completed_inbound = data_transactions_holdout_completed[data_transactions_holdout_completed['direction']=='INBOUND']\n",
    "data_transactions_holdout_completed_inbound_agg = data_transactions_holdout_completed_inbound.groupby('user_id').agg({'created_date': 'count', 'amount_usd':'sum'}).reset_index()\n",
    "data_transactions_holdout_completed_inbound_agg.columns = ['user_id', 'transactions_completed_inbound_total_count', 'transactions_completed_inbound_total_sum']\n",
    "\n",
    "# features from completed outbound transactions\n",
    "data_transactions_holdout_completed_outbound = data_transactions_holdout_completed[data_transactions_holdout_completed['direction']=='OUTBOUND']\n",
    "data_transactions_holdout_completed_outbound_agg = data_transactions_holdout_completed_outbound.groupby('user_id').agg({'created_date': 'count', 'amount_usd':'sum'}).reset_index()\n",
    "data_transactions_holdout_completed_outbound_agg.columns = ['user_id', 'transactions_completed_outbound_total_count', 'transactions_completed_outbound_total_sum']\n"
   ]
  },
  {
   "cell_type": "code",
   "execution_count": 55,
   "metadata": {},
   "outputs": [],
   "source": [
    "from functools import reduce\n",
    "data_transactions_calibration_merged = reduce(lambda x,y: pd.merge(x,y, on='user_id', how='outer'), \n",
    "                                              [data_transactions_calibration_agg, \n",
    "                                               data_transactions_calibration_crosstab_type, \n",
    "                                               data_transactions_calibration_crosstab_state,\n",
    "                                               data_transactions_calibration_crosstab_direction,\n",
    "                                               data_transactions_calibration_completed_agg,\n",
    "                                               data_transactions_calibration_completed_inbound_agg,\n",
    "                                               data_transactions_calibration_completed_outbound_agg\n",
    "                                              ])\n",
    "\n",
    "data_transactions_holdout_merged = reduce(lambda x,y: pd.merge(x,y, on='user_id', how='outer'), \n",
    "                                              [data_transactions_holdout_agg, \n",
    "                                               data_transactions_holdout_crosstab_type, \n",
    "                                               data_transactions_holdout_crosstab_state,\n",
    "                                               data_transactions_holdout_crosstab_direction,\n",
    "                                               data_transactions_holdout_completed_agg,\n",
    "                                               data_transactions_holdout_completed_inbound_agg,\n",
    "                                               data_transactions_holdout_completed_outbound_agg\n",
    "                                              ])"
   ]
  },
  {
   "cell_type": "markdown",
   "metadata": {},
   "source": [
    "4) Create the final summary data and convert categorical data with one-hot-encoding"
   ]
  },
  {
   "cell_type": "code",
   "execution_count": 56,
   "metadata": {},
   "outputs": [],
   "source": [
    "data_user_calibration_summary = data_user_calibration.merge(data_transactions_calibration_merged, on='user_id', how='right')\n",
    "data_user_holdout_summary = data_user_holdout.merge(data_transactions_holdout_merged, on='user_id', how='right')"
   ]
  },
  {
   "cell_type": "code",
   "execution_count": 57,
   "metadata": {},
   "outputs": [],
   "source": [
    "# write the summary data for calibration and holdout into .csv file\n",
    "data_user_calibration_summary.to_csv('../data/calibration_summary.csv',index=False, encoding='utf-8', sep=';')\n",
    "data_user_holdout_summary.to_csv('../data/holdout_summary.csv',index=False, encoding='utf-8', sep=';')"
   ]
  },
  {
   "cell_type": "code",
   "execution_count": 58,
   "metadata": {},
   "outputs": [],
   "source": [
    "from sklearn.model_selection import train_test_split\n",
    "\n",
    "def split_data(calibration_summary, holdout_summary):\n",
    "    calibration_summary.reset_index(inplace=True)\n",
    "    calibration_summary.set_index('user_id', inplace=True)\n",
    "    holdout_summary.set_index('user_id', inplace=True)\n",
    "\n",
    "    real_users_not_alive_index = list(\n",
    "        set(calibration_summary['transactions_total_count'].index) - set(holdout_summary['transactions_total_count'].index))\n",
    "\n",
    "    is_alive = pd.DataFrame(index=calibration_summary['transactions_total_count'].index)\n",
    "    is_alive['real'] = 1\n",
    "\n",
    "    is_alive.loc[real_users_not_alive_index, 'real'] = 0\n",
    "\n",
    "    X_train, X_test, y_train, y_test =\\\n",
    "        train_test_split(calibration_summary, is_alive['real'], test_size=0.1, random_state=42)\n",
    "\n",
    "    return X_train, X_test, y_train, y_test"
   ]
  },
  {
   "cell_type": "code",
   "execution_count": 59,
   "metadata": {
    "scrolled": true
   },
   "outputs": [],
   "source": [
    "def one_hot(df, cols):\n",
    "    \"\"\"\n",
    "    @param df pandas DataFrame\n",
    "    @param cols a list of columns to encode \n",
    "    @return a DataFrame with one-hot encoding\n",
    "    \"\"\"\n",
    "    for each in cols:\n",
    "        dummies = pd.get_dummies(df[each], prefix=each, drop_first=False)\n",
    "        df = pd.concat([df, dummies], axis=1)\n",
    "    return df\n",
    "\n",
    "# here city and created_date will be excluded\n",
    "# city is excluded as this will cause thousands of new columns to be created after one_hot_encoding\n",
    "data_user_calibration_summary_one_hot = one_hot(data_user_calibration_summary, ['country', 'plan', 'device_brand'])\n",
    "data_user_holdout_summary = one_hot(data_user_holdout_summary, ['country', 'plan', 'device_brand'])\n",
    "\n",
    "features_to_drop = ['Index', 'index', 'created_date', 'city', 'country', 'plan', 'device_brand']\n",
    "features_x = []\n",
    "for col in data_user_calibration_summary.columns:\n",
    "    if col in features_to_drop:\n",
    "        pass\n",
    "    else:\n",
    "        features_x.append(col)\n",
    "\n",
    "\n",
    "X_train, X_test, y_train, y_test =\\\n",
    "    split_data(data_user_calibration_summary_one_hot[features_x], data_user_holdout_summary)"
   ]
  },
  {
   "cell_type": "markdown",
   "metadata": {},
   "source": [
    "## 3. Train the model - xgboost, while optimizing hyperparameters with Bayesian Optimization"
   ]
  },
  {
   "cell_type": "code",
   "execution_count": 60,
   "metadata": {
    "scrolled": true
   },
   "outputs": [
    {
     "name": "stderr",
     "output_type": "stream",
     "text": [
      "/home/jiacheng/anaconda3/lib/python3.7/site-packages/xgboost/core.py:587: FutureWarning: Series.base is deprecated and will be removed in a future version\n",
      "  if getattr(data, 'base', None) is not None and \\\n"
     ]
    }
   ],
   "source": [
    "# convert the training data into DMatrix for xgboost\n",
    "import xgboost as xgb\n",
    "from bayes_opt import BayesianOptimization\n",
    "from sklearn.metrics import mean_squared_error\n",
    "\n",
    "dtrain = xgb.DMatrix(X_train, label=y_train)\n",
    "dtest = xgb.DMatrix(X_test)\n"
   ]
  },
  {
   "cell_type": "code",
   "execution_count": 61,
   "metadata": {
    "scrolled": false
   },
   "outputs": [
    {
     "name": "stdout",
     "output_type": "stream",
     "text": [
      "|   iter    |  target   | colsam... |   gamma   | learni... | max_de... | max_depth | min_ch... | n_esti... | reg_alpha | reg_la... | subsample |\n",
      "-------------------------------------------------------------------------------------------------------------------------------------------------\n",
      "| \u001b[0m 1       \u001b[0m | \u001b[0m 0.8531  \u001b[0m | \u001b[0m 0.5922  \u001b[0m | \u001b[0m 0.853   \u001b[0m | \u001b[0m 0.08366 \u001b[0m | \u001b[0m 0.04624 \u001b[0m | \u001b[0m 3.114   \u001b[0m | \u001b[0m 8.852   \u001b[0m | \u001b[0m 1.07e+03\u001b[0m | \u001b[0m 0.2378  \u001b[0m | \u001b[0m 0.1691  \u001b[0m | \u001b[0m 0.6087  \u001b[0m |\n",
      "| \u001b[95m 2       \u001b[0m | \u001b[95m 0.8565  \u001b[0m | \u001b[95m 0.3065  \u001b[0m | \u001b[95m 0.365   \u001b[0m | \u001b[95m 0.1455  \u001b[0m | \u001b[95m 0.05484 \u001b[0m | \u001b[95m 3.371   \u001b[0m | \u001b[95m 7.957   \u001b[0m | \u001b[95m 1.375e+0\u001b[0m | \u001b[95m 0.193   \u001b[0m | \u001b[95m 0.8823  \u001b[0m | \u001b[95m 0.5261  \u001b[0m |\n",
      "| \u001b[0m 3       \u001b[0m | \u001b[0m 0.8421  \u001b[0m | \u001b[0m 0.3776  \u001b[0m | \u001b[0m 1.0     \u001b[0m | \u001b[0m 0.08684 \u001b[0m | \u001b[0m 0.01258 \u001b[0m | \u001b[0m 2.676   \u001b[0m | \u001b[0m 3.061   \u001b[0m | \u001b[0m 2.5e+03 \u001b[0m | \u001b[0m 0.1243  \u001b[0m | \u001b[0m 0.5009  \u001b[0m | \u001b[0m 0.7045  \u001b[0m |\n",
      "| \u001b[0m 4       \u001b[0m | \u001b[0m 0.8556  \u001b[0m | \u001b[0m 0.7377  \u001b[0m | \u001b[0m 1.0     \u001b[0m | \u001b[0m 0.2596  \u001b[0m | \u001b[0m 0.03047 \u001b[0m | \u001b[0m 2.005   \u001b[0m | \u001b[0m 1.024   \u001b[0m | \u001b[0m 1.574e+0\u001b[0m | \u001b[0m 0.3577  \u001b[0m | \u001b[0m 0.1548  \u001b[0m | \u001b[0m 0.5312  \u001b[0m |\n",
      "| \u001b[0m 5       \u001b[0m | \u001b[0m 0.8463  \u001b[0m | \u001b[0m 0.7705  \u001b[0m | \u001b[0m 1.0     \u001b[0m | \u001b[0m 0.1919  \u001b[0m | \u001b[0m 0.07277 \u001b[0m | \u001b[0m 4.815   \u001b[0m | \u001b[0m 9.972   \u001b[0m | \u001b[0m 1.546e+0\u001b[0m | \u001b[0m 0.2261  \u001b[0m | \u001b[0m 0.668   \u001b[0m | \u001b[0m 0.7662  \u001b[0m |\n",
      "| \u001b[0m 6       \u001b[0m | \u001b[0m 0.8548  \u001b[0m | \u001b[0m 0.9405  \u001b[0m | \u001b[0m 1.0     \u001b[0m | \u001b[0m 0.0827  \u001b[0m | \u001b[0m 0.06012 \u001b[0m | \u001b[0m 2.074   \u001b[0m | \u001b[0m 1.097   \u001b[0m | \u001b[0m 1.261e+0\u001b[0m | \u001b[0m 0.4313  \u001b[0m | \u001b[0m 0.2661  \u001b[0m | \u001b[0m 0.5566  \u001b[0m |\n",
      "| \u001b[0m 7       \u001b[0m | \u001b[0m 0.8542  \u001b[0m | \u001b[0m 0.3459  \u001b[0m | \u001b[0m 1.0     \u001b[0m | \u001b[0m 0.2458  \u001b[0m | \u001b[0m 0.04361 \u001b[0m | \u001b[0m 2.161   \u001b[0m | \u001b[0m 1.123   \u001b[0m | \u001b[0m 2.12e+03\u001b[0m | \u001b[0m 0.2318  \u001b[0m | \u001b[0m 0.7618  \u001b[0m | \u001b[0m 0.6348  \u001b[0m |\n",
      "=================================================================================================================================================\n"
     ]
    }
   ],
   "source": [
    "from sklearn.model_selection import cross_val_score\n",
    "import warnings\n",
    "\n",
    "def xgboostcv(max_depth,\n",
    "              learning_rate,\n",
    "              n_estimators,\n",
    "              gamma,\n",
    "              min_child_weight,\n",
    "              max_delta_step,\n",
    "              subsample,\n",
    "              colsample_bytree,\n",
    "              reg_alpha,\n",
    "              reg_lambda,\n",
    "              silent=True,\n",
    "              nthread=-1,\n",
    "              random_state=1):\n",
    "    return cross_val_score(xgb.XGBClassifier(max_depth=int(max_depth),\n",
    "                                             learning_rate=learning_rate,\n",
    "                                             n_estimators=int(n_estimators),\n",
    "                                             silent=silent,\n",
    "                                             nthread=nthread,\n",
    "                                             gamma=gamma,\n",
    "                                             min_child_weight=min_child_weight,\n",
    "                                             max_delta_step=max_delta_step,\n",
    "                                             subsample=subsample,\n",
    "                                             colsample_bytree=colsample_bytree,\n",
    "                                             reg_alpha=reg_alpha,\n",
    "                                             reg_lambda = reg_lambda),\n",
    "                           X_train,\n",
    "                           y_train,\n",
    "                           cv=5,\n",
    "                           scoring=\"roc_auc\",\n",
    "                           n_jobs=-1).mean()\n",
    "\n",
    "xgboostBO = BayesianOptimization(xgboostcv,\n",
    "                                 {'max_depth': (2, 5),\n",
    "                                  'learning_rate': (0.01, 0.3),\n",
    "                                  'n_estimators': (1000, 2500),\n",
    "                                  'gamma': (1., 0.01),\n",
    "                                  'min_child_weight': (1, 10),\n",
    "                                  'max_delta_step': (0, 0.1),\n",
    "                                  'subsample': (0.5, 0.8),\n",
    "                                  'colsample_bytree' :(0.1, 0.99),\n",
    "                                  'reg_alpha':(0.1, 0.5),\n",
    "                                  'reg_lambda':(0.1, 0.9)\n",
    "                                  })\n",
    "\n",
    "with warnings.catch_warnings():\n",
    "    warnings.filterwarnings('ignore')\n",
    "    xgboostBO.maximize(init_points=2, n_iter=5, acq='ei', xi=0.0)"
   ]
  },
  {
   "cell_type": "code",
   "execution_count": 62,
   "metadata": {
    "scrolled": true
   },
   "outputs": [
    {
     "name": "stderr",
     "output_type": "stream",
     "text": [
      "INFO:root:----------------------------------------------------------------------------------------------------\n",
      "INFO:root:Final Results\n",
      "INFO:root:Maximum XGBOOST value: 0.856539\n",
      "INFO:root:Loging dict ---> {'colsample_bytree': 0.3065118616189617, 'gamma': 0.36504507635039596, 'learning_rate': 0.14551547130071443, 'max_delta_step': 0.05484336163288087, 'max_depth': 3.3713667177782196, 'min_child_weight': 7.957293193001172, 'n_estimators': 1375.0585535130976, 'reg_alpha': 0.1929739111617242, 'reg_lambda': 0.8822875534872391, 'subsample': 0.5260662829748117}\n"
     ]
    }
   ],
   "source": [
    "logging.info('-'*100)\n",
    "logging.info('Final Results')\n",
    "logging.info('Maximum XGBOOST value: %f' % xgboostBO.max['target'])\n",
    "logger.info(\"Loging dict ---> {0}\".format(xgboostBO.max['params']))"
   ]
  },
  {
   "cell_type": "code",
   "execution_count": 63,
   "metadata": {},
   "outputs": [],
   "source": [
    "max_params = xgboostBO.max['params']\n",
    "max_params['max_depth'] = int(max_params['max_depth'])"
   ]
  },
  {
   "cell_type": "code",
   "execution_count": 64,
   "metadata": {},
   "outputs": [],
   "source": [
    "xgb_final_model = xgb.XGBClassifier(max_depth=max_params['max_depth'],\n",
    "                                             learning_rate=max_params['learning_rate'],\n",
    "                                             n_estimators=int(max_params['n_estimators']),\n",
    "                                             silent=True,\n",
    "                                             nthread=-1,\n",
    "                                             gamma=max_params['gamma'],\n",
    "                                             min_child_weight=max_params['min_child_weight'],\n",
    "                                             max_delta_step=max_params['max_delta_step'],\n",
    "                                             subsample=max_params['subsample'],\n",
    "                                             colsample_bytree=max_params['colsample_bytree'],\n",
    "                                             reg_alpha=max_params['reg_alpha'],\n",
    "                                             reg_lambda = max_params['reg_lambda'])"
   ]
  },
  {
   "cell_type": "code",
   "execution_count": 65,
   "metadata": {},
   "outputs": [
    {
     "data": {
      "text/plain": [
       "XGBClassifier(base_score=0.5, booster='gbtree', colsample_bylevel=1,\n",
       "              colsample_bynode=1, colsample_bytree=0.3065118616189617,\n",
       "              gamma=0.36504507635039596, learning_rate=0.14551547130071443,\n",
       "              max_delta_step=0.05484336163288087, max_depth=3,\n",
       "              min_child_weight=7.957293193001172, missing=None,\n",
       "              n_estimators=1375, n_jobs=1, nthread=-1,\n",
       "              objective='binary:logistic', random_state=0,\n",
       "              reg_alpha=0.1929739111617242, reg_lambda=0.8822875534872391,\n",
       "              scale_pos_weight=1, seed=None, silent=True,\n",
       "              subsample=0.5260662829748117, verbosity=1)"
      ]
     },
     "execution_count": 65,
     "metadata": {},
     "output_type": "execute_result"
    }
   ],
   "source": [
    "xgb_final_model.fit(X_train, y_train)"
   ]
  },
  {
   "cell_type": "code",
   "execution_count": 66,
   "metadata": {},
   "outputs": [
    {
     "name": "stderr",
     "output_type": "stream",
     "text": [
      "INFO:root:F1 Score for Test Dataset: 0.9030172413793104\n",
      "INFO:root:F1 Score for Training Dataset: 0.9132507913611412\n"
     ]
    }
   ],
   "source": [
    "from sklearn.metrics import f1_score\n",
    "# Predict on testing and training set\n",
    "y_pred = xgb_final_model.predict(X_test)\n",
    "y_train_pred = xgb_final_model.predict(X_train)\n",
    "\n",
    "# Report testing and training F1 Score\n",
    "logging.info('F1 Score for Test Dataset: '+str(f1_score(y_test, y_pred)))\n",
    "logging.info('F1 Score for Training Dataset: '+str(f1_score(y_train, y_train_pred)))\n"
   ]
  },
  {
   "cell_type": "code",
   "execution_count": 67,
   "metadata": {
    "scrolled": false
   },
   "outputs": [
    {
     "data": {
      "text/plain": [
       "<matplotlib.axes._subplots.AxesSubplot at 0x7fda6ae97320>"
      ]
     },
     "execution_count": 67,
     "metadata": {},
     "output_type": "execute_result"
    },
    {
     "data": {
      "image/png": "[encoded data removed]",
      "text/plain": [
       "<Figure size 432x288 with 2 Axes>"
      ]
     },
     "metadata": {},
     "output_type": "display_data"
    }
   ],
   "source": [
    "from sklearn.metrics import confusion_matrix\n",
    "\n",
    "conf_matrix = confusion_matrix(y_test, y_pred)  \n",
    "conf_matrix = conf_matrix / conf_matrix.astype(np.float).sum(axis=1)\n",
    "\n",
    "df_cm = pd.DataFrame(conf_matrix, range(2),\n",
    "                  range(2))\n",
    "#plt.figure(figsize = (10,7))\n",
    "sns.set(font_scale=1.4)#for label size\n",
    "sns.heatmap(df_cm, annot=True,annot_kws={\"size\": 16})# font size"
   ]
  },
  {
   "cell_type": "code",
   "execution_count": 85,
   "metadata": {},
   "outputs": [
    {
     "data": {
      "text/plain": [
       "Text(0.5, 1.0, 'Feature Importance')"
      ]
     },
     "execution_count": 85,
     "metadata": {},
     "output_type": "execute_result"
    },
    {
     "data": {
      "image/png": "[encoded data removed]",
      "text/plain": [
       "<Figure size 1440x1440 with 1 Axes>"
      ]
     },
     "metadata": {},
     "output_type": "display_data"
    }
   ],
   "source": [
    "# plot the feature importance\n",
    "feat_imp = pd.DataFrame({'Importance':xgb_final_model.feature_importances_,\n",
    "                         'Feature': features_x} ).sort_values(ascending=False, by='Importance')\n",
    "\n",
    "fig, axis = plt.subplots(1,1,figsize=(20,20))\n",
    "\n",
    "feat_imp_top_10 = feat_imp.iloc[:10]\n",
    "sns.barplot(y='Feature', x='Importance', data=feat_imp_top_10, order=feat_imp_top_10['Feature'].unique(), ax=axis)\n",
    "axis.set_title('Feature Importance')"
   ]
  },
  {
   "cell_type": "markdown",
   "metadata": {},
   "source": [
    "#### Note that we have user_id mistakenly also as a feature, which definitely shouldn't have happened!"
   ]
  },
  {
   "cell_type": "markdown",
   "metadata": {},
   "source": [
    "We can also define other optimization metrics, such as with cost matrix if further information on costs of false positive, false negative, true positive, true negative is available."
   ]
  },
  {
   "cell_type": "markdown",
   "metadata": {},
   "source": [
    "c) Let’s assume an unengaged user is a churned user. Now suppose we use your model to identify unengaged users and implement some business actions try to convert them to engaged users (commonly known as reducing churn). How would you set up a test/experiment to check whether we are actually reducing churn?\n",
    "        \n",
    "A/B test: randomly select 2000 customers that are about to churn (as predicted by our model in b).) and divide them also randomly into 2 groups, Version A (control group) and Version B (test group): the business actions in an attempt to convert them back to engaged users will be conducted on the 1000 customers in Version B, while Version A customers receive no treatment at all. The KPI tracked here will be churn ratio and see if there is significant decrease in Version A in comparison to Version B. Of course, other KPIs could also be adopted, such as transaction volume etc. Here whether the decrease in KPI is significant could be determined with a two-sample hypothesis test, here namely **Welch's t-Test**.\n",
    "\n",
    "Note that here the sample size 1000 is only a ballpark estimate figure. To obtain the exact sample size needed for the A/B test, we need the \n",
    "\n",
    "   1. **baseline conversion rate**,\n",
    "   2. **the minimum detectable effect**, \n",
    "   3. **statistical power**, \n",
    "   4. **statistical significance**."
   ]
  },
  {
   "cell_type": "markdown",
   "metadata": {},
   "source": [
    "d) In the past, one business action we took to reduce churn was to re-engage inactive users. Our engagement team designed a marketing campaign, REENGAGEMENT_ACTIVE_FUNDS to remind inactive users about funds on their Revolut account. Define a metric to measure the effectiveness of the campaign. Under this metric, was the campaign effective?\n",
    "\n",
    "Metric definition: **$\\Delta Monthly Transaction Volume =$** $Monthly Transaction Volume$ after REENGAGEMENT_ACTIVE_FUNDS notification has been sent (status=SENT) - $Monthly Transaction Volume$ before REENGAGEMENT_ACTIVE_FUNDS notification has been sent (status=SENT).\n",
    "\n",
    "The effectiveness of the campaign can be determined with a One Sample t-Test:\n",
    "\n",
    "Hypotheses\n",
    "\n",
    "Hₒ: $\\mu \\Delta Monthly Transaction Volume =0$.\n",
    "\n",
    "Hₐ: $\\mu \\Delta Monthly Transaction Volume \\neq0$.\n",
    "\n",
    "$\\alpha = 0.05$"
   ]
  },
  {
   "cell_type": "code",
   "execution_count": 86,
   "metadata": {},
   "outputs": [],
   "source": [
    "# gather the notifications data stemming from the marketing campaign\n",
    "data_campaign = data_notifications[(data_notifications['reason']=='REENGAGEMENT_ACTIVE_FUNDS') & (data_notifications['status']=='SENT')]"
   ]
  },
  {
   "cell_type": "code",
   "execution_count": 87,
   "metadata": {},
   "outputs": [
    {
     "data": {
      "text/plain": [
       "(19430, 11)"
      ]
     },
     "execution_count": 87,
     "metadata": {},
     "output_type": "execute_result"
    }
   ],
   "source": [
    "data_user.shape"
   ]
  },
  {
   "cell_type": "code",
   "execution_count": 88,
   "metadata": {},
   "outputs": [
    {
     "data": {
      "text/plain": [
       "(28139, 5)"
      ]
     },
     "execution_count": 88,
     "metadata": {},
     "output_type": "execute_result"
    }
   ],
   "source": [
    "# the number of notifications from the marketing campaign\n",
    "data_campaign.shape"
   ]
  },
  {
   "cell_type": "code",
   "execution_count": 89,
   "metadata": {},
   "outputs": [
    {
     "data": {
      "text/plain": [
       "11117"
      ]
     },
     "execution_count": 89,
     "metadata": {},
     "output_type": "execute_result"
    }
   ],
   "source": [
    "len(data_campaign['user_id'].unique())"
   ]
  },
  {
   "cell_type": "markdown",
   "metadata": {},
   "source": [
    "as there are only 11117 unique users treated with the marketing campaign, while the number of notifications from the marketing campaign is 28139 > 11117, this means there are users that have received more than one notifications REENGAGEMENT_ACTIVE_FUNDS "
   ]
  },
  {
   "cell_type": "code",
   "execution_count": 90,
   "metadata": {},
   "outputs": [
    {
     "data": {
      "text/html": [
       "<div>\n",
       "<style scoped>\n",
       "    .dataframe tbody tr th:only-of-type {\n",
       "        vertical-align: middle;\n",
       "    }\n",
       "\n",
       "    .dataframe tbody tr th {\n",
       "        vertical-align: top;\n",
       "    }\n",
       "\n",
       "    .dataframe thead th {\n",
       "        text-align: right;\n",
       "    }\n",
       "</style>\n",
       "<table border=\"1\" class=\"dataframe\">\n",
       "  <thead>\n",
       "    <tr style=\"text-align: right;\">\n",
       "      <th></th>\n",
       "      <th>reason</th>\n",
       "      <th>channel</th>\n",
       "      <th>status</th>\n",
       "      <th>user_id</th>\n",
       "      <th>created_date</th>\n",
       "    </tr>\n",
       "  </thead>\n",
       "  <tbody>\n",
       "    <tr>\n",
       "      <th>0</th>\n",
       "      <td>REENGAGEMENT_ACTIVE_FUNDS</td>\n",
       "      <td>PUSH</td>\n",
       "      <td>SENT</td>\n",
       "      <td>user_7086</td>\n",
       "      <td>2018-12-02 17:58:33.320645</td>\n",
       "    </tr>\n",
       "    <tr>\n",
       "      <th>1</th>\n",
       "      <td>REENGAGEMENT_ACTIVE_FUNDS</td>\n",
       "      <td>PUSH</td>\n",
       "      <td>SENT</td>\n",
       "      <td>user_6598</td>\n",
       "      <td>2018-12-01 23:09:37.367127</td>\n",
       "    </tr>\n",
       "    <tr>\n",
       "      <th>2</th>\n",
       "      <td>REENGAGEMENT_ACTIVE_FUNDS</td>\n",
       "      <td>PUSH</td>\n",
       "      <td>SENT</td>\n",
       "      <td>user_4151</td>\n",
       "      <td>2018-12-04 02:57:56.425660</td>\n",
       "    </tr>\n",
       "    <tr>\n",
       "      <th>3</th>\n",
       "      <td>REENGAGEMENT_ACTIVE_FUNDS</td>\n",
       "      <td>PUSH</td>\n",
       "      <td>SENT</td>\n",
       "      <td>user_1408</td>\n",
       "      <td>2018-12-11 02:04:46.284683</td>\n",
       "    </tr>\n",
       "    <tr>\n",
       "      <th>4</th>\n",
       "      <td>REENGAGEMENT_ACTIVE_FUNDS</td>\n",
       "      <td>PUSH</td>\n",
       "      <td>SENT</td>\n",
       "      <td>user_6292</td>\n",
       "      <td>2018-12-14 17:09:58.900808</td>\n",
       "    </tr>\n",
       "  </tbody>\n",
       "</table>\n",
       "</div>"
      ],
      "text/plain": [
       "                      reason channel status    user_id  \\\n",
       "0  REENGAGEMENT_ACTIVE_FUNDS    PUSH   SENT  user_7086   \n",
       "1  REENGAGEMENT_ACTIVE_FUNDS    PUSH   SENT  user_6598   \n",
       "2  REENGAGEMENT_ACTIVE_FUNDS    PUSH   SENT  user_4151   \n",
       "3  REENGAGEMENT_ACTIVE_FUNDS    PUSH   SENT  user_1408   \n",
       "4  REENGAGEMENT_ACTIVE_FUNDS    PUSH   SENT  user_6292   \n",
       "\n",
       "                created_date  \n",
       "0 2018-12-02 17:58:33.320645  \n",
       "1 2018-12-01 23:09:37.367127  \n",
       "2 2018-12-04 02:57:56.425660  \n",
       "3 2018-12-11 02:04:46.284683  \n",
       "4 2018-12-14 17:09:58.900808  "
      ]
     },
     "execution_count": 90,
     "metadata": {},
     "output_type": "execute_result"
    }
   ],
   "source": [
    "data_campaign.head()"
   ]
  },
  {
   "cell_type": "code",
   "execution_count": 91,
   "metadata": {},
   "outputs": [],
   "source": [
    "# if we take one example and see:\n",
    "tmp_user = 'user_7086'\n",
    "\n",
    "data_user_tmp = pd.read_sql('SELECT * FROM users WHERE user_id = \\'{}\\''.format(tmp_user), conn)\n",
    "data_transactions_tmp = pd.read_sql('SELECT * FROM transactions WHERE user_id = \\'{}\\''.format(tmp_user), conn)\n",
    "data_notifications_tmp = pd.read_sql('SELECT * FROM notifications WHERE user_id = \\'{}\\' and reason = \\'REENGAGEMENT_ACTIVE_FUNDS\\''.format(tmp_user), conn)\n",
    "data_devices_tmp = pd.read_sql('SELECT * FROM devices WHERE user_id = \\'{}\\''.format(tmp_user), conn)"
   ]
  },
  {
   "cell_type": "code",
   "execution_count": 92,
   "metadata": {},
   "outputs": [
    {
     "data": {
      "text/html": [
       "<div>\n",
       "<style scoped>\n",
       "    .dataframe tbody tr th:only-of-type {\n",
       "        vertical-align: middle;\n",
       "    }\n",
       "\n",
       "    .dataframe tbody tr th {\n",
       "        vertical-align: top;\n",
       "    }\n",
       "\n",
       "    .dataframe thead th {\n",
       "        text-align: right;\n",
       "    }\n",
       "</style>\n",
       "<table border=\"1\" class=\"dataframe\">\n",
       "  <thead>\n",
       "    <tr style=\"text-align: right;\">\n",
       "      <th></th>\n",
       "      <th>transaction_id</th>\n",
       "      <th>transactions_type</th>\n",
       "      <th>transactions_currency</th>\n",
       "      <th>amount_usd</th>\n",
       "      <th>transactions_state</th>\n",
       "      <th>ea_cardholderpresence</th>\n",
       "      <th>ea_merchant_mcc</th>\n",
       "      <th>ea_merchant_city</th>\n",
       "      <th>ea_merchant_country</th>\n",
       "      <th>direction</th>\n",
       "      <th>user_id</th>\n",
       "      <th>created_date</th>\n",
       "    </tr>\n",
       "  </thead>\n",
       "  <tbody>\n",
       "    <tr>\n",
       "      <th>0</th>\n",
       "      <td>transaction_243493</td>\n",
       "      <td>CARD_PAYMENT</td>\n",
       "      <td>PLN</td>\n",
       "      <td>1.19</td>\n",
       "      <td>COMPLETED</td>\n",
       "      <td>FALSE</td>\n",
       "      <td>5812.0</td>\n",
       "      <td>Gliwice</td>\n",
       "      <td>POL</td>\n",
       "      <td>OUTBOUND</td>\n",
       "      <td>user_7086</td>\n",
       "      <td>2018-07-06 03:28:57.017645</td>\n",
       "    </tr>\n",
       "    <tr>\n",
       "      <th>1</th>\n",
       "      <td>transaction_242837</td>\n",
       "      <td>TOPUP</td>\n",
       "      <td>PLN</td>\n",
       "      <td>0.20</td>\n",
       "      <td>REVERTED</td>\n",
       "      <td>None</td>\n",
       "      <td>NaN</td>\n",
       "      <td>None</td>\n",
       "      <td>None</td>\n",
       "      <td>INBOUND</td>\n",
       "      <td>user_7086</td>\n",
       "      <td>2018-06-18 17:01:36.755645</td>\n",
       "    </tr>\n",
       "    <tr>\n",
       "      <th>2</th>\n",
       "      <td>transaction_243494</td>\n",
       "      <td>CARD_PAYMENT</td>\n",
       "      <td>PLN</td>\n",
       "      <td>1.19</td>\n",
       "      <td>COMPLETED</td>\n",
       "      <td>FALSE</td>\n",
       "      <td>5812.0</td>\n",
       "      <td>Gliwice</td>\n",
       "      <td>POL</td>\n",
       "      <td>OUTBOUND</td>\n",
       "      <td>user_7086</td>\n",
       "      <td>2018-07-06 02:57:55.184645</td>\n",
       "    </tr>\n",
       "    <tr>\n",
       "      <th>3</th>\n",
       "      <td>transaction_308619</td>\n",
       "      <td>FEE</td>\n",
       "      <td>PLN</td>\n",
       "      <td>1.65</td>\n",
       "      <td>COMPLETED</td>\n",
       "      <td>None</td>\n",
       "      <td>NaN</td>\n",
       "      <td>None</td>\n",
       "      <td>None</td>\n",
       "      <td>OUTBOUND</td>\n",
       "      <td>user_7086</td>\n",
       "      <td>2018-12-09 05:55:09.789645</td>\n",
       "    </tr>\n",
       "    <tr>\n",
       "      <th>4</th>\n",
       "      <td>transaction_294844</td>\n",
       "      <td>CARD_PAYMENT</td>\n",
       "      <td>PLN</td>\n",
       "      <td>2.93</td>\n",
       "      <td>COMPLETED</td>\n",
       "      <td>TRUE</td>\n",
       "      <td>4215.0</td>\n",
       "      <td>Alacant</td>\n",
       "      <td>ESP</td>\n",
       "      <td>OUTBOUND</td>\n",
       "      <td>user_7086</td>\n",
       "      <td>2018-07-25 17:05:29.992645</td>\n",
       "    </tr>\n",
       "    <tr>\n",
       "      <th>5</th>\n",
       "      <td>transaction_298143</td>\n",
       "      <td>TOPUP</td>\n",
       "      <td>PLN</td>\n",
       "      <td>5.96</td>\n",
       "      <td>FAILED</td>\n",
       "      <td>None</td>\n",
       "      <td>NaN</td>\n",
       "      <td>None</td>\n",
       "      <td>None</td>\n",
       "      <td>INBOUND</td>\n",
       "      <td>user_7086</td>\n",
       "      <td>2018-09-19 17:18:07.415645</td>\n",
       "    </tr>\n",
       "    <tr>\n",
       "      <th>6</th>\n",
       "      <td>transaction_307955</td>\n",
       "      <td>TOPUP</td>\n",
       "      <td>PLN</td>\n",
       "      <td>9.94</td>\n",
       "      <td>COMPLETED</td>\n",
       "      <td>None</td>\n",
       "      <td>NaN</td>\n",
       "      <td>None</td>\n",
       "      <td>None</td>\n",
       "      <td>INBOUND</td>\n",
       "      <td>user_7086</td>\n",
       "      <td>2018-12-05 02:08:01.494645</td>\n",
       "    </tr>\n",
       "    <tr>\n",
       "      <th>7</th>\n",
       "      <td>transaction_300105</td>\n",
       "      <td>CARD_PAYMENT</td>\n",
       "      <td>PLN</td>\n",
       "      <td>8.04</td>\n",
       "      <td>COMPLETED</td>\n",
       "      <td>TRUE</td>\n",
       "      <td>5964.0</td>\n",
       "      <td>London</td>\n",
       "      <td>GBR</td>\n",
       "      <td>OUTBOUND</td>\n",
       "      <td>user_7086</td>\n",
       "      <td>2018-09-20 00:39:40.795645</td>\n",
       "    </tr>\n",
       "    <tr>\n",
       "      <th>8</th>\n",
       "      <td>transaction_300143</td>\n",
       "      <td>TOPUP</td>\n",
       "      <td>PLN</td>\n",
       "      <td>5.96</td>\n",
       "      <td>COMPLETED</td>\n",
       "      <td>None</td>\n",
       "      <td>NaN</td>\n",
       "      <td>None</td>\n",
       "      <td>None</td>\n",
       "      <td>INBOUND</td>\n",
       "      <td>user_7086</td>\n",
       "      <td>2018-09-19 17:33:09.522645</td>\n",
       "    </tr>\n",
       "    <tr>\n",
       "      <th>9</th>\n",
       "      <td>transaction_303738</td>\n",
       "      <td>FEE</td>\n",
       "      <td>PLN</td>\n",
       "      <td>1.65</td>\n",
       "      <td>COMPLETED</td>\n",
       "      <td>None</td>\n",
       "      <td>NaN</td>\n",
       "      <td>None</td>\n",
       "      <td>None</td>\n",
       "      <td>OUTBOUND</td>\n",
       "      <td>user_7086</td>\n",
       "      <td>2018-11-11 04:10:06.369645</td>\n",
       "    </tr>\n",
       "    <tr>\n",
       "      <th>10</th>\n",
       "      <td>transaction_308909</td>\n",
       "      <td>FEE</td>\n",
       "      <td>PLN</td>\n",
       "      <td>1.65</td>\n",
       "      <td>COMPLETED</td>\n",
       "      <td>None</td>\n",
       "      <td>NaN</td>\n",
       "      <td>None</td>\n",
       "      <td>None</td>\n",
       "      <td>OUTBOUND</td>\n",
       "      <td>user_7086</td>\n",
       "      <td>2018-11-25 05:55:05.959645</td>\n",
       "    </tr>\n",
       "    <tr>\n",
       "      <th>11</th>\n",
       "      <td>transaction_425646</td>\n",
       "      <td>CARD_PAYMENT</td>\n",
       "      <td>PLN</td>\n",
       "      <td>2.93</td>\n",
       "      <td>DECLINED</td>\n",
       "      <td>TRUE</td>\n",
       "      <td>4215.0</td>\n",
       "      <td>Alacant</td>\n",
       "      <td>ESP</td>\n",
       "      <td>OUTBOUND</td>\n",
       "      <td>user_7086</td>\n",
       "      <td>2018-07-25 16:57:46.945645</td>\n",
       "    </tr>\n",
       "    <tr>\n",
       "      <th>12</th>\n",
       "      <td>transaction_312113</td>\n",
       "      <td>FEE</td>\n",
       "      <td>PLN</td>\n",
       "      <td>1.65</td>\n",
       "      <td>COMPLETED</td>\n",
       "      <td>None</td>\n",
       "      <td>NaN</td>\n",
       "      <td>None</td>\n",
       "      <td>None</td>\n",
       "      <td>OUTBOUND</td>\n",
       "      <td>user_7086</td>\n",
       "      <td>2018-12-23 05:55:13.978645</td>\n",
       "    </tr>\n",
       "    <tr>\n",
       "      <th>13</th>\n",
       "      <td>transaction_355487</td>\n",
       "      <td>TOPUP</td>\n",
       "      <td>PLN</td>\n",
       "      <td>9.94</td>\n",
       "      <td>COMPLETED</td>\n",
       "      <td>None</td>\n",
       "      <td>NaN</td>\n",
       "      <td>None</td>\n",
       "      <td>None</td>\n",
       "      <td>INBOUND</td>\n",
       "      <td>user_7086</td>\n",
       "      <td>2019-01-17 03:11:43.424645</td>\n",
       "    </tr>\n",
       "    <tr>\n",
       "      <th>14</th>\n",
       "      <td>transaction_357460</td>\n",
       "      <td>CARD_PAYMENT</td>\n",
       "      <td>PLN</td>\n",
       "      <td>1.98</td>\n",
       "      <td>COMPLETED</td>\n",
       "      <td>TRUE</td>\n",
       "      <td>5964.0</td>\n",
       "      <td>London</td>\n",
       "      <td>GBR</td>\n",
       "      <td>OUTBOUND</td>\n",
       "      <td>user_7086</td>\n",
       "      <td>2019-02-01 03:15:44.008645</td>\n",
       "    </tr>\n",
       "    <tr>\n",
       "      <th>15</th>\n",
       "      <td>transaction_359752</td>\n",
       "      <td>FEE</td>\n",
       "      <td>PLN</td>\n",
       "      <td>1.65</td>\n",
       "      <td>COMPLETED</td>\n",
       "      <td>None</td>\n",
       "      <td>NaN</td>\n",
       "      <td>None</td>\n",
       "      <td>None</td>\n",
       "      <td>OUTBOUND</td>\n",
       "      <td>user_7086</td>\n",
       "      <td>2019-02-17 05:55:04.990645</td>\n",
       "    </tr>\n",
       "    <tr>\n",
       "      <th>16</th>\n",
       "      <td>transaction_371956</td>\n",
       "      <td>FEE</td>\n",
       "      <td>PLN</td>\n",
       "      <td>1.99</td>\n",
       "      <td>COMPLETED</td>\n",
       "      <td>None</td>\n",
       "      <td>NaN</td>\n",
       "      <td>None</td>\n",
       "      <td>None</td>\n",
       "      <td>OUTBOUND</td>\n",
       "      <td>user_7086</td>\n",
       "      <td>2018-06-18 17:04:59.768645</td>\n",
       "    </tr>\n",
       "    <tr>\n",
       "      <th>17</th>\n",
       "      <td>transaction_373575</td>\n",
       "      <td>TOPUP</td>\n",
       "      <td>PLN</td>\n",
       "      <td>9.94</td>\n",
       "      <td>COMPLETED</td>\n",
       "      <td>None</td>\n",
       "      <td>NaN</td>\n",
       "      <td>None</td>\n",
       "      <td>None</td>\n",
       "      <td>INBOUND</td>\n",
       "      <td>user_7086</td>\n",
       "      <td>2018-06-18 17:01:53.555645</td>\n",
       "    </tr>\n",
       "    <tr>\n",
       "      <th>18</th>\n",
       "      <td>transaction_423705</td>\n",
       "      <td>FEE</td>\n",
       "      <td>PLN</td>\n",
       "      <td>1.65</td>\n",
       "      <td>COMPLETED</td>\n",
       "      <td>None</td>\n",
       "      <td>NaN</td>\n",
       "      <td>None</td>\n",
       "      <td>None</td>\n",
       "      <td>OUTBOUND</td>\n",
       "      <td>user_7086</td>\n",
       "      <td>2019-03-31 05:55:10.709645</td>\n",
       "    </tr>\n",
       "    <tr>\n",
       "      <th>19</th>\n",
       "      <td>transaction_310959</td>\n",
       "      <td>FEE</td>\n",
       "      <td>PLN</td>\n",
       "      <td>1.65</td>\n",
       "      <td>COMPLETED</td>\n",
       "      <td>None</td>\n",
       "      <td>NaN</td>\n",
       "      <td>None</td>\n",
       "      <td>None</td>\n",
       "      <td>OUTBOUND</td>\n",
       "      <td>user_7086</td>\n",
       "      <td>2018-12-02 05:57:26.329645</td>\n",
       "    </tr>\n",
       "    <tr>\n",
       "      <th>20</th>\n",
       "      <td>transaction_311137</td>\n",
       "      <td>FEE</td>\n",
       "      <td>PLN</td>\n",
       "      <td>1.65</td>\n",
       "      <td>COMPLETED</td>\n",
       "      <td>None</td>\n",
       "      <td>NaN</td>\n",
       "      <td>None</td>\n",
       "      <td>None</td>\n",
       "      <td>OUTBOUND</td>\n",
       "      <td>user_7086</td>\n",
       "      <td>2018-12-16 05:57:22.337645</td>\n",
       "    </tr>\n",
       "    <tr>\n",
       "      <th>21</th>\n",
       "      <td>transaction_313746</td>\n",
       "      <td>FEE</td>\n",
       "      <td>PLN</td>\n",
       "      <td>1.65</td>\n",
       "      <td>COMPLETED</td>\n",
       "      <td>None</td>\n",
       "      <td>NaN</td>\n",
       "      <td>None</td>\n",
       "      <td>None</td>\n",
       "      <td>OUTBOUND</td>\n",
       "      <td>user_7086</td>\n",
       "      <td>2019-01-06 05:55:17.256645</td>\n",
       "    </tr>\n",
       "    <tr>\n",
       "      <th>22</th>\n",
       "      <td>transaction_360932</td>\n",
       "      <td>FEE</td>\n",
       "      <td>PLN</td>\n",
       "      <td>1.65</td>\n",
       "      <td>COMPLETED</td>\n",
       "      <td>None</td>\n",
       "      <td>NaN</td>\n",
       "      <td>None</td>\n",
       "      <td>None</td>\n",
       "      <td>OUTBOUND</td>\n",
       "      <td>user_7086</td>\n",
       "      <td>2019-02-24 05:55:18.433645</td>\n",
       "    </tr>\n",
       "    <tr>\n",
       "      <th>23</th>\n",
       "      <td>transaction_373191</td>\n",
       "      <td>TRANSFER</td>\n",
       "      <td>PLN</td>\n",
       "      <td>3.98</td>\n",
       "      <td>CANCELLED</td>\n",
       "      <td>None</td>\n",
       "      <td>NaN</td>\n",
       "      <td>None</td>\n",
       "      <td>None</td>\n",
       "      <td>OUTBOUND</td>\n",
       "      <td>user_7086</td>\n",
       "      <td>2018-06-18 17:16:03.815645</td>\n",
       "    </tr>\n",
       "    <tr>\n",
       "      <th>24</th>\n",
       "      <td>transaction_373681</td>\n",
       "      <td>FEE</td>\n",
       "      <td>PLN</td>\n",
       "      <td>1.65</td>\n",
       "      <td>COMPLETED</td>\n",
       "      <td>None</td>\n",
       "      <td>NaN</td>\n",
       "      <td>None</td>\n",
       "      <td>None</td>\n",
       "      <td>OUTBOUND</td>\n",
       "      <td>user_7086</td>\n",
       "      <td>2019-04-07 05:55:30.101645</td>\n",
       "    </tr>\n",
       "    <tr>\n",
       "      <th>25</th>\n",
       "      <td>transaction_425750</td>\n",
       "      <td>TOPUP</td>\n",
       "      <td>PLN</td>\n",
       "      <td>3.98</td>\n",
       "      <td>COMPLETED</td>\n",
       "      <td>None</td>\n",
       "      <td>NaN</td>\n",
       "      <td>None</td>\n",
       "      <td>None</td>\n",
       "      <td>INBOUND</td>\n",
       "      <td>user_7086</td>\n",
       "      <td>2019-04-20 15:26:22.618645</td>\n",
       "    </tr>\n",
       "    <tr>\n",
       "      <th>26</th>\n",
       "      <td>transaction_474576</td>\n",
       "      <td>TOPUP</td>\n",
       "      <td>PLN</td>\n",
       "      <td>9.94</td>\n",
       "      <td>COMPLETED</td>\n",
       "      <td>None</td>\n",
       "      <td>NaN</td>\n",
       "      <td>None</td>\n",
       "      <td>None</td>\n",
       "      <td>INBOUND</td>\n",
       "      <td>user_7086</td>\n",
       "      <td>2018-11-11 04:08:10.259645</td>\n",
       "    </tr>\n",
       "    <tr>\n",
       "      <th>27</th>\n",
       "      <td>transaction_427350</td>\n",
       "      <td>FEE</td>\n",
       "      <td>PLN</td>\n",
       "      <td>1.65</td>\n",
       "      <td>COMPLETED</td>\n",
       "      <td>None</td>\n",
       "      <td>NaN</td>\n",
       "      <td>None</td>\n",
       "      <td>None</td>\n",
       "      <td>OUTBOUND</td>\n",
       "      <td>user_7086</td>\n",
       "      <td>2019-04-28 05:55:10.542645</td>\n",
       "    </tr>\n",
       "    <tr>\n",
       "      <th>28</th>\n",
       "      <td>transaction_491115</td>\n",
       "      <td>FEE</td>\n",
       "      <td>PLN</td>\n",
       "      <td>1.65</td>\n",
       "      <td>COMPLETED</td>\n",
       "      <td>None</td>\n",
       "      <td>NaN</td>\n",
       "      <td>None</td>\n",
       "      <td>None</td>\n",
       "      <td>OUTBOUND</td>\n",
       "      <td>user_7086</td>\n",
       "      <td>2019-01-20 05:55:09.831645</td>\n",
       "    </tr>\n",
       "    <tr>\n",
       "      <th>29</th>\n",
       "      <td>transaction_478688</td>\n",
       "      <td>FEE</td>\n",
       "      <td>PLN</td>\n",
       "      <td>1.65</td>\n",
       "      <td>COMPLETED</td>\n",
       "      <td>None</td>\n",
       "      <td>NaN</td>\n",
       "      <td>None</td>\n",
       "      <td>None</td>\n",
       "      <td>OUTBOUND</td>\n",
       "      <td>user_7086</td>\n",
       "      <td>2018-11-18 05:57:46.317645</td>\n",
       "    </tr>\n",
       "    <tr>\n",
       "      <th>30</th>\n",
       "      <td>transaction_484106</td>\n",
       "      <td>FEE</td>\n",
       "      <td>PLN</td>\n",
       "      <td>1.65</td>\n",
       "      <td>COMPLETED</td>\n",
       "      <td>None</td>\n",
       "      <td>NaN</td>\n",
       "      <td>None</td>\n",
       "      <td>None</td>\n",
       "      <td>OUTBOUND</td>\n",
       "      <td>user_7086</td>\n",
       "      <td>2018-12-30 05:57:20.305645</td>\n",
       "    </tr>\n",
       "    <tr>\n",
       "      <th>31</th>\n",
       "      <td>transaction_491738</td>\n",
       "      <td>FEE</td>\n",
       "      <td>PLN</td>\n",
       "      <td>1.65</td>\n",
       "      <td>COMPLETED</td>\n",
       "      <td>None</td>\n",
       "      <td>NaN</td>\n",
       "      <td>None</td>\n",
       "      <td>None</td>\n",
       "      <td>OUTBOUND</td>\n",
       "      <td>user_7086</td>\n",
       "      <td>2019-01-27 05:55:20.687645</td>\n",
       "    </tr>\n",
       "    <tr>\n",
       "      <th>32</th>\n",
       "      <td>transaction_615353</td>\n",
       "      <td>TOPUP</td>\n",
       "      <td>PLN</td>\n",
       "      <td>0.20</td>\n",
       "      <td>REVERTED</td>\n",
       "      <td>None</td>\n",
       "      <td>NaN</td>\n",
       "      <td>None</td>\n",
       "      <td>None</td>\n",
       "      <td>INBOUND</td>\n",
       "      <td>user_7086</td>\n",
       "      <td>2018-09-19 17:32:55.645645</td>\n",
       "    </tr>\n",
       "    <tr>\n",
       "      <th>33</th>\n",
       "      <td>transaction_492420</td>\n",
       "      <td>FEE</td>\n",
       "      <td>PLN</td>\n",
       "      <td>1.65</td>\n",
       "      <td>COMPLETED</td>\n",
       "      <td>None</td>\n",
       "      <td>NaN</td>\n",
       "      <td>None</td>\n",
       "      <td>None</td>\n",
       "      <td>OUTBOUND</td>\n",
       "      <td>user_7086</td>\n",
       "      <td>2019-02-03 05:55:05.405645</td>\n",
       "    </tr>\n",
       "    <tr>\n",
       "      <th>34</th>\n",
       "      <td>transaction_525948</td>\n",
       "      <td>TOPUP</td>\n",
       "      <td>PLN</td>\n",
       "      <td>9.94</td>\n",
       "      <td>COMPLETED</td>\n",
       "      <td>None</td>\n",
       "      <td>NaN</td>\n",
       "      <td>None</td>\n",
       "      <td>None</td>\n",
       "      <td>INBOUND</td>\n",
       "      <td>user_7086</td>\n",
       "      <td>2019-03-01 22:01:26.265645</td>\n",
       "    </tr>\n",
       "    <tr>\n",
       "      <th>35</th>\n",
       "      <td>transaction_534698</td>\n",
       "      <td>TOPUP</td>\n",
       "      <td>PLN</td>\n",
       "      <td>3.98</td>\n",
       "      <td>COMPLETED</td>\n",
       "      <td>None</td>\n",
       "      <td>NaN</td>\n",
       "      <td>None</td>\n",
       "      <td>None</td>\n",
       "      <td>INBOUND</td>\n",
       "      <td>user_7086</td>\n",
       "      <td>2019-03-28 00:20:28.888645</td>\n",
       "    </tr>\n",
       "    <tr>\n",
       "      <th>36</th>\n",
       "      <td>transaction_537100</td>\n",
       "      <td>FEE</td>\n",
       "      <td>PLN</td>\n",
       "      <td>1.65</td>\n",
       "      <td>COMPLETED</td>\n",
       "      <td>None</td>\n",
       "      <td>NaN</td>\n",
       "      <td>None</td>\n",
       "      <td>None</td>\n",
       "      <td>OUTBOUND</td>\n",
       "      <td>user_7086</td>\n",
       "      <td>2019-04-14 05:55:11.386645</td>\n",
       "    </tr>\n",
       "    <tr>\n",
       "      <th>37</th>\n",
       "      <td>transaction_607119</td>\n",
       "      <td>FEE</td>\n",
       "      <td>PLN</td>\n",
       "      <td>1.65</td>\n",
       "      <td>COMPLETED</td>\n",
       "      <td>None</td>\n",
       "      <td>NaN</td>\n",
       "      <td>None</td>\n",
       "      <td>None</td>\n",
       "      <td>OUTBOUND</td>\n",
       "      <td>user_7086</td>\n",
       "      <td>2019-05-05 05:55:22.755645</td>\n",
       "    </tr>\n",
       "    <tr>\n",
       "      <th>38</th>\n",
       "      <td>transaction_624032</td>\n",
       "      <td>FEE</td>\n",
       "      <td>PLN</td>\n",
       "      <td>1.65</td>\n",
       "      <td>COMPLETED</td>\n",
       "      <td>None</td>\n",
       "      <td>NaN</td>\n",
       "      <td>None</td>\n",
       "      <td>None</td>\n",
       "      <td>OUTBOUND</td>\n",
       "      <td>user_7086</td>\n",
       "      <td>2019-03-10 05:55:18.547645</td>\n",
       "    </tr>\n",
       "    <tr>\n",
       "      <th>39</th>\n",
       "      <td>transaction_620492</td>\n",
       "      <td>FEE</td>\n",
       "      <td>PLN</td>\n",
       "      <td>1.65</td>\n",
       "      <td>COMPLETED</td>\n",
       "      <td>None</td>\n",
       "      <td>NaN</td>\n",
       "      <td>None</td>\n",
       "      <td>None</td>\n",
       "      <td>OUTBOUND</td>\n",
       "      <td>user_7086</td>\n",
       "      <td>2019-02-10 05:55:19.542645</td>\n",
       "    </tr>\n",
       "    <tr>\n",
       "      <th>40</th>\n",
       "      <td>transaction_627217</td>\n",
       "      <td>FEE</td>\n",
       "      <td>PLN</td>\n",
       "      <td>1.65</td>\n",
       "      <td>COMPLETED</td>\n",
       "      <td>None</td>\n",
       "      <td>NaN</td>\n",
       "      <td>None</td>\n",
       "      <td>None</td>\n",
       "      <td>OUTBOUND</td>\n",
       "      <td>user_7086</td>\n",
       "      <td>2019-04-21 05:55:22.655645</td>\n",
       "    </tr>\n",
       "    <tr>\n",
       "      <th>41</th>\n",
       "      <td>transaction_629019</td>\n",
       "      <td>FEE</td>\n",
       "      <td>PLN</td>\n",
       "      <td>1.65</td>\n",
       "      <td>COMPLETED</td>\n",
       "      <td>None</td>\n",
       "      <td>NaN</td>\n",
       "      <td>None</td>\n",
       "      <td>None</td>\n",
       "      <td>OUTBOUND</td>\n",
       "      <td>user_7086</td>\n",
       "      <td>2019-03-03 05:55:04.834645</td>\n",
       "    </tr>\n",
       "    <tr>\n",
       "      <th>42</th>\n",
       "      <td>transaction_629929</td>\n",
       "      <td>CARD_PAYMENT</td>\n",
       "      <td>PLN</td>\n",
       "      <td>2.16</td>\n",
       "      <td>COMPLETED</td>\n",
       "      <td>TRUE</td>\n",
       "      <td>5964.0</td>\n",
       "      <td>London</td>\n",
       "      <td>GBR</td>\n",
       "      <td>OUTBOUND</td>\n",
       "      <td>user_7086</td>\n",
       "      <td>2019-03-27 20:18:55.942645</td>\n",
       "    </tr>\n",
       "    <tr>\n",
       "      <th>43</th>\n",
       "      <td>transaction_631600</td>\n",
       "      <td>CARD_PAYMENT</td>\n",
       "      <td>PLN</td>\n",
       "      <td>1.29</td>\n",
       "      <td>COMPLETED</td>\n",
       "      <td>TRUE</td>\n",
       "      <td>5999.0</td>\n",
       "      <td>London</td>\n",
       "      <td>GBR</td>\n",
       "      <td>OUTBOUND</td>\n",
       "      <td>user_7086</td>\n",
       "      <td>2019-03-01 23:43:42.894645</td>\n",
       "    </tr>\n",
       "    <tr>\n",
       "      <th>44</th>\n",
       "      <td>transaction_633289</td>\n",
       "      <td>FEE</td>\n",
       "      <td>PLN</td>\n",
       "      <td>1.65</td>\n",
       "      <td>COMPLETED</td>\n",
       "      <td>None</td>\n",
       "      <td>NaN</td>\n",
       "      <td>None</td>\n",
       "      <td>None</td>\n",
       "      <td>OUTBOUND</td>\n",
       "      <td>user_7086</td>\n",
       "      <td>2019-03-17 05:55:08.603645</td>\n",
       "    </tr>\n",
       "    <tr>\n",
       "      <th>45</th>\n",
       "      <td>transaction_637874</td>\n",
       "      <td>FEE</td>\n",
       "      <td>PLN</td>\n",
       "      <td>1.65</td>\n",
       "      <td>COMPLETED</td>\n",
       "      <td>None</td>\n",
       "      <td>NaN</td>\n",
       "      <td>None</td>\n",
       "      <td>None</td>\n",
       "      <td>OUTBOUND</td>\n",
       "      <td>user_7086</td>\n",
       "      <td>2019-01-13 05:57:20.001645</td>\n",
       "    </tr>\n",
       "    <tr>\n",
       "      <th>46</th>\n",
       "      <td>transaction_646159</td>\n",
       "      <td>FEE</td>\n",
       "      <td>PLN</td>\n",
       "      <td>1.65</td>\n",
       "      <td>COMPLETED</td>\n",
       "      <td>None</td>\n",
       "      <td>NaN</td>\n",
       "      <td>None</td>\n",
       "      <td>None</td>\n",
       "      <td>OUTBOUND</td>\n",
       "      <td>user_7086</td>\n",
       "      <td>2019-03-24 05:55:27.616645</td>\n",
       "    </tr>\n",
       "  </tbody>\n",
       "</table>\n",
       "</div>"
      ],
      "text/plain": [
       "        transaction_id transactions_type transactions_currency  amount_usd  \\\n",
       "0   transaction_243493      CARD_PAYMENT                   PLN        1.19   \n",
       "1   transaction_242837             TOPUP                   PLN        0.20   \n",
       "2   transaction_243494      CARD_PAYMENT                   PLN        1.19   \n",
       "3   transaction_308619               FEE                   PLN        1.65   \n",
       "4   transaction_294844      CARD_PAYMENT                   PLN        2.93   \n",
       "5   transaction_298143             TOPUP                   PLN        5.96   \n",
       "6   transaction_307955             TOPUP                   PLN        9.94   \n",
       "7   transaction_300105      CARD_PAYMENT                   PLN        8.04   \n",
       "8   transaction_300143             TOPUP                   PLN        5.96   \n",
       "9   transaction_303738               FEE                   PLN        1.65   \n",
       "10  transaction_308909               FEE                   PLN        1.65   \n",
       "11  transaction_425646      CARD_PAYMENT                   PLN        2.93   \n",
       "12  transaction_312113               FEE                   PLN        1.65   \n",
       "13  transaction_355487             TOPUP                   PLN        9.94   \n",
       "14  transaction_357460      CARD_PAYMENT                   PLN        1.98   \n",
       "15  transaction_359752               FEE                   PLN        1.65   \n",
       "16  transaction_371956               FEE                   PLN        1.99   \n",
       "17  transaction_373575             TOPUP                   PLN        9.94   \n",
       "18  transaction_423705               FEE                   PLN        1.65   \n",
       "19  transaction_310959               FEE                   PLN        1.65   \n",
       "20  transaction_311137               FEE                   PLN        1.65   \n",
       "21  transaction_313746               FEE                   PLN        1.65   \n",
       "22  transaction_360932               FEE                   PLN        1.65   \n",
       "23  transaction_373191          TRANSFER                   PLN        3.98   \n",
       "24  transaction_373681               FEE                   PLN        1.65   \n",
       "25  transaction_425750             TOPUP                   PLN        3.98   \n",
       "26  transaction_474576             TOPUP                   PLN        9.94   \n",
       "27  transaction_427350               FEE                   PLN        1.65   \n",
       "28  transaction_491115               FEE                   PLN        1.65   \n",
       "29  transaction_478688               FEE                   PLN        1.65   \n",
       "30  transaction_484106               FEE                   PLN        1.65   \n",
       "31  transaction_491738               FEE                   PLN        1.65   \n",
       "32  transaction_615353             TOPUP                   PLN        0.20   \n",
       "33  transaction_492420               FEE                   PLN        1.65   \n",
       "34  transaction_525948             TOPUP                   PLN        9.94   \n",
       "35  transaction_534698             TOPUP                   PLN        3.98   \n",
       "36  transaction_537100               FEE                   PLN        1.65   \n",
       "37  transaction_607119               FEE                   PLN        1.65   \n",
       "38  transaction_624032               FEE                   PLN        1.65   \n",
       "39  transaction_620492               FEE                   PLN        1.65   \n",
       "40  transaction_627217               FEE                   PLN        1.65   \n",
       "41  transaction_629019               FEE                   PLN        1.65   \n",
       "42  transaction_629929      CARD_PAYMENT                   PLN        2.16   \n",
       "43  transaction_631600      CARD_PAYMENT                   PLN        1.29   \n",
       "44  transaction_633289               FEE                   PLN        1.65   \n",
       "45  transaction_637874               FEE                   PLN        1.65   \n",
       "46  transaction_646159               FEE                   PLN        1.65   \n",
       "\n",
       "   transactions_state ea_cardholderpresence  ea_merchant_mcc ea_merchant_city  \\\n",
       "0           COMPLETED                 FALSE           5812.0          Gliwice   \n",
       "1            REVERTED                  None              NaN             None   \n",
       "2           COMPLETED                 FALSE           5812.0          Gliwice   \n",
       "3           COMPLETED                  None              NaN             None   \n",
       "4           COMPLETED                  TRUE           4215.0          Alacant   \n",
       "5              FAILED                  None              NaN             None   \n",
       "6           COMPLETED                  None              NaN             None   \n",
       "7           COMPLETED                  TRUE           5964.0           London   \n",
       "8           COMPLETED                  None              NaN             None   \n",
       "9           COMPLETED                  None              NaN             None   \n",
       "10          COMPLETED                  None              NaN             None   \n",
       "11           DECLINED                  TRUE           4215.0          Alacant   \n",
       "12          COMPLETED                  None              NaN             None   \n",
       "13          COMPLETED                  None              NaN             None   \n",
       "14          COMPLETED                  TRUE           5964.0           London   \n",
       "15          COMPLETED                  None              NaN             None   \n",
       "16          COMPLETED                  None              NaN             None   \n",
       "17          COMPLETED                  None              NaN             None   \n",
       "18          COMPLETED                  None              NaN             None   \n",
       "19          COMPLETED                  None              NaN             None   \n",
       "20          COMPLETED                  None              NaN             None   \n",
       "21          COMPLETED                  None              NaN             None   \n",
       "22          COMPLETED                  None              NaN             None   \n",
       "23          CANCELLED                  None              NaN             None   \n",
       "24          COMPLETED                  None              NaN             None   \n",
       "25          COMPLETED                  None              NaN             None   \n",
       "26          COMPLETED                  None              NaN             None   \n",
       "27          COMPLETED                  None              NaN             None   \n",
       "28          COMPLETED                  None              NaN             None   \n",
       "29          COMPLETED                  None              NaN             None   \n",
       "30          COMPLETED                  None              NaN             None   \n",
       "31          COMPLETED                  None              NaN             None   \n",
       "32           REVERTED                  None              NaN             None   \n",
       "33          COMPLETED                  None              NaN             None   \n",
       "34          COMPLETED                  None              NaN             None   \n",
       "35          COMPLETED                  None              NaN             None   \n",
       "36          COMPLETED                  None              NaN             None   \n",
       "37          COMPLETED                  None              NaN             None   \n",
       "38          COMPLETED                  None              NaN             None   \n",
       "39          COMPLETED                  None              NaN             None   \n",
       "40          COMPLETED                  None              NaN             None   \n",
       "41          COMPLETED                  None              NaN             None   \n",
       "42          COMPLETED                  TRUE           5964.0           London   \n",
       "43          COMPLETED                  TRUE           5999.0           London   \n",
       "44          COMPLETED                  None              NaN             None   \n",
       "45          COMPLETED                  None              NaN             None   \n",
       "46          COMPLETED                  None              NaN             None   \n",
       "\n",
       "   ea_merchant_country direction    user_id               created_date  \n",
       "0                  POL  OUTBOUND  user_7086 2018-07-06 03:28:57.017645  \n",
       "1                 None   INBOUND  user_7086 2018-06-18 17:01:36.755645  \n",
       "2                  POL  OUTBOUND  user_7086 2018-07-06 02:57:55.184645  \n",
       "3                 None  OUTBOUND  user_7086 2018-12-09 05:55:09.789645  \n",
       "4                  ESP  OUTBOUND  user_7086 2018-07-25 17:05:29.992645  \n",
       "5                 None   INBOUND  user_7086 2018-09-19 17:18:07.415645  \n",
       "6                 None   INBOUND  user_7086 2018-12-05 02:08:01.494645  \n",
       "7                  GBR  OUTBOUND  user_7086 2018-09-20 00:39:40.795645  \n",
       "8                 None   INBOUND  user_7086 2018-09-19 17:33:09.522645  \n",
       "9                 None  OUTBOUND  user_7086 2018-11-11 04:10:06.369645  \n",
       "10                None  OUTBOUND  user_7086 2018-11-25 05:55:05.959645  \n",
       "11                 ESP  OUTBOUND  user_7086 2018-07-25 16:57:46.945645  \n",
       "12                None  OUTBOUND  user_7086 2018-12-23 05:55:13.978645  \n",
       "13                None   INBOUND  user_7086 2019-01-17 03:11:43.424645  \n",
       "14                 GBR  OUTBOUND  user_7086 2019-02-01 03:15:44.008645  \n",
       "15                None  OUTBOUND  user_7086 2019-02-17 05:55:04.990645  \n",
       "16                None  OUTBOUND  user_7086 2018-06-18 17:04:59.768645  \n",
       "17                None   INBOUND  user_7086 2018-06-18 17:01:53.555645  \n",
       "18                None  OUTBOUND  user_7086 2019-03-31 05:55:10.709645  \n",
       "19                None  OUTBOUND  user_7086 2018-12-02 05:57:26.329645  \n",
       "20                None  OUTBOUND  user_7086 2018-12-16 05:57:22.337645  \n",
       "21                None  OUTBOUND  user_7086 2019-01-06 05:55:17.256645  \n",
       "22                None  OUTBOUND  user_7086 2019-02-24 05:55:18.433645  \n",
       "23                None  OUTBOUND  user_7086 2018-06-18 17:16:03.815645  \n",
       "24                None  OUTBOUND  user_7086 2019-04-07 05:55:30.101645  \n",
       "25                None   INBOUND  user_7086 2019-04-20 15:26:22.618645  \n",
       "26                None   INBOUND  user_7086 2018-11-11 04:08:10.259645  \n",
       "27                None  OUTBOUND  user_7086 2019-04-28 05:55:10.542645  \n",
       "28                None  OUTBOUND  user_7086 2019-01-20 05:55:09.831645  \n",
       "29                None  OUTBOUND  user_7086 2018-11-18 05:57:46.317645  \n",
       "30                None  OUTBOUND  user_7086 2018-12-30 05:57:20.305645  \n",
       "31                None  OUTBOUND  user_7086 2019-01-27 05:55:20.687645  \n",
       "32                None   INBOUND  user_7086 2018-09-19 17:32:55.645645  \n",
       "33                None  OUTBOUND  user_7086 2019-02-03 05:55:05.405645  \n",
       "34                None   INBOUND  user_7086 2019-03-01 22:01:26.265645  \n",
       "35                None   INBOUND  user_7086 2019-03-28 00:20:28.888645  \n",
       "36                None  OUTBOUND  user_7086 2019-04-14 05:55:11.386645  \n",
       "37                None  OUTBOUND  user_7086 2019-05-05 05:55:22.755645  \n",
       "38                None  OUTBOUND  user_7086 2019-03-10 05:55:18.547645  \n",
       "39                None  OUTBOUND  user_7086 2019-02-10 05:55:19.542645  \n",
       "40                None  OUTBOUND  user_7086 2019-04-21 05:55:22.655645  \n",
       "41                None  OUTBOUND  user_7086 2019-03-03 05:55:04.834645  \n",
       "42                 GBR  OUTBOUND  user_7086 2019-03-27 20:18:55.942645  \n",
       "43                 GBR  OUTBOUND  user_7086 2019-03-01 23:43:42.894645  \n",
       "44                None  OUTBOUND  user_7086 2019-03-17 05:55:08.603645  \n",
       "45                None  OUTBOUND  user_7086 2019-01-13 05:57:20.001645  \n",
       "46                None  OUTBOUND  user_7086 2019-03-24 05:55:27.616645  "
      ]
     },
     "execution_count": 92,
     "metadata": {},
     "output_type": "execute_result"
    }
   ],
   "source": [
    "data_transactions_tmp"
   ]
  },
  {
   "cell_type": "code",
   "execution_count": 93,
   "metadata": {},
   "outputs": [
    {
     "data": {
      "text/html": [
       "<div>\n",
       "<style scoped>\n",
       "    .dataframe tbody tr th:only-of-type {\n",
       "        vertical-align: middle;\n",
       "    }\n",
       "\n",
       "    .dataframe tbody tr th {\n",
       "        vertical-align: top;\n",
       "    }\n",
       "\n",
       "    .dataframe thead th {\n",
       "        text-align: right;\n",
       "    }\n",
       "</style>\n",
       "<table border=\"1\" class=\"dataframe\">\n",
       "  <thead>\n",
       "    <tr style=\"text-align: right;\">\n",
       "      <th></th>\n",
       "      <th>reason</th>\n",
       "      <th>channel</th>\n",
       "      <th>status</th>\n",
       "      <th>user_id</th>\n",
       "      <th>created_date</th>\n",
       "    </tr>\n",
       "  </thead>\n",
       "  <tbody>\n",
       "    <tr>\n",
       "      <th>0</th>\n",
       "      <td>REENGAGEMENT_ACTIVE_FUNDS</td>\n",
       "      <td>PUSH</td>\n",
       "      <td>SENT</td>\n",
       "      <td>user_7086</td>\n",
       "      <td>2018-11-17 18:12:38.112645</td>\n",
       "    </tr>\n",
       "    <tr>\n",
       "      <th>1</th>\n",
       "      <td>REENGAGEMENT_ACTIVE_FUNDS</td>\n",
       "      <td>PUSH</td>\n",
       "      <td>SENT</td>\n",
       "      <td>user_7086</td>\n",
       "      <td>2018-12-02 17:58:33.320645</td>\n",
       "    </tr>\n",
       "    <tr>\n",
       "      <th>2</th>\n",
       "      <td>REENGAGEMENT_ACTIVE_FUNDS</td>\n",
       "      <td>PUSH</td>\n",
       "      <td>SENT</td>\n",
       "      <td>user_7086</td>\n",
       "      <td>2018-12-21 18:03:53.943645</td>\n",
       "    </tr>\n",
       "    <tr>\n",
       "      <th>3</th>\n",
       "      <td>REENGAGEMENT_ACTIVE_FUNDS</td>\n",
       "      <td>PUSH</td>\n",
       "      <td>SENT</td>\n",
       "      <td>user_7086</td>\n",
       "      <td>2018-12-27 17:59:46.786645</td>\n",
       "    </tr>\n",
       "    <tr>\n",
       "      <th>4</th>\n",
       "      <td>REENGAGEMENT_ACTIVE_FUNDS</td>\n",
       "      <td>PUSH</td>\n",
       "      <td>SENT</td>\n",
       "      <td>user_7086</td>\n",
       "      <td>2019-01-11 17:59:44.400645</td>\n",
       "    </tr>\n",
       "    <tr>\n",
       "      <th>5</th>\n",
       "      <td>REENGAGEMENT_ACTIVE_FUNDS</td>\n",
       "      <td>PUSH</td>\n",
       "      <td>SENT</td>\n",
       "      <td>user_7086</td>\n",
       "      <td>2019-01-23 18:06:10.731645</td>\n",
       "    </tr>\n",
       "  </tbody>\n",
       "</table>\n",
       "</div>"
      ],
      "text/plain": [
       "                      reason channel status    user_id  \\\n",
       "0  REENGAGEMENT_ACTIVE_FUNDS    PUSH   SENT  user_7086   \n",
       "1  REENGAGEMENT_ACTIVE_FUNDS    PUSH   SENT  user_7086   \n",
       "2  REENGAGEMENT_ACTIVE_FUNDS    PUSH   SENT  user_7086   \n",
       "3  REENGAGEMENT_ACTIVE_FUNDS    PUSH   SENT  user_7086   \n",
       "4  REENGAGEMENT_ACTIVE_FUNDS    PUSH   SENT  user_7086   \n",
       "5  REENGAGEMENT_ACTIVE_FUNDS    PUSH   SENT  user_7086   \n",
       "\n",
       "                created_date  \n",
       "0 2018-11-17 18:12:38.112645  \n",
       "1 2018-12-02 17:58:33.320645  \n",
       "2 2018-12-21 18:03:53.943645  \n",
       "3 2018-12-27 17:59:46.786645  \n",
       "4 2019-01-11 17:59:44.400645  \n",
       "5 2019-01-23 18:06:10.731645  "
      ]
     },
     "execution_count": 93,
     "metadata": {},
     "output_type": "execute_result"
    }
   ],
   "source": [
    "data_notifications_tmp"
   ]
  },
  {
   "cell_type": "code",
   "execution_count": 94,
   "metadata": {},
   "outputs": [],
   "source": [
    "data_campaign_agg = data_campaign.groupby(['user_id']).agg({'reason': ['count']}).reset_index()"
   ]
  },
  {
   "cell_type": "code",
   "execution_count": 95,
   "metadata": {},
   "outputs": [],
   "source": [
    "data_campaign_agg.columns = ['user_id', 'reason_count']"
   ]
  },
  {
   "cell_type": "code",
   "execution_count": 96,
   "metadata": {},
   "outputs": [
    {
     "data": {
      "image/png": "[encoded data removed]",
      "text/plain": [
       "<Figure size 1080x720 with 1 Axes>"
      ]
     },
     "metadata": {},
     "output_type": "display_data"
    }
   ],
   "source": [
    "# Plotting the distribution of notifications per user for the marketing campaign\n",
    "import pandas as pd\n",
    "import matplotlib.pyplot as plt\n",
    "\n",
    "fig, ax = plt.subplots(1,1,figsize=(15,10))\n",
    "data_campaign_agg['reason_count'].plot.kde(ax=ax, legend=False, title='Count of REENGAGEMENT_ACTIVE_FUNDS')\n",
    "data_campaign_agg['reason_count'].plot.hist(density=True, ax=ax)\n",
    "ax.set_ylabel('Probability')\n",
    "ax.grid(axis='y')\n",
    "ax.set_facecolor('#d8dcd6')"
   ]
  },
  {
   "cell_type": "code",
   "execution_count": 97,
   "metadata": {},
   "outputs": [],
   "source": [
    "data_campaign_agg_contacted_once = data_campaign_agg[data_campaign_agg['reason_count']<2]"
   ]
  },
  {
   "cell_type": "code",
   "execution_count": 98,
   "metadata": {},
   "outputs": [
    {
     "data": {
      "text/html": [
       "<div>\n",
       "<style scoped>\n",
       "    .dataframe tbody tr th:only-of-type {\n",
       "        vertical-align: middle;\n",
       "    }\n",
       "\n",
       "    .dataframe tbody tr th {\n",
       "        vertical-align: top;\n",
       "    }\n",
       "\n",
       "    .dataframe thead th {\n",
       "        text-align: right;\n",
       "    }\n",
       "</style>\n",
       "<table border=\"1\" class=\"dataframe\">\n",
       "  <thead>\n",
       "    <tr style=\"text-align: right;\">\n",
       "      <th></th>\n",
       "      <th>user_id</th>\n",
       "      <th>reason_count</th>\n",
       "    </tr>\n",
       "  </thead>\n",
       "  <tbody>\n",
       "    <tr>\n",
       "      <th>8</th>\n",
       "      <td>user_10007</td>\n",
       "      <td>1</td>\n",
       "    </tr>\n",
       "    <tr>\n",
       "      <th>9</th>\n",
       "      <td>user_10009</td>\n",
       "      <td>1</td>\n",
       "    </tr>\n",
       "    <tr>\n",
       "      <th>13</th>\n",
       "      <td>user_10013</td>\n",
       "      <td>1</td>\n",
       "    </tr>\n",
       "    <tr>\n",
       "      <th>17</th>\n",
       "      <td>user_10018</td>\n",
       "      <td>1</td>\n",
       "    </tr>\n",
       "    <tr>\n",
       "      <th>19</th>\n",
       "      <td>user_1002</td>\n",
       "      <td>1</td>\n",
       "    </tr>\n",
       "  </tbody>\n",
       "</table>\n",
       "</div>"
      ],
      "text/plain": [
       "       user_id  reason_count\n",
       "8   user_10007             1\n",
       "9   user_10009             1\n",
       "13  user_10013             1\n",
       "17  user_10018             1\n",
       "19   user_1002             1"
      ]
     },
     "execution_count": 98,
     "metadata": {},
     "output_type": "execute_result"
    }
   ],
   "source": [
    "data_campaign_agg_contacted_once.head()"
   ]
  },
  {
   "cell_type": "markdown",
   "metadata": {},
   "source": [
    "Firstly, to make things simple, we only sample from the users that have only been contacted for this marketing campaign once and see if we can observe a significant change in terms of transaction volume before and after the REENGAGEMENT_ACTIVE_FUNDS notification."
   ]
  },
  {
   "cell_type": "code",
   "execution_count": 99,
   "metadata": {},
   "outputs": [],
   "source": [
    "# The result from the normality test (shown later) shows that the samples do not follow normal distribution. \n",
    "# This means we need to have sufficient sample size (therefore sample size = 100) to maintain t-Test's validity.\n",
    "\n",
    "user_sample_list = list(data_campaign_agg_contacted_once['user_id'].sample(n=100, random_state=1))"
   ]
  },
  {
   "cell_type": "code",
   "execution_count": 100,
   "metadata": {},
   "outputs": [
    {
     "name": "stderr",
     "output_type": "stream",
     "text": [
      "/home/jiacheng/anaconda3/lib/python3.7/site-packages/pandas/core/frame.py:4025: SettingWithCopyWarning: \n",
      "A value is trying to be set on a copy of a slice from a DataFrame\n",
      "\n",
      "See the caveats in the documentation: http://pandas.pydata.org/pandas-docs/stable/indexing.html#indexing-view-versus-copy\n",
      "  return super(DataFrame, self).rename(**kwargs)\n"
     ]
    }
   ],
   "source": [
    "from datetime import datetime\n",
    "from datetime import timedelta\n",
    "\n",
    "delta_monthly_volume_list = []\n",
    "for tmp_user in user_sample_list:\n",
    "    data_user_tmp =data_user[data_user['user_id']==tmp_user]\n",
    "\n",
    "    # reverted transactions will not be counted for obvious reasons\n",
    "    data_transactions_tmp = pd.read_sql('SELECT * FROM transactions WHERE user_id = \\'{}\\' and transactions_state <> \\'REVERTED\\''.format(tmp_user), conn)\n",
    "    data_notifications_tmp = data_notifications[(data_notifications['user_id']==tmp_user) & (data_notifications['reason']=='REENGAGEMENT_ACTIVE_FUNDS')]\n",
    "\n",
    "    data_transactions_tmp.rename(columns={'created_date':'transaction_date'}, inplace=True)\n",
    "    data_notifications_tmp.rename(columns={'created_date':'notification_date'}, inplace=True)\n",
    "\n",
    "    notification_time = list(data_notifications_tmp['notification_date'])[0]\n",
    "    notification_time_plus = notification_time + timedelta(days=30)\n",
    "    notification_time_minus = notification_time - timedelta(days=30)\n",
    "\n",
    "    transactions_before = data_transactions_tmp[(data_transactions_tmp['transaction_date'] > notification_time_minus) \n",
    "                          & (data_transactions_tmp['transaction_date'] < notification_time)]\n",
    "\n",
    "    transactions_after = data_transactions_tmp[(data_transactions_tmp['transaction_date'] > notification_time) \n",
    "                          & (data_transactions_tmp['transaction_date'] < notification_time_plus)]\n",
    "    delta_monthly_volume = transactions_after.shape[0] - transactions_before.shape[0]\n",
    "    delta_monthly_volume_list.append(delta_monthly_volume)"
   ]
  },
  {
   "cell_type": "code",
   "execution_count": 101,
   "metadata": {},
   "outputs": [
    {
     "data": {
      "text/plain": [
       "NormaltestResult(statistic=63.861280964366244, pvalue=1.357372464668283e-14)"
      ]
     },
     "execution_count": 101,
     "metadata": {},
     "output_type": "execute_result"
    }
   ],
   "source": [
    "import scipy.stats as stat# perform normality test\n",
    "stat.normaltest(delta_monthly_volume_list)"
   ]
  },
  {
   "cell_type": "markdown",
   "metadata": {},
   "source": [
    "The result from the normality test shows that the samples do not follow normal distribution. This means we need to have sufficient sample size (therefore sample size = 100) to maintain t-Test's validity."
   ]
  },
  {
   "cell_type": "code",
   "execution_count": 102,
   "metadata": {},
   "outputs": [
    {
     "data": {
      "image/png": "[encoded data removed]",
      "text/plain": [
       "<Figure size 1080x720 with 1 Axes>"
      ]
     },
     "metadata": {},
     "output_type": "display_data"
    }
   ],
   "source": [
    "import pandas as pd\n",
    "import matplotlib.pyplot as plt\n",
    "\n",
    "df_delta_monthly_volume_list = pd.Series(delta_monthly_volume_list)\n",
    "\n",
    "fig, ax = plt.subplots(1,1,figsize=(15,10))\n",
    "df_delta_monthly_volume_list.plot.kde(ax=ax, legend=False, title='$\\Delta 𝑀𝑜𝑛𝑡ℎ𝑙𝑦𝑇𝑟𝑎𝑛𝑠𝑎𝑐𝑡𝑖𝑜𝑛𝑉𝑜𝑙𝑢𝑚𝑒$')\n",
    "df_delta_monthly_volume_list.plot.hist(density=True, ax=ax)\n",
    "ax.set_ylabel('Probability')\n",
    "ax.grid(axis='y')\n",
    "ax.set_facecolor('#d8dcd6')"
   ]
  },
  {
   "cell_type": "code",
   "execution_count": 103,
   "metadata": {},
   "outputs": [
    {
     "data": {
      "text/plain": [
       "Ttest_1sampResult(statistic=2.554741097702788, pvalue=0.012149631713616604)"
      ]
     },
     "execution_count": 103,
     "metadata": {},
     "output_type": "execute_result"
    }
   ],
   "source": [
    "# 1 Sample t-Test Result:\n",
    "stat.ttest_1samp(delta_monthly_volume_list, 0)"
   ]
  },
  {
   "cell_type": "markdown",
   "metadata": {},
   "source": [
    "$p<\\alpha$, which means Hₒ: $\\mu \\Delta Monthly Transaction Volume =0$ is rejected. \n",
    "\n",
    "**Therefore the marketing campaign is effective**!"
   ]
  },
  {
   "cell_type": "code",
   "execution_count": null,
   "metadata": {},
   "outputs": [],
   "source": []
  },
  {
   "cell_type": "code",
   "execution_count": null,
   "metadata": {},
   "outputs": [],
   "source": []
  }
 ],
 "metadata": {
  "kernelspec": {
   "display_name": "Python 3",
   "language": "python",
   "name": "python3"
  },
  "language_info": {
   "codemirror_mode": {
    "name": "ipython",
    "version": 3
   },
   "file_extension": ".py",
   "mimetype": "text/x-python",
   "name": "python",
   "nbconvert_exporter": "python",
   "pygments_lexer": "ipython3",
   "version": "3.7.6"
  }
 },
 "nbformat": 4,
 "nbformat_minor": 2
}
