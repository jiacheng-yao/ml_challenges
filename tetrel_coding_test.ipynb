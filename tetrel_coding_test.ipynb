{
 "cells": [
  {
   "cell_type": "code",
   "execution_count": 1,
   "metadata": {},
   "outputs": [],
   "source": [
    "\"\"\"Deduplication of various data types.\"\"\"\n",
    "from typing import Dict, List, Tuple\n",
    "\n",
    "\n",
    "def dedup_ints(list_of_ints: Tuple[int]) -> Tuple[int]:\n",
    "    \"\"\"Deduplicate and sort integers by ascending value.\"\"\"\n",
    "    return tuple(set(list_of_ints))\n",
    "\n",
    "\n",
    "def dedup_dicts(list_of_dicts: List[Dict]) -> List[Dict]:\n",
    "    \"\"\"Deduplicate a list of dicts.\n",
    "\n",
    "    Two dicts are considered equal if all of their keys and values match.\n",
    "    \"\"\"\n",
    "    return list({frozenset(item.items()):item for item in list_of_dicts}.values())\n",
    "\n",
    "\n",
    "def dedup_dicts_on_key(list_of_dicts: List[Dict], dedup_on: List[str]) -> List[Dict]:\n",
    "    \"\"\"Deduplicate a list of dicts on a subset of keys only.\n",
    "\n",
    "    Dicts should only be considered equivalent if their values for all keys in\n",
    "    the argument `dedup_on` match. If dicts in the list need be deduplicated, the\n",
    "    first dict in the list `list_of_dicts` should be kept.\n",
    "    \"\"\"\n",
    "    seen = set()\n",
    "    return [x for x in list_of_dicts if [tuple(x[tmp_key] for tmp_key in dedup_on) not in seen, seen.add(tuple(x[tmp_key] for tmp_key in dedup_on))][0]]\n",
    "\n",
    "\n",
    "\n",
    "thistuple = (\"apple\", \"banana\", \"cherry\")"
   ]
  },
  {
   "cell_type": "code",
   "execution_count": 2,
   "metadata": {},
   "outputs": [],
   "source": [
    "def thefourtheye_2(list_of_dicts: List[Dict]) -> List[Dict]:\n",
    "    return list({frozenset(item.items()):item for item in list_of_dicts}.values())"
   ]
  },
  {
   "cell_type": "code",
   "execution_count": 3,
   "metadata": {},
   "outputs": [],
   "source": [
    "list_of_ints: Tuple[int] = (6, 7, 8, 10, 8, 5)\n",
    "list_of_dicts: List[Dict] = [{\"Akash\" : 1}, {\"Kil\" : 2}, {\"Akshat\" : 3}, {\"Kil\" : 2}, {\"Akshat\" : 3}] "
   ]
  },
  {
   "cell_type": "code",
   "execution_count": 104,
   "metadata": {},
   "outputs": [
    {
     "data": {
      "text/plain": [
       "[{'Akash': 1}, {'Kil': 2}, {'Akshat': 3}]"
      ]
     },
     "execution_count": 104,
     "metadata": {},
     "output_type": "execute_result"
    }
   ],
   "source": [
    "list({frozenset(item.items()):item for item in list_of_dicts}.values())"
   ]
  },
  {
   "cell_type": "code",
   "execution_count": 108,
   "metadata": {},
   "outputs": [
    {
     "name": "stdout",
     "output_type": "stream",
     "text": [
      "dict_items([('Akash', 1)])\n",
      "dict_items([('Kil', 2)])\n",
      "dict_items([('Akshat', 3)])\n",
      "dict_items([('Kil', 2)])\n",
      "dict_items([('Akshat', 3)])\n"
     ]
    }
   ],
   "source": [
    "for item in list_of_dicts:\n",
    "    print (item.items())"
   ]
  },
  {
   "cell_type": "code",
   "execution_count": null,
   "metadata": {},
   "outputs": [],
   "source": []
  },
  {
   "cell_type": "code",
   "execution_count": 59,
   "metadata": {},
   "outputs": [
    {
     "data": {
      "text/plain": [
       "[{'Akash': 1}, {'Kil': 2}, {'Akshat': 3}, {'Kil': 2}, {'Akshat': 3}]"
      ]
     },
     "execution_count": 59,
     "metadata": {},
     "output_type": "execute_result"
    }
   ],
   "source": [
    "test = 'Akash'\n",
    "list_of_dicts"
   ]
  },
  {
   "cell_type": "code",
   "execution_count": 4,
   "metadata": {},
   "outputs": [
    {
     "data": {
      "text/plain": [
       "(5, 6, 7, 8, 10)"
      ]
     },
     "execution_count": 4,
     "metadata": {},
     "output_type": "execute_result"
    }
   ],
   "source": [
    "dedup_ints(list_of_ints)"
   ]
  },
  {
   "cell_type": "code",
   "execution_count": 5,
   "metadata": {},
   "outputs": [
    {
     "name": "stdout",
     "output_type": "stream",
     "text": [
      "Original list : [{'Akash': 1}, {'Kil': 3}, {'Akshat': 3}, {'Kil': 2}, {'Akshat': 3}]\n",
      "Resultant list is : [{'Akash': 1}, {'Kil': 3}, {'Kil': 2}, {'Akshat': 3}]\n"
     ]
    }
   ],
   "source": [
    "# initializing list \n",
    "test_list = [{\"Akash\" : 1}, {\"Kil\" : 3}, {\"Akshat\" : 3}, {\"Kil\" : 2}, {\"Akshat\" : 3}] \n",
    "  \n",
    "# printing original list  \n",
    "print (\"Original list : \" + str(test_list)) \n",
    "  \n",
    "# using list comprehension to  \n",
    "# remove duplicates  \n",
    "res_list = [i for n, i in enumerate(test_list) if i not in test_list[n + 1:]] \n",
    "  \n",
    "# printing resultant list \n",
    "print (\"Resultant list is : \" + str(res_list)) "
   ]
  },
  {
   "cell_type": "code",
   "execution_count": 6,
   "metadata": {},
   "outputs": [
    {
     "data": {
      "text/plain": [
       "[{'Akash': 1}, {'Kil': 2}, {'Akshat': 3}]"
      ]
     },
     "execution_count": 6,
     "metadata": {},
     "output_type": "execute_result"
    }
   ],
   "source": [
    "dedup_dicts(list_of_dicts)"
   ]
  },
  {
   "cell_type": "code",
   "execution_count": 7,
   "metadata": {},
   "outputs": [
    {
     "data": {
      "text/plain": [
       "[{'Akash': 1}, {'Kil': 2}, {'Akshat': 3}]"
      ]
     },
     "execution_count": 7,
     "metadata": {},
     "output_type": "execute_result"
    }
   ],
   "source": [
    "thefourtheye_2(list_of_dicts)"
   ]
  },
  {
   "cell_type": "code",
   "execution_count": null,
   "metadata": {},
   "outputs": [],
   "source": []
  },
  {
   "cell_type": "code",
   "execution_count": 9,
   "metadata": {},
   "outputs": [],
   "source": [
    "test_list_dicts = [\n",
    "    {\"a\": 1, \"b\": 3, \"c\": 4},\n",
    "    {\"a\": 1, \"b\": 3, \"c\": 4},\n",
    "    {\"a\": 1, \"b\": 3, \"c\": 5},\n",
    "]\n",
    "dedup_on = [\"a\", \"c\"]"
   ]
  },
  {
   "cell_type": "code",
   "execution_count": 11,
   "metadata": {},
   "outputs": [],
   "source": []
  },
  {
   "cell_type": "code",
   "execution_count": 12,
   "metadata": {},
   "outputs": [
    {
     "data": {
      "text/plain": [
       "[{'a': 1, 'b': 3, 'c': 4}, {'a': 1, 'b': 3, 'c': 5}]"
      ]
     },
     "execution_count": 12,
     "metadata": {},
     "output_type": "execute_result"
    }
   ],
   "source": [
    "seen = set()\n",
    "[x for x in test_list_dicts if [tuple(x[tmp_key] for tmp_key in dedup_on) not in seen, seen.add(tuple(x[tmp_key] for tmp_key in dedup_on))][0]]"
   ]
  },
  {
   "cell_type": "code",
   "execution_count": 13,
   "metadata": {},
   "outputs": [
    {
     "data": {
      "text/plain": [
       "{'a': 1, 'b': 3, 'c': 4}"
      ]
     },
     "execution_count": 13,
     "metadata": {},
     "output_type": "execute_result"
    }
   ],
   "source": [
    "test_list_dicts[0]"
   ]
  },
  {
   "cell_type": "code",
   "execution_count": 14,
   "metadata": {},
   "outputs": [],
   "source": [
    "dict_you_want = { your_key: test_list_dicts[0][your_key] for your_key in dedup_on }"
   ]
  },
  {
   "cell_type": "code",
   "execution_count": 15,
   "metadata": {},
   "outputs": [
    {
     "data": {
      "text/plain": [
       "{'a': 1, 'c': 4}"
      ]
     },
     "execution_count": 15,
     "metadata": {},
     "output_type": "execute_result"
    }
   ],
   "source": [
    "dict_you_want"
   ]
  },
  {
   "cell_type": "code",
   "execution_count": 16,
   "metadata": {},
   "outputs": [
    {
     "data": {
      "text/plain": [
       "[{'a': 1, 'b': 3, 'c': 4}, {'a': 1, 'b': 3, 'c': 4}, {'a': 1, 'b': 3, 'c': 5}]"
      ]
     },
     "execution_count": 16,
     "metadata": {},
     "output_type": "execute_result"
    }
   ],
   "source": [
    "test_list_dicts"
   ]
  },
  {
   "cell_type": "code",
   "execution_count": null,
   "metadata": {},
   "outputs": [],
   "source": []
  },
  {
   "cell_type": "code",
   "execution_count": 17,
   "metadata": {},
   "outputs": [
    {
     "data": {
      "text/plain": [
       "{1, 4}"
      ]
     },
     "execution_count": 17,
     "metadata": {},
     "output_type": "execute_result"
    }
   ],
   "source": [
    "{test_list_dicts[0][tmp_key] for tmp_key in dedup_on}"
   ]
  },
  {
   "cell_type": "code",
   "execution_count": null,
   "metadata": {},
   "outputs": [],
   "source": []
  },
  {
   "cell_type": "code",
   "execution_count": 110,
   "metadata": {},
   "outputs": [],
   "source": [
    "test_list_dicts = [\n",
    "    {\"a\": 1, \"b\": 3, \"c\": 4},\n",
    "    {\"a\": 1, \"b\": 3, \"c\": 4},\n",
    "    {\"a\": 1, \"b\": 3, \"c\": 5},\n",
    "]\n",
    "dedup_on = [\"a\", \"c\"]\n",
    "def dedup_dicts_on_key(list_of_dicts: List[Dict], dedup_on: List[str]) -> List[Dict]:\n",
    "    \"\"\"Deduplicate a list of dicts on a subset of keys only.\n",
    "\n",
    "    Dicts should only be considered equivalent if their values for all keys in\n",
    "    the argument `dedup_on` match. If dicts in the list need be deduplicated, the\n",
    "    first dict in the list `list_of_dicts` should be kept.\n",
    "    \"\"\"\n",
    "    seen = set()\n",
    "    return [x for x in test_list_dicts if [tuple(x[tmp_key] for tmp_key in dedup_on) not in seen, seen.add(tuple(x[tmp_key] for tmp_key in dedup_on))][0]]\n"
   ]
  },
  {
   "cell_type": "code",
   "execution_count": 111,
   "metadata": {},
   "outputs": [
    {
     "data": {
      "text/plain": [
       "[{'a': 1, 'b': 3, 'c': 4}, {'a': 1, 'b': 3, 'c': 5}]"
      ]
     },
     "execution_count": 111,
     "metadata": {},
     "output_type": "execute_result"
    }
   ],
   "source": [
    "dedup_dicts_on_key(test_list_dicts, ['c'])"
   ]
  },
  {
   "cell_type": "code",
   "execution_count": 109,
   "metadata": {},
   "outputs": [],
   "source": [
    "seen = set()"
   ]
  },
  {
   "cell_type": "code",
   "execution_count": 114,
   "metadata": {},
   "outputs": [
    {
     "data": {
      "text/plain": [
       "(False, None)"
      ]
     },
     "execution_count": 114,
     "metadata": {},
     "output_type": "execute_result"
    }
   ],
   "source": [
    "x = test_list_dicts[0]\n",
    "tuple(x[tmp_key] for tmp_key in dedup_on) not in seen, seen.add(tuple(x[tmp_key] for tmp_key in dedup_on))"
   ]
  },
  {
   "cell_type": "code",
   "execution_count": 115,
   "metadata": {},
   "outputs": [
    {
     "data": {
      "text/plain": [
       "{(1, 4)}"
      ]
     },
     "execution_count": 115,
     "metadata": {},
     "output_type": "execute_result"
    }
   ],
   "source": [
    "seen"
   ]
  },
  {
   "cell_type": "code",
   "execution_count": null,
   "metadata": {},
   "outputs": [],
   "source": []
  }
 ],
 "metadata": {
  "kernelspec": {
   "display_name": "Python 3",
   "language": "python",
   "name": "python3"
  },
  "language_info": {
   "codemirror_mode": {
    "name": "ipython",
    "version": 3
   },
   "file_extension": ".py",
   "mimetype": "text/x-python",
   "name": "python",
   "nbconvert_exporter": "python",
   "pygments_lexer": "ipython3",
   "version": "3.7.6"
  }
 },
 "nbformat": 4,
 "nbformat_minor": 4
}
